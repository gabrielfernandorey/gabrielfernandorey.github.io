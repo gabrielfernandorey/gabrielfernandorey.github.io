{
  "cells": [
    {
      "cell_type": "markdown",
      "metadata": {
        "id": "view-in-github",
        "colab_type": "text"
      },
      "source": [
        "<a href=\"https://colab.research.google.com/github/gabrielfernandorey/gabrielfernandorey.github.io/blob/main/projects/ML01/flight_delay.ipynb\" target=\"_parent\"><img src=\"https://colab.research.google.com/assets/colab-badge.svg\" alt=\"Open In Colab\"/></a>"
      ]
    },
    {
      "cell_type": "markdown",
      "id": "e6ae9307-ac99-4726-b118-13247b147e67",
      "metadata": {
        "id": "e6ae9307-ac99-4726-b118-13247b147e67"
      },
      "source": [
        "# Flight Delay\n",
        "##### Desarrollado por Gabriel Rey\n",
        "\n"
      ]
    },
    {
      "cell_type": "markdown",
      "source": [
        "El problema consiste en predecir la probabilidad de atraso de los vuelos que despegaron del aeropuerto de Santiago de Chile (SCL) con datos públicos y reales del año 2017. Para cada vuelo se cuenta con la siguiente información:\n",
        "\n",
        "- Fecha-I : Fecha y hora programada del vuelo.\n",
        "- Vlo-I : Número de vuelo programado.\n",
        "- Ori-I : Código de ciudad de origen programado.\n",
        "- Des-I : Código de ciudad de destino programado.\n",
        "- Emp-I : Código aerolínea de vuelo programado.\n",
        "- Fecha-O : Fecha y hora de operación del vuelo.\n",
        "- Vlo-O : Número de vuelo de operación del vuelo.\n",
        "- Ori-O : Código de ciudad de origen de operación\n",
        "- Des-O : Código de ciudad de destino de operación.\n",
        "- Emp-O : Código aerolínea de vuelo operado.\n",
        "- DIA : Día del mes de operación del vuelo.\n",
        "- MES : Número de mes de operación del vuelo.\n",
        "- AÑO : Año de operación del vuelo.\n",
        "- DIANOM : Día de la semana de operación del vuelo.\n",
        "- TIPOVUELO : Tipo de vuelo, I =Internacional, N =Nacional.\n",
        "- OPERA : Nombre de aerolínea que opera.\n",
        "- SIGLAORI : Nombre ciudad origen.\n",
        "- SIGLADES : Nombre ciudad destino.\n",
        "\n"
      ],
      "metadata": {
        "id": "ne18AspjQkGo"
      },
      "id": "ne18AspjQkGo"
    },
    {
      "cell_type": "markdown",
      "source": [
        "Información complementaria:\n",
        "- temporada_alta : entre 15-Dic y 3-Mar, o 15-Jul y 31-Jul, o 11-Sep y 30-Sep\n",
        "- atraso: se considera atraso si la diferencia entre la las variables Fecha-O y Fecha-I es mayor a 15 minutos\n",
        "- periodo_dia : se considera categorizar en { mañana (entre 5:00 y 11:59), tarde (entre 12:00 y 18:59) y noche (entre 19:00 y 4:59) }, en base a\n",
        "la variable Fecha-I"
      ],
      "metadata": {
        "id": "lPXnY1FZbgKv"
      },
      "id": "lPXnY1FZbgKv"
    },
    {
      "cell_type": "markdown",
      "source": [
        "---\n",
        "### Indice\n",
        "  - ##### Entendiendo el problema\n",
        "  - ##### EDA\n",
        "  - ##### Modelos\n",
        "---\n",
        "\n"
      ],
      "metadata": {
        "id": "eIZMWq9YBlzW"
      },
      "id": "eIZMWq9YBlzW"
    },
    {
      "cell_type": "markdown",
      "source": [
        "## Entendiendo el problema y los datos\n",
        "\n"
      ],
      "metadata": {
        "id": "MmhSTv7WpiAl"
      },
      "id": "MmhSTv7WpiAl"
    },
    {
      "cell_type": "code",
      "execution_count": 1,
      "id": "9b028c80-3591-4756-8067-6ff0b3d83dd3",
      "metadata": {
        "id": "9b028c80-3591-4756-8067-6ff0b3d83dd3"
      },
      "outputs": [],
      "source": [
        "import numpy as np\n",
        "import pandas as pd\n",
        "pd.options.display.max_columns = None\n",
        "import warnings\n",
        "warnings.filterwarnings(\"ignore\")\n",
        "\n",
        "import matplotlib.pyplot as plt\n",
        "import matplotlib.style as style\n",
        "import seaborn as sns"
      ]
    },
    {
      "cell_type": "code",
      "source": [
        "# Cargando los datos\n",
        "filename = 'https://raw.githubusercontent.com/gabrielfernandorey/gabrielfernandorey.github.io/main/projects/ML01/dataset_SCL.csv'\n",
        "df_raw = pd.read_csv(filename)\n",
        "df_raw.head(5)"
      ],
      "metadata": {
        "colab": {
          "base_uri": "https://localhost:8080/",
          "height": 206
        },
        "id": "dMv6IauBwKO8",
        "outputId": "feaa6f50-a26b-439d-a5e9-b198d0712b09"
      },
      "id": "dMv6IauBwKO8",
      "execution_count": 2,
      "outputs": [
        {
          "output_type": "execute_result",
          "data": {
            "text/plain": [
              "               Fecha-I Vlo-I Ori-I Des-I Emp-I              Fecha-O Vlo-O  \\\n",
              "0  2017-01-01 23:30:00   226  SCEL  KMIA   AAL  2017-01-01 23:33:00   226   \n",
              "1  2017-01-02 23:30:00   226  SCEL  KMIA   AAL  2017-01-02 23:39:00   226   \n",
              "2  2017-01-03 23:30:00   226  SCEL  KMIA   AAL  2017-01-03 23:39:00   226   \n",
              "3  2017-01-04 23:30:00   226  SCEL  KMIA   AAL  2017-01-04 23:33:00   226   \n",
              "4  2017-01-05 23:30:00   226  SCEL  KMIA   AAL  2017-01-05 23:28:00   226   \n",
              "\n",
              "  Ori-O Des-O Emp-O  DIA  MES   AÑO     DIANOM TIPOVUELO              OPERA  \\\n",
              "0  SCEL  KMIA   AAL    1    1  2017    Domingo         I  American Airlines   \n",
              "1  SCEL  KMIA   AAL    2    1  2017      Lunes         I  American Airlines   \n",
              "2  SCEL  KMIA   AAL    3    1  2017     Martes         I  American Airlines   \n",
              "3  SCEL  KMIA   AAL    4    1  2017  Miercoles         I  American Airlines   \n",
              "4  SCEL  KMIA   AAL    5    1  2017     Jueves         I  American Airlines   \n",
              "\n",
              "   SIGLAORI SIGLADES  \n",
              "0  Santiago    Miami  \n",
              "1  Santiago    Miami  \n",
              "2  Santiago    Miami  \n",
              "3  Santiago    Miami  \n",
              "4  Santiago    Miami  "
            ],
            "text/html": [
              "\n",
              "  <div id=\"df-df73692d-daf7-4b0e-985c-b4764e2a5eec\">\n",
              "    <div class=\"colab-df-container\">\n",
              "      <div>\n",
              "<style scoped>\n",
              "    .dataframe tbody tr th:only-of-type {\n",
              "        vertical-align: middle;\n",
              "    }\n",
              "\n",
              "    .dataframe tbody tr th {\n",
              "        vertical-align: top;\n",
              "    }\n",
              "\n",
              "    .dataframe thead th {\n",
              "        text-align: right;\n",
              "    }\n",
              "</style>\n",
              "<table border=\"1\" class=\"dataframe\">\n",
              "  <thead>\n",
              "    <tr style=\"text-align: right;\">\n",
              "      <th></th>\n",
              "      <th>Fecha-I</th>\n",
              "      <th>Vlo-I</th>\n",
              "      <th>Ori-I</th>\n",
              "      <th>Des-I</th>\n",
              "      <th>Emp-I</th>\n",
              "      <th>Fecha-O</th>\n",
              "      <th>Vlo-O</th>\n",
              "      <th>Ori-O</th>\n",
              "      <th>Des-O</th>\n",
              "      <th>Emp-O</th>\n",
              "      <th>DIA</th>\n",
              "      <th>MES</th>\n",
              "      <th>AÑO</th>\n",
              "      <th>DIANOM</th>\n",
              "      <th>TIPOVUELO</th>\n",
              "      <th>OPERA</th>\n",
              "      <th>SIGLAORI</th>\n",
              "      <th>SIGLADES</th>\n",
              "    </tr>\n",
              "  </thead>\n",
              "  <tbody>\n",
              "    <tr>\n",
              "      <th>0</th>\n",
              "      <td>2017-01-01 23:30:00</td>\n",
              "      <td>226</td>\n",
              "      <td>SCEL</td>\n",
              "      <td>KMIA</td>\n",
              "      <td>AAL</td>\n",
              "      <td>2017-01-01 23:33:00</td>\n",
              "      <td>226</td>\n",
              "      <td>SCEL</td>\n",
              "      <td>KMIA</td>\n",
              "      <td>AAL</td>\n",
              "      <td>1</td>\n",
              "      <td>1</td>\n",
              "      <td>2017</td>\n",
              "      <td>Domingo</td>\n",
              "      <td>I</td>\n",
              "      <td>American Airlines</td>\n",
              "      <td>Santiago</td>\n",
              "      <td>Miami</td>\n",
              "    </tr>\n",
              "    <tr>\n",
              "      <th>1</th>\n",
              "      <td>2017-01-02 23:30:00</td>\n",
              "      <td>226</td>\n",
              "      <td>SCEL</td>\n",
              "      <td>KMIA</td>\n",
              "      <td>AAL</td>\n",
              "      <td>2017-01-02 23:39:00</td>\n",
              "      <td>226</td>\n",
              "      <td>SCEL</td>\n",
              "      <td>KMIA</td>\n",
              "      <td>AAL</td>\n",
              "      <td>2</td>\n",
              "      <td>1</td>\n",
              "      <td>2017</td>\n",
              "      <td>Lunes</td>\n",
              "      <td>I</td>\n",
              "      <td>American Airlines</td>\n",
              "      <td>Santiago</td>\n",
              "      <td>Miami</td>\n",
              "    </tr>\n",
              "    <tr>\n",
              "      <th>2</th>\n",
              "      <td>2017-01-03 23:30:00</td>\n",
              "      <td>226</td>\n",
              "      <td>SCEL</td>\n",
              "      <td>KMIA</td>\n",
              "      <td>AAL</td>\n",
              "      <td>2017-01-03 23:39:00</td>\n",
              "      <td>226</td>\n",
              "      <td>SCEL</td>\n",
              "      <td>KMIA</td>\n",
              "      <td>AAL</td>\n",
              "      <td>3</td>\n",
              "      <td>1</td>\n",
              "      <td>2017</td>\n",
              "      <td>Martes</td>\n",
              "      <td>I</td>\n",
              "      <td>American Airlines</td>\n",
              "      <td>Santiago</td>\n",
              "      <td>Miami</td>\n",
              "    </tr>\n",
              "    <tr>\n",
              "      <th>3</th>\n",
              "      <td>2017-01-04 23:30:00</td>\n",
              "      <td>226</td>\n",
              "      <td>SCEL</td>\n",
              "      <td>KMIA</td>\n",
              "      <td>AAL</td>\n",
              "      <td>2017-01-04 23:33:00</td>\n",
              "      <td>226</td>\n",
              "      <td>SCEL</td>\n",
              "      <td>KMIA</td>\n",
              "      <td>AAL</td>\n",
              "      <td>4</td>\n",
              "      <td>1</td>\n",
              "      <td>2017</td>\n",
              "      <td>Miercoles</td>\n",
              "      <td>I</td>\n",
              "      <td>American Airlines</td>\n",
              "      <td>Santiago</td>\n",
              "      <td>Miami</td>\n",
              "    </tr>\n",
              "    <tr>\n",
              "      <th>4</th>\n",
              "      <td>2017-01-05 23:30:00</td>\n",
              "      <td>226</td>\n",
              "      <td>SCEL</td>\n",
              "      <td>KMIA</td>\n",
              "      <td>AAL</td>\n",
              "      <td>2017-01-05 23:28:00</td>\n",
              "      <td>226</td>\n",
              "      <td>SCEL</td>\n",
              "      <td>KMIA</td>\n",
              "      <td>AAL</td>\n",
              "      <td>5</td>\n",
              "      <td>1</td>\n",
              "      <td>2017</td>\n",
              "      <td>Jueves</td>\n",
              "      <td>I</td>\n",
              "      <td>American Airlines</td>\n",
              "      <td>Santiago</td>\n",
              "      <td>Miami</td>\n",
              "    </tr>\n",
              "  </tbody>\n",
              "</table>\n",
              "</div>\n",
              "      <button class=\"colab-df-convert\" onclick=\"convertToInteractive('df-df73692d-daf7-4b0e-985c-b4764e2a5eec')\"\n",
              "              title=\"Convert this dataframe to an interactive table.\"\n",
              "              style=\"display:none;\">\n",
              "        \n",
              "  <svg xmlns=\"http://www.w3.org/2000/svg\" height=\"24px\"viewBox=\"0 0 24 24\"\n",
              "       width=\"24px\">\n",
              "    <path d=\"M0 0h24v24H0V0z\" fill=\"none\"/>\n",
              "    <path d=\"M18.56 5.44l.94 2.06.94-2.06 2.06-.94-2.06-.94-.94-2.06-.94 2.06-2.06.94zm-11 1L8.5 8.5l.94-2.06 2.06-.94-2.06-.94L8.5 2.5l-.94 2.06-2.06.94zm10 10l.94 2.06.94-2.06 2.06-.94-2.06-.94-.94-2.06-.94 2.06-2.06.94z\"/><path d=\"M17.41 7.96l-1.37-1.37c-.4-.4-.92-.59-1.43-.59-.52 0-1.04.2-1.43.59L10.3 9.45l-7.72 7.72c-.78.78-.78 2.05 0 2.83L4 21.41c.39.39.9.59 1.41.59.51 0 1.02-.2 1.41-.59l7.78-7.78 2.81-2.81c.8-.78.8-2.07 0-2.86zM5.41 20L4 18.59l7.72-7.72 1.47 1.35L5.41 20z\"/>\n",
              "  </svg>\n",
              "      </button>\n",
              "      \n",
              "  <style>\n",
              "    .colab-df-container {\n",
              "      display:flex;\n",
              "      flex-wrap:wrap;\n",
              "      gap: 12px;\n",
              "    }\n",
              "\n",
              "    .colab-df-convert {\n",
              "      background-color: #E8F0FE;\n",
              "      border: none;\n",
              "      border-radius: 50%;\n",
              "      cursor: pointer;\n",
              "      display: none;\n",
              "      fill: #1967D2;\n",
              "      height: 32px;\n",
              "      padding: 0 0 0 0;\n",
              "      width: 32px;\n",
              "    }\n",
              "\n",
              "    .colab-df-convert:hover {\n",
              "      background-color: #E2EBFA;\n",
              "      box-shadow: 0px 1px 2px rgba(60, 64, 67, 0.3), 0px 1px 3px 1px rgba(60, 64, 67, 0.15);\n",
              "      fill: #174EA6;\n",
              "    }\n",
              "\n",
              "    [theme=dark] .colab-df-convert {\n",
              "      background-color: #3B4455;\n",
              "      fill: #D2E3FC;\n",
              "    }\n",
              "\n",
              "    [theme=dark] .colab-df-convert:hover {\n",
              "      background-color: #434B5C;\n",
              "      box-shadow: 0px 1px 3px 1px rgba(0, 0, 0, 0.15);\n",
              "      filter: drop-shadow(0px 1px 2px rgba(0, 0, 0, 0.3));\n",
              "      fill: #FFFFFF;\n",
              "    }\n",
              "  </style>\n",
              "\n",
              "      <script>\n",
              "        const buttonEl =\n",
              "          document.querySelector('#df-df73692d-daf7-4b0e-985c-b4764e2a5eec button.colab-df-convert');\n",
              "        buttonEl.style.display =\n",
              "          google.colab.kernel.accessAllowed ? 'block' : 'none';\n",
              "\n",
              "        async function convertToInteractive(key) {\n",
              "          const element = document.querySelector('#df-df73692d-daf7-4b0e-985c-b4764e2a5eec');\n",
              "          const dataTable =\n",
              "            await google.colab.kernel.invokeFunction('convertToInteractive',\n",
              "                                                     [key], {});\n",
              "          if (!dataTable) return;\n",
              "\n",
              "          const docLinkHtml = 'Like what you see? Visit the ' +\n",
              "            '<a target=\"_blank\" href=https://colab.research.google.com/notebooks/data_table.ipynb>data table notebook</a>'\n",
              "            + ' to learn more about interactive tables.';\n",
              "          element.innerHTML = '';\n",
              "          dataTable['output_type'] = 'display_data';\n",
              "          await google.colab.output.renderOutput(dataTable, element);\n",
              "          const docLink = document.createElement('div');\n",
              "          docLink.innerHTML = docLinkHtml;\n",
              "          element.appendChild(docLink);\n",
              "        }\n",
              "      </script>\n",
              "    </div>\n",
              "  </div>\n",
              "  "
            ]
          },
          "metadata": {},
          "execution_count": 2
        }
      ]
    },
    {
      "cell_type": "markdown",
      "source": [
        "## EDA"
      ],
      "metadata": {
        "id": "qTibUifTqrnn"
      },
      "id": "qTibUifTqrnn"
    },
    {
      "cell_type": "code",
      "source": [
        "# Tipo de datos\n",
        "df_raw.info()"
      ],
      "metadata": {
        "id": "lNIPjiuCawkH",
        "outputId": "bd28c31d-ce5a-40b0-e95f-386e4b68221f",
        "colab": {
          "base_uri": "https://localhost:8080/"
        }
      },
      "id": "lNIPjiuCawkH",
      "execution_count": 3,
      "outputs": [
        {
          "output_type": "stream",
          "name": "stdout",
          "text": [
            "<class 'pandas.core.frame.DataFrame'>\n",
            "RangeIndex: 68206 entries, 0 to 68205\n",
            "Data columns (total 18 columns):\n",
            " #   Column     Non-Null Count  Dtype \n",
            "---  ------     --------------  ----- \n",
            " 0   Fecha-I    68206 non-null  object\n",
            " 1   Vlo-I      68206 non-null  object\n",
            " 2   Ori-I      68206 non-null  object\n",
            " 3   Des-I      68206 non-null  object\n",
            " 4   Emp-I      68206 non-null  object\n",
            " 5   Fecha-O    68206 non-null  object\n",
            " 6   Vlo-O      68205 non-null  object\n",
            " 7   Ori-O      68206 non-null  object\n",
            " 8   Des-O      68206 non-null  object\n",
            " 9   Emp-O      68206 non-null  object\n",
            " 10  DIA        68206 non-null  int64 \n",
            " 11  MES        68206 non-null  int64 \n",
            " 12  AÑO        68206 non-null  int64 \n",
            " 13  DIANOM     68206 non-null  object\n",
            " 14  TIPOVUELO  68206 non-null  object\n",
            " 15  OPERA      68206 non-null  object\n",
            " 16  SIGLAORI   68206 non-null  object\n",
            " 17  SIGLADES   68206 non-null  object\n",
            "dtypes: int64(3), object(15)\n",
            "memory usage: 9.4+ MB\n"
          ]
        }
      ]
    },
    {
      "cell_type": "code",
      "source": [
        "# Valores nulos\n",
        "df_raw.isnull().sum()"
      ],
      "metadata": {
        "colab": {
          "base_uri": "https://localhost:8080/"
        },
        "id": "qi47T_8F6sph",
        "outputId": "1978f1de-df10-4e16-c216-dc0a4cafa0b2"
      },
      "id": "qi47T_8F6sph",
      "execution_count": 4,
      "outputs": [
        {
          "output_type": "execute_result",
          "data": {
            "text/plain": [
              "Fecha-I      0\n",
              "Vlo-I        0\n",
              "Ori-I        0\n",
              "Des-I        0\n",
              "Emp-I        0\n",
              "Fecha-O      0\n",
              "Vlo-O        1\n",
              "Ori-O        0\n",
              "Des-O        0\n",
              "Emp-O        0\n",
              "DIA          0\n",
              "MES          0\n",
              "AÑO          0\n",
              "DIANOM       0\n",
              "TIPOVUELO    0\n",
              "OPERA        0\n",
              "SIGLAORI     0\n",
              "SIGLADES     0\n",
              "dtype: int64"
            ]
          },
          "metadata": {},
          "execution_count": 4
        }
      ]
    },
    {
      "cell_type": "markdown",
      "source": [
        "Se detecta un valor nulo y se procede a su tratamiento"
      ],
      "metadata": {
        "id": "lVWRb5MgW7qv"
      },
      "id": "lVWRb5MgW7qv"
    },
    {
      "cell_type": "code",
      "source": [
        "# Registro con valor nulo en Vlo-O\n",
        "df_raw[df_raw['Vlo-O'].isnull()]"
      ],
      "metadata": {
        "colab": {
          "base_uri": "https://localhost:8080/",
          "height": 81
        },
        "id": "5tR7JvwS7Pc_",
        "outputId": "e2bb75c6-508e-4e66-d4db-9222c967c186"
      },
      "id": "5tR7JvwS7Pc_",
      "execution_count": 5,
      "outputs": [
        {
          "output_type": "execute_result",
          "data": {
            "text/plain": [
              "                  Fecha-I Vlo-I Ori-I Des-I Emp-I              Fecha-O Vlo-O  \\\n",
              "6068  2017-01-19 11:00:00   200  SCEL  SPJC   LAW  2017-01-19 11:03:00   NaN   \n",
              "\n",
              "     Ori-O Des-O Emp-O  DIA  MES   AÑO  DIANOM TIPOVUELO  \\\n",
              "6068  SCEL  SPJC   56R   19    1  2017  Jueves         I   \n",
              "\n",
              "                     OPERA  SIGLAORI SIGLADES  \n",
              "6068  Latin American Wings  Santiago     Lima  "
            ],
            "text/html": [
              "\n",
              "  <div id=\"df-1fa862ee-72e1-4960-ac91-3eaab4e017fe\">\n",
              "    <div class=\"colab-df-container\">\n",
              "      <div>\n",
              "<style scoped>\n",
              "    .dataframe tbody tr th:only-of-type {\n",
              "        vertical-align: middle;\n",
              "    }\n",
              "\n",
              "    .dataframe tbody tr th {\n",
              "        vertical-align: top;\n",
              "    }\n",
              "\n",
              "    .dataframe thead th {\n",
              "        text-align: right;\n",
              "    }\n",
              "</style>\n",
              "<table border=\"1\" class=\"dataframe\">\n",
              "  <thead>\n",
              "    <tr style=\"text-align: right;\">\n",
              "      <th></th>\n",
              "      <th>Fecha-I</th>\n",
              "      <th>Vlo-I</th>\n",
              "      <th>Ori-I</th>\n",
              "      <th>Des-I</th>\n",
              "      <th>Emp-I</th>\n",
              "      <th>Fecha-O</th>\n",
              "      <th>Vlo-O</th>\n",
              "      <th>Ori-O</th>\n",
              "      <th>Des-O</th>\n",
              "      <th>Emp-O</th>\n",
              "      <th>DIA</th>\n",
              "      <th>MES</th>\n",
              "      <th>AÑO</th>\n",
              "      <th>DIANOM</th>\n",
              "      <th>TIPOVUELO</th>\n",
              "      <th>OPERA</th>\n",
              "      <th>SIGLAORI</th>\n",
              "      <th>SIGLADES</th>\n",
              "    </tr>\n",
              "  </thead>\n",
              "  <tbody>\n",
              "    <tr>\n",
              "      <th>6068</th>\n",
              "      <td>2017-01-19 11:00:00</td>\n",
              "      <td>200</td>\n",
              "      <td>SCEL</td>\n",
              "      <td>SPJC</td>\n",
              "      <td>LAW</td>\n",
              "      <td>2017-01-19 11:03:00</td>\n",
              "      <td>NaN</td>\n",
              "      <td>SCEL</td>\n",
              "      <td>SPJC</td>\n",
              "      <td>56R</td>\n",
              "      <td>19</td>\n",
              "      <td>1</td>\n",
              "      <td>2017</td>\n",
              "      <td>Jueves</td>\n",
              "      <td>I</td>\n",
              "      <td>Latin American Wings</td>\n",
              "      <td>Santiago</td>\n",
              "      <td>Lima</td>\n",
              "    </tr>\n",
              "  </tbody>\n",
              "</table>\n",
              "</div>\n",
              "      <button class=\"colab-df-convert\" onclick=\"convertToInteractive('df-1fa862ee-72e1-4960-ac91-3eaab4e017fe')\"\n",
              "              title=\"Convert this dataframe to an interactive table.\"\n",
              "              style=\"display:none;\">\n",
              "        \n",
              "  <svg xmlns=\"http://www.w3.org/2000/svg\" height=\"24px\"viewBox=\"0 0 24 24\"\n",
              "       width=\"24px\">\n",
              "    <path d=\"M0 0h24v24H0V0z\" fill=\"none\"/>\n",
              "    <path d=\"M18.56 5.44l.94 2.06.94-2.06 2.06-.94-2.06-.94-.94-2.06-.94 2.06-2.06.94zm-11 1L8.5 8.5l.94-2.06 2.06-.94-2.06-.94L8.5 2.5l-.94 2.06-2.06.94zm10 10l.94 2.06.94-2.06 2.06-.94-2.06-.94-.94-2.06-.94 2.06-2.06.94z\"/><path d=\"M17.41 7.96l-1.37-1.37c-.4-.4-.92-.59-1.43-.59-.52 0-1.04.2-1.43.59L10.3 9.45l-7.72 7.72c-.78.78-.78 2.05 0 2.83L4 21.41c.39.39.9.59 1.41.59.51 0 1.02-.2 1.41-.59l7.78-7.78 2.81-2.81c.8-.78.8-2.07 0-2.86zM5.41 20L4 18.59l7.72-7.72 1.47 1.35L5.41 20z\"/>\n",
              "  </svg>\n",
              "      </button>\n",
              "      \n",
              "  <style>\n",
              "    .colab-df-container {\n",
              "      display:flex;\n",
              "      flex-wrap:wrap;\n",
              "      gap: 12px;\n",
              "    }\n",
              "\n",
              "    .colab-df-convert {\n",
              "      background-color: #E8F0FE;\n",
              "      border: none;\n",
              "      border-radius: 50%;\n",
              "      cursor: pointer;\n",
              "      display: none;\n",
              "      fill: #1967D2;\n",
              "      height: 32px;\n",
              "      padding: 0 0 0 0;\n",
              "      width: 32px;\n",
              "    }\n",
              "\n",
              "    .colab-df-convert:hover {\n",
              "      background-color: #E2EBFA;\n",
              "      box-shadow: 0px 1px 2px rgba(60, 64, 67, 0.3), 0px 1px 3px 1px rgba(60, 64, 67, 0.15);\n",
              "      fill: #174EA6;\n",
              "    }\n",
              "\n",
              "    [theme=dark] .colab-df-convert {\n",
              "      background-color: #3B4455;\n",
              "      fill: #D2E3FC;\n",
              "    }\n",
              "\n",
              "    [theme=dark] .colab-df-convert:hover {\n",
              "      background-color: #434B5C;\n",
              "      box-shadow: 0px 1px 3px 1px rgba(0, 0, 0, 0.15);\n",
              "      filter: drop-shadow(0px 1px 2px rgba(0, 0, 0, 0.3));\n",
              "      fill: #FFFFFF;\n",
              "    }\n",
              "  </style>\n",
              "\n",
              "      <script>\n",
              "        const buttonEl =\n",
              "          document.querySelector('#df-1fa862ee-72e1-4960-ac91-3eaab4e017fe button.colab-df-convert');\n",
              "        buttonEl.style.display =\n",
              "          google.colab.kernel.accessAllowed ? 'block' : 'none';\n",
              "\n",
              "        async function convertToInteractive(key) {\n",
              "          const element = document.querySelector('#df-1fa862ee-72e1-4960-ac91-3eaab4e017fe');\n",
              "          const dataTable =\n",
              "            await google.colab.kernel.invokeFunction('convertToInteractive',\n",
              "                                                     [key], {});\n",
              "          if (!dataTable) return;\n",
              "\n",
              "          const docLinkHtml = 'Like what you see? Visit the ' +\n",
              "            '<a target=\"_blank\" href=https://colab.research.google.com/notebooks/data_table.ipynb>data table notebook</a>'\n",
              "            + ' to learn more about interactive tables.';\n",
              "          element.innerHTML = '';\n",
              "          dataTable['output_type'] = 'display_data';\n",
              "          await google.colab.output.renderOutput(dataTable, element);\n",
              "          const docLink = document.createElement('div');\n",
              "          docLink.innerHTML = docLinkHtml;\n",
              "          element.appendChild(docLink);\n",
              "        }\n",
              "      </script>\n",
              "    </div>\n",
              "  </div>\n",
              "  "
            ]
          },
          "metadata": {},
          "execution_count": 5
        }
      ]
    },
    {
      "cell_type": "markdown",
      "source": [
        "Para tratar el valor nulo primero se procede a validar la relacion entre la variable Vlo-I (Número de vuelo programado) y Vlo-O (Número de vuelo de operación del vuelo), se valida la similitud."
      ],
      "metadata": {
        "id": "DRpcdPyAXeoq"
      },
      "id": "DRpcdPyAXeoq"
    },
    {
      "cell_type": "code",
      "source": [
        "# Validar si hay diferencias de valores entre Vlo-I y Vlo-O\n",
        "diferencias = df_raw[df_raw['Vlo-I'] != df_raw['Vlo-O']]\n",
        "diferencias.count()"
      ],
      "metadata": {
        "colab": {
          "base_uri": "https://localhost:8080/"
        },
        "id": "QiIg4CMw9RLc",
        "outputId": "7c8b19ab-460e-4459-f026-e028536723d5"
      },
      "id": "QiIg4CMw9RLc",
      "execution_count": 6,
      "outputs": [
        {
          "output_type": "execute_result",
          "data": {
            "text/plain": [
              "Fecha-I      1850\n",
              "Vlo-I        1850\n",
              "Ori-I        1850\n",
              "Des-I        1850\n",
              "Emp-I        1850\n",
              "Fecha-O      1850\n",
              "Vlo-O        1849\n",
              "Ori-O        1850\n",
              "Des-O        1850\n",
              "Emp-O        1850\n",
              "DIA          1850\n",
              "MES          1850\n",
              "AÑO          1850\n",
              "DIANOM       1850\n",
              "TIPOVUELO    1850\n",
              "OPERA        1850\n",
              "SIGLAORI     1850\n",
              "SIGLADES     1850\n",
              "dtype: int64"
            ]
          },
          "metadata": {},
          "execution_count": 6
        }
      ]
    },
    {
      "cell_type": "markdown",
      "source": [
        "Existen 1850 filas que difieren en valor entre las columnas estudiadas. Esto representa casi un 3% del total de los datos por lo tanto estos registros no serán descartados.\n"
      ],
      "metadata": {
        "id": "fcNnMWxO_FYC"
      },
      "id": "fcNnMWxO_FYC"
    },
    {
      "cell_type": "markdown",
      "source": [
        "Con respecto al valor nulo detectado, se resolverá mediante la imputacion del mismo valor que tiene Vlo-I, ya que el 97% de los casos del dataset existe similitud de valores entre estas variables y por ser un único valor a imputar no impactará en la validez de los datos."
      ],
      "metadata": {
        "id": "67Xq8Q7z7F0a"
      },
      "id": "67Xq8Q7z7F0a"
    },
    {
      "cell_type": "code",
      "source": [
        "df_raw.at[6068,'Vlo-O'] = '200'\n",
        "df_raw.loc[6068]"
      ],
      "metadata": {
        "colab": {
          "base_uri": "https://localhost:8080/"
        },
        "id": "IKQuC52XDaZk",
        "outputId": "b1683f1c-5c3b-4816-d03c-8caccd7b0a56"
      },
      "id": "IKQuC52XDaZk",
      "execution_count": 7,
      "outputs": [
        {
          "output_type": "execute_result",
          "data": {
            "text/plain": [
              "Fecha-I       2017-01-19 11:00:00\n",
              "Vlo-I                         200\n",
              "Ori-I                        SCEL\n",
              "Des-I                        SPJC\n",
              "Emp-I                         LAW\n",
              "Fecha-O       2017-01-19 11:03:00\n",
              "Vlo-O                         200\n",
              "Ori-O                        SCEL\n",
              "Des-O                        SPJC\n",
              "Emp-O                         56R\n",
              "DIA                            19\n",
              "MES                             1\n",
              "AÑO                          2017\n",
              "DIANOM                     Jueves\n",
              "TIPOVUELO                       I\n",
              "OPERA        Latin American Wings\n",
              "SIGLAORI                 Santiago\n",
              "SIGLADES                     Lima\n",
              "Name: 6068, dtype: object"
            ]
          },
          "metadata": {},
          "execution_count": 7
        }
      ]
    },
    {
      "cell_type": "code",
      "source": [
        "# Buscamos si hay diferencias entre las variables Ori-I y Ori-O\n",
        "diferencias = df_raw[df_raw['Ori-I'] != df_raw['Ori-O']]\n",
        "diferencias.count()"
      ],
      "metadata": {
        "colab": {
          "base_uri": "https://localhost:8080/"
        },
        "id": "qna9Omh49135",
        "outputId": "ef637798-8e66-4aca-f43d-885b371d832c"
      },
      "id": "qna9Omh49135",
      "execution_count": 8,
      "outputs": [
        {
          "output_type": "execute_result",
          "data": {
            "text/plain": [
              "Fecha-I      0\n",
              "Vlo-I        0\n",
              "Ori-I        0\n",
              "Des-I        0\n",
              "Emp-I        0\n",
              "Fecha-O      0\n",
              "Vlo-O        0\n",
              "Ori-O        0\n",
              "Des-O        0\n",
              "Emp-O        0\n",
              "DIA          0\n",
              "MES          0\n",
              "AÑO          0\n",
              "DIANOM       0\n",
              "TIPOVUELO    0\n",
              "OPERA        0\n",
              "SIGLAORI     0\n",
              "SIGLADES     0\n",
              "dtype: int64"
            ]
          },
          "metadata": {},
          "execution_count": 8
        }
      ]
    },
    {
      "cell_type": "markdown",
      "source": [
        "Podemos prescindir de la columna Ori-O ya que no presenta diferencias entre ambas columnas"
      ],
      "metadata": {
        "id": "rmRqAtff_8AS"
      },
      "id": "rmRqAtff_8AS"
    },
    {
      "cell_type": "code",
      "source": [
        "df_raw = df_raw.drop(\"Ori-O\", axis=1)"
      ],
      "metadata": {
        "id": "wkf8fyeyA4sK"
      },
      "id": "wkf8fyeyA4sK",
      "execution_count": 9,
      "outputs": []
    },
    {
      "cell_type": "code",
      "source": [
        "# Buscamos otras diferencias entre las variables Desi-I y Des-O\n",
        "diferencias = df_raw[df_raw['Des-I'] != df_raw['Des-O']]\n",
        "diferencias.count()"
      ],
      "metadata": {
        "colab": {
          "base_uri": "https://localhost:8080/"
        },
        "id": "ZVCFOd7CAF4t",
        "outputId": "856e7939-a70e-4967-f8ac-1630b5736d76"
      },
      "id": "ZVCFOd7CAF4t",
      "execution_count": 10,
      "outputs": [
        {
          "output_type": "execute_result",
          "data": {
            "text/plain": [
              "Fecha-I      28\n",
              "Vlo-I        28\n",
              "Ori-I        28\n",
              "Des-I        28\n",
              "Emp-I        28\n",
              "Fecha-O      28\n",
              "Vlo-O        28\n",
              "Des-O        28\n",
              "Emp-O        28\n",
              "DIA          28\n",
              "MES          28\n",
              "AÑO          28\n",
              "DIANOM       28\n",
              "TIPOVUELO    28\n",
              "OPERA        28\n",
              "SIGLAORI     28\n",
              "SIGLADES     28\n",
              "dtype: int64"
            ]
          },
          "metadata": {},
          "execution_count": 10
        }
      ]
    },
    {
      "cell_type": "markdown",
      "source": [
        "Encontramos diferencias y preservamos ambas columnas"
      ],
      "metadata": {
        "id": "R66mbbIsZfg0"
      },
      "id": "R66mbbIsZfg0"
    },
    {
      "cell_type": "code",
      "source": [
        "# Buscamos otras diferencias entre Emp-I y Emp-O\n",
        "diferencias = df_raw[df_raw['Emp-I'] != df_raw['Emp-O']]\n",
        "diferencias.count()"
      ],
      "metadata": {
        "colab": {
          "base_uri": "https://localhost:8080/"
        },
        "id": "FA1v6Ro6ATjZ",
        "outputId": "bfee62c0-79d3-426a-9d7f-e626292ab050"
      },
      "id": "FA1v6Ro6ATjZ",
      "execution_count": 11,
      "outputs": [
        {
          "output_type": "execute_result",
          "data": {
            "text/plain": [
              "Fecha-I      18669\n",
              "Vlo-I        18669\n",
              "Ori-I        18669\n",
              "Des-I        18669\n",
              "Emp-I        18669\n",
              "Fecha-O      18669\n",
              "Vlo-O        18669\n",
              "Des-O        18669\n",
              "Emp-O        18669\n",
              "DIA          18669\n",
              "MES          18669\n",
              "AÑO          18669\n",
              "DIANOM       18669\n",
              "TIPOVUELO    18669\n",
              "OPERA        18669\n",
              "SIGLAORI     18669\n",
              "SIGLADES     18669\n",
              "dtype: int64"
            ]
          },
          "metadata": {},
          "execution_count": 11
        }
      ]
    },
    {
      "cell_type": "markdown",
      "source": [
        "Encontramos 18669 registros en donde difieren Emp-I y Emp-O, preservamos ambas columnas"
      ],
      "metadata": {
        "id": "1AGbwg39RGEL"
      },
      "id": "1AGbwg39RGEL"
    },
    {
      "cell_type": "code",
      "source": [
        "# Año/s de ocurrencia de los vuelos\n",
        "df_raw.AÑO.value_counts()\n"
      ],
      "metadata": {
        "colab": {
          "base_uri": "https://localhost:8080/"
        },
        "id": "YUEyJ9I-TczE",
        "outputId": "994a8387-b165-4b1f-ce4c-09fcf628b1d7"
      },
      "id": "YUEyJ9I-TczE",
      "execution_count": 12,
      "outputs": [
        {
          "output_type": "execute_result",
          "data": {
            "text/plain": [
              "2017    68204\n",
              "2018        2\n",
              "Name: AÑO, dtype: int64"
            ]
          },
          "metadata": {},
          "execution_count": 12
        }
      ]
    },
    {
      "cell_type": "code",
      "source": [
        "print('Fecha mínima dataset:', min(df_raw['Fecha-I']))\n",
        "print('Fecha máxima dataset:', max(df_raw['Fecha-I']))"
      ],
      "metadata": {
        "colab": {
          "base_uri": "https://localhost:8080/"
        },
        "id": "hl6NvSGGFaqA",
        "outputId": "6ed1d628-a657-4940-a99a-4487cf5be0e3"
      },
      "id": "hl6NvSGGFaqA",
      "execution_count": 13,
      "outputs": [
        {
          "output_type": "stream",
          "name": "stdout",
          "text": [
            "Fecha mínima dataset: 2017-01-01 00:15:00\n",
            "Fecha máxima dataset: 2017-12-31 23:55:00\n"
          ]
        }
      ]
    },
    {
      "cell_type": "markdown",
      "source": [
        "Los datos son desde enero a diciembre de 2017, la columna AÑO por excepcion presenta 2 casos donde el año es 2018 correspondiente al 31-12-2017."
      ],
      "metadata": {
        "id": "m3tk0ekAUyTR"
      },
      "id": "m3tk0ekAUyTR"
    },
    {
      "cell_type": "code",
      "source": [
        "# Validar si ORI-I contiene solo el valor SCEL (Santiago de Chile)\n",
        "df_raw[(df_raw['Ori-I'] == 'SCEL')]"
      ],
      "metadata": {
        "colab": {
          "base_uri": "https://localhost:8080/",
          "height": 423
        },
        "id": "TcWzUqifTc_E",
        "outputId": "389feefd-7879-49e5-939f-5136c3e90891"
      },
      "id": "TcWzUqifTc_E",
      "execution_count": 14,
      "outputs": [
        {
          "output_type": "execute_result",
          "data": {
            "text/plain": [
              "                   Fecha-I Vlo-I Ori-I Des-I Emp-I              Fecha-O  \\\n",
              "0      2017-01-01 23:30:00   226  SCEL  KMIA   AAL  2017-01-01 23:33:00   \n",
              "1      2017-01-02 23:30:00   226  SCEL  KMIA   AAL  2017-01-02 23:39:00   \n",
              "2      2017-01-03 23:30:00   226  SCEL  KMIA   AAL  2017-01-03 23:39:00   \n",
              "3      2017-01-04 23:30:00   226  SCEL  KMIA   AAL  2017-01-04 23:33:00   \n",
              "4      2017-01-05 23:30:00   226  SCEL  KMIA   AAL  2017-01-05 23:28:00   \n",
              "...                    ...   ...   ...   ...   ...                  ...   \n",
              "68201  2017-12-22 14:55:00   400  SCEL  SPJC   JAT  2017-12-22 15:41:00   \n",
              "68202  2017-12-25 14:55:00   400  SCEL  SPJC   JAT  2017-12-25 15:11:00   \n",
              "68203  2017-12-27 14:55:00   400  SCEL  SPJC   JAT  2017-12-27 15:35:00   \n",
              "68204  2017-12-29 14:55:00   400  SCEL  SPJC   JAT  2017-12-29 15:08:00   \n",
              "68205  2017-12-31 14:55:00   400  SCEL  SPJC   JAT  2017-12-31 15:04:00   \n",
              "\n",
              "       Vlo-O Des-O Emp-O  DIA  MES   AÑO     DIANOM TIPOVUELO  \\\n",
              "0        226  KMIA   AAL    1    1  2017    Domingo         I   \n",
              "1        226  KMIA   AAL    2    1  2017      Lunes         I   \n",
              "2        226  KMIA   AAL    3    1  2017     Martes         I   \n",
              "3        226  KMIA   AAL    4    1  2017  Miercoles         I   \n",
              "4        226  KMIA   AAL    5    1  2017     Jueves         I   \n",
              "...      ...   ...   ...  ...  ...   ...        ...       ...   \n",
              "68201  400.0  SPJC   JAT   22   12  2017    Viernes         I   \n",
              "68202  400.0  SPJC   JAT   25   12  2017      Lunes         I   \n",
              "68203  400.0  SPJC   JAT   27   12  2017  Miercoles         I   \n",
              "68204  400.0  SPJC   JAT   29   12  2017    Viernes         I   \n",
              "68205  400.0  SPJC   JAT   31   12  2017    Domingo         I   \n",
              "\n",
              "                   OPERA  SIGLAORI SIGLADES  \n",
              "0      American Airlines  Santiago    Miami  \n",
              "1      American Airlines  Santiago    Miami  \n",
              "2      American Airlines  Santiago    Miami  \n",
              "3      American Airlines  Santiago    Miami  \n",
              "4      American Airlines  Santiago    Miami  \n",
              "...                  ...       ...      ...  \n",
              "68201       JetSmart SPA  Santiago     Lima  \n",
              "68202       JetSmart SPA  Santiago     Lima  \n",
              "68203       JetSmart SPA  Santiago     Lima  \n",
              "68204       JetSmart SPA  Santiago     Lima  \n",
              "68205       JetSmart SPA  Santiago     Lima  \n",
              "\n",
              "[68206 rows x 17 columns]"
            ],
            "text/html": [
              "\n",
              "  <div id=\"df-e83139b8-4921-47a0-b32f-12673895a238\">\n",
              "    <div class=\"colab-df-container\">\n",
              "      <div>\n",
              "<style scoped>\n",
              "    .dataframe tbody tr th:only-of-type {\n",
              "        vertical-align: middle;\n",
              "    }\n",
              "\n",
              "    .dataframe tbody tr th {\n",
              "        vertical-align: top;\n",
              "    }\n",
              "\n",
              "    .dataframe thead th {\n",
              "        text-align: right;\n",
              "    }\n",
              "</style>\n",
              "<table border=\"1\" class=\"dataframe\">\n",
              "  <thead>\n",
              "    <tr style=\"text-align: right;\">\n",
              "      <th></th>\n",
              "      <th>Fecha-I</th>\n",
              "      <th>Vlo-I</th>\n",
              "      <th>Ori-I</th>\n",
              "      <th>Des-I</th>\n",
              "      <th>Emp-I</th>\n",
              "      <th>Fecha-O</th>\n",
              "      <th>Vlo-O</th>\n",
              "      <th>Des-O</th>\n",
              "      <th>Emp-O</th>\n",
              "      <th>DIA</th>\n",
              "      <th>MES</th>\n",
              "      <th>AÑO</th>\n",
              "      <th>DIANOM</th>\n",
              "      <th>TIPOVUELO</th>\n",
              "      <th>OPERA</th>\n",
              "      <th>SIGLAORI</th>\n",
              "      <th>SIGLADES</th>\n",
              "    </tr>\n",
              "  </thead>\n",
              "  <tbody>\n",
              "    <tr>\n",
              "      <th>0</th>\n",
              "      <td>2017-01-01 23:30:00</td>\n",
              "      <td>226</td>\n",
              "      <td>SCEL</td>\n",
              "      <td>KMIA</td>\n",
              "      <td>AAL</td>\n",
              "      <td>2017-01-01 23:33:00</td>\n",
              "      <td>226</td>\n",
              "      <td>KMIA</td>\n",
              "      <td>AAL</td>\n",
              "      <td>1</td>\n",
              "      <td>1</td>\n",
              "      <td>2017</td>\n",
              "      <td>Domingo</td>\n",
              "      <td>I</td>\n",
              "      <td>American Airlines</td>\n",
              "      <td>Santiago</td>\n",
              "      <td>Miami</td>\n",
              "    </tr>\n",
              "    <tr>\n",
              "      <th>1</th>\n",
              "      <td>2017-01-02 23:30:00</td>\n",
              "      <td>226</td>\n",
              "      <td>SCEL</td>\n",
              "      <td>KMIA</td>\n",
              "      <td>AAL</td>\n",
              "      <td>2017-01-02 23:39:00</td>\n",
              "      <td>226</td>\n",
              "      <td>KMIA</td>\n",
              "      <td>AAL</td>\n",
              "      <td>2</td>\n",
              "      <td>1</td>\n",
              "      <td>2017</td>\n",
              "      <td>Lunes</td>\n",
              "      <td>I</td>\n",
              "      <td>American Airlines</td>\n",
              "      <td>Santiago</td>\n",
              "      <td>Miami</td>\n",
              "    </tr>\n",
              "    <tr>\n",
              "      <th>2</th>\n",
              "      <td>2017-01-03 23:30:00</td>\n",
              "      <td>226</td>\n",
              "      <td>SCEL</td>\n",
              "      <td>KMIA</td>\n",
              "      <td>AAL</td>\n",
              "      <td>2017-01-03 23:39:00</td>\n",
              "      <td>226</td>\n",
              "      <td>KMIA</td>\n",
              "      <td>AAL</td>\n",
              "      <td>3</td>\n",
              "      <td>1</td>\n",
              "      <td>2017</td>\n",
              "      <td>Martes</td>\n",
              "      <td>I</td>\n",
              "      <td>American Airlines</td>\n",
              "      <td>Santiago</td>\n",
              "      <td>Miami</td>\n",
              "    </tr>\n",
              "    <tr>\n",
              "      <th>3</th>\n",
              "      <td>2017-01-04 23:30:00</td>\n",
              "      <td>226</td>\n",
              "      <td>SCEL</td>\n",
              "      <td>KMIA</td>\n",
              "      <td>AAL</td>\n",
              "      <td>2017-01-04 23:33:00</td>\n",
              "      <td>226</td>\n",
              "      <td>KMIA</td>\n",
              "      <td>AAL</td>\n",
              "      <td>4</td>\n",
              "      <td>1</td>\n",
              "      <td>2017</td>\n",
              "      <td>Miercoles</td>\n",
              "      <td>I</td>\n",
              "      <td>American Airlines</td>\n",
              "      <td>Santiago</td>\n",
              "      <td>Miami</td>\n",
              "    </tr>\n",
              "    <tr>\n",
              "      <th>4</th>\n",
              "      <td>2017-01-05 23:30:00</td>\n",
              "      <td>226</td>\n",
              "      <td>SCEL</td>\n",
              "      <td>KMIA</td>\n",
              "      <td>AAL</td>\n",
              "      <td>2017-01-05 23:28:00</td>\n",
              "      <td>226</td>\n",
              "      <td>KMIA</td>\n",
              "      <td>AAL</td>\n",
              "      <td>5</td>\n",
              "      <td>1</td>\n",
              "      <td>2017</td>\n",
              "      <td>Jueves</td>\n",
              "      <td>I</td>\n",
              "      <td>American Airlines</td>\n",
              "      <td>Santiago</td>\n",
              "      <td>Miami</td>\n",
              "    </tr>\n",
              "    <tr>\n",
              "      <th>...</th>\n",
              "      <td>...</td>\n",
              "      <td>...</td>\n",
              "      <td>...</td>\n",
              "      <td>...</td>\n",
              "      <td>...</td>\n",
              "      <td>...</td>\n",
              "      <td>...</td>\n",
              "      <td>...</td>\n",
              "      <td>...</td>\n",
              "      <td>...</td>\n",
              "      <td>...</td>\n",
              "      <td>...</td>\n",
              "      <td>...</td>\n",
              "      <td>...</td>\n",
              "      <td>...</td>\n",
              "      <td>...</td>\n",
              "      <td>...</td>\n",
              "    </tr>\n",
              "    <tr>\n",
              "      <th>68201</th>\n",
              "      <td>2017-12-22 14:55:00</td>\n",
              "      <td>400</td>\n",
              "      <td>SCEL</td>\n",
              "      <td>SPJC</td>\n",
              "      <td>JAT</td>\n",
              "      <td>2017-12-22 15:41:00</td>\n",
              "      <td>400.0</td>\n",
              "      <td>SPJC</td>\n",
              "      <td>JAT</td>\n",
              "      <td>22</td>\n",
              "      <td>12</td>\n",
              "      <td>2017</td>\n",
              "      <td>Viernes</td>\n",
              "      <td>I</td>\n",
              "      <td>JetSmart SPA</td>\n",
              "      <td>Santiago</td>\n",
              "      <td>Lima</td>\n",
              "    </tr>\n",
              "    <tr>\n",
              "      <th>68202</th>\n",
              "      <td>2017-12-25 14:55:00</td>\n",
              "      <td>400</td>\n",
              "      <td>SCEL</td>\n",
              "      <td>SPJC</td>\n",
              "      <td>JAT</td>\n",
              "      <td>2017-12-25 15:11:00</td>\n",
              "      <td>400.0</td>\n",
              "      <td>SPJC</td>\n",
              "      <td>JAT</td>\n",
              "      <td>25</td>\n",
              "      <td>12</td>\n",
              "      <td>2017</td>\n",
              "      <td>Lunes</td>\n",
              "      <td>I</td>\n",
              "      <td>JetSmart SPA</td>\n",
              "      <td>Santiago</td>\n",
              "      <td>Lima</td>\n",
              "    </tr>\n",
              "    <tr>\n",
              "      <th>68203</th>\n",
              "      <td>2017-12-27 14:55:00</td>\n",
              "      <td>400</td>\n",
              "      <td>SCEL</td>\n",
              "      <td>SPJC</td>\n",
              "      <td>JAT</td>\n",
              "      <td>2017-12-27 15:35:00</td>\n",
              "      <td>400.0</td>\n",
              "      <td>SPJC</td>\n",
              "      <td>JAT</td>\n",
              "      <td>27</td>\n",
              "      <td>12</td>\n",
              "      <td>2017</td>\n",
              "      <td>Miercoles</td>\n",
              "      <td>I</td>\n",
              "      <td>JetSmart SPA</td>\n",
              "      <td>Santiago</td>\n",
              "      <td>Lima</td>\n",
              "    </tr>\n",
              "    <tr>\n",
              "      <th>68204</th>\n",
              "      <td>2017-12-29 14:55:00</td>\n",
              "      <td>400</td>\n",
              "      <td>SCEL</td>\n",
              "      <td>SPJC</td>\n",
              "      <td>JAT</td>\n",
              "      <td>2017-12-29 15:08:00</td>\n",
              "      <td>400.0</td>\n",
              "      <td>SPJC</td>\n",
              "      <td>JAT</td>\n",
              "      <td>29</td>\n",
              "      <td>12</td>\n",
              "      <td>2017</td>\n",
              "      <td>Viernes</td>\n",
              "      <td>I</td>\n",
              "      <td>JetSmart SPA</td>\n",
              "      <td>Santiago</td>\n",
              "      <td>Lima</td>\n",
              "    </tr>\n",
              "    <tr>\n",
              "      <th>68205</th>\n",
              "      <td>2017-12-31 14:55:00</td>\n",
              "      <td>400</td>\n",
              "      <td>SCEL</td>\n",
              "      <td>SPJC</td>\n",
              "      <td>JAT</td>\n",
              "      <td>2017-12-31 15:04:00</td>\n",
              "      <td>400.0</td>\n",
              "      <td>SPJC</td>\n",
              "      <td>JAT</td>\n",
              "      <td>31</td>\n",
              "      <td>12</td>\n",
              "      <td>2017</td>\n",
              "      <td>Domingo</td>\n",
              "      <td>I</td>\n",
              "      <td>JetSmart SPA</td>\n",
              "      <td>Santiago</td>\n",
              "      <td>Lima</td>\n",
              "    </tr>\n",
              "  </tbody>\n",
              "</table>\n",
              "<p>68206 rows × 17 columns</p>\n",
              "</div>\n",
              "      <button class=\"colab-df-convert\" onclick=\"convertToInteractive('df-e83139b8-4921-47a0-b32f-12673895a238')\"\n",
              "              title=\"Convert this dataframe to an interactive table.\"\n",
              "              style=\"display:none;\">\n",
              "        \n",
              "  <svg xmlns=\"http://www.w3.org/2000/svg\" height=\"24px\"viewBox=\"0 0 24 24\"\n",
              "       width=\"24px\">\n",
              "    <path d=\"M0 0h24v24H0V0z\" fill=\"none\"/>\n",
              "    <path d=\"M18.56 5.44l.94 2.06.94-2.06 2.06-.94-2.06-.94-.94-2.06-.94 2.06-2.06.94zm-11 1L8.5 8.5l.94-2.06 2.06-.94-2.06-.94L8.5 2.5l-.94 2.06-2.06.94zm10 10l.94 2.06.94-2.06 2.06-.94-2.06-.94-.94-2.06-.94 2.06-2.06.94z\"/><path d=\"M17.41 7.96l-1.37-1.37c-.4-.4-.92-.59-1.43-.59-.52 0-1.04.2-1.43.59L10.3 9.45l-7.72 7.72c-.78.78-.78 2.05 0 2.83L4 21.41c.39.39.9.59 1.41.59.51 0 1.02-.2 1.41-.59l7.78-7.78 2.81-2.81c.8-.78.8-2.07 0-2.86zM5.41 20L4 18.59l7.72-7.72 1.47 1.35L5.41 20z\"/>\n",
              "  </svg>\n",
              "      </button>\n",
              "      \n",
              "  <style>\n",
              "    .colab-df-container {\n",
              "      display:flex;\n",
              "      flex-wrap:wrap;\n",
              "      gap: 12px;\n",
              "    }\n",
              "\n",
              "    .colab-df-convert {\n",
              "      background-color: #E8F0FE;\n",
              "      border: none;\n",
              "      border-radius: 50%;\n",
              "      cursor: pointer;\n",
              "      display: none;\n",
              "      fill: #1967D2;\n",
              "      height: 32px;\n",
              "      padding: 0 0 0 0;\n",
              "      width: 32px;\n",
              "    }\n",
              "\n",
              "    .colab-df-convert:hover {\n",
              "      background-color: #E2EBFA;\n",
              "      box-shadow: 0px 1px 2px rgba(60, 64, 67, 0.3), 0px 1px 3px 1px rgba(60, 64, 67, 0.15);\n",
              "      fill: #174EA6;\n",
              "    }\n",
              "\n",
              "    [theme=dark] .colab-df-convert {\n",
              "      background-color: #3B4455;\n",
              "      fill: #D2E3FC;\n",
              "    }\n",
              "\n",
              "    [theme=dark] .colab-df-convert:hover {\n",
              "      background-color: #434B5C;\n",
              "      box-shadow: 0px 1px 3px 1px rgba(0, 0, 0, 0.15);\n",
              "      filter: drop-shadow(0px 1px 2px rgba(0, 0, 0, 0.3));\n",
              "      fill: #FFFFFF;\n",
              "    }\n",
              "  </style>\n",
              "\n",
              "      <script>\n",
              "        const buttonEl =\n",
              "          document.querySelector('#df-e83139b8-4921-47a0-b32f-12673895a238 button.colab-df-convert');\n",
              "        buttonEl.style.display =\n",
              "          google.colab.kernel.accessAllowed ? 'block' : 'none';\n",
              "\n",
              "        async function convertToInteractive(key) {\n",
              "          const element = document.querySelector('#df-e83139b8-4921-47a0-b32f-12673895a238');\n",
              "          const dataTable =\n",
              "            await google.colab.kernel.invokeFunction('convertToInteractive',\n",
              "                                                     [key], {});\n",
              "          if (!dataTable) return;\n",
              "\n",
              "          const docLinkHtml = 'Like what you see? Visit the ' +\n",
              "            '<a target=\"_blank\" href=https://colab.research.google.com/notebooks/data_table.ipynb>data table notebook</a>'\n",
              "            + ' to learn more about interactive tables.';\n",
              "          element.innerHTML = '';\n",
              "          dataTable['output_type'] = 'display_data';\n",
              "          await google.colab.output.renderOutput(dataTable, element);\n",
              "          const docLink = document.createElement('div');\n",
              "          docLink.innerHTML = docLinkHtml;\n",
              "          element.appendChild(docLink);\n",
              "        }\n",
              "      </script>\n",
              "    </div>\n",
              "  </div>\n",
              "  "
            ]
          },
          "metadata": {},
          "execution_count": 14
        }
      ]
    },
    {
      "cell_type": "markdown",
      "source": [
        "Validamos que la variable Ori-I tiene todos los valores en 'SCEL', por lo tanto todos los registros corresponden a despegues de SCEL (No hay arribos a Santiago de Chile)"
      ],
      "metadata": {
        "id": "-mGGLhPSWWXU"
      },
      "id": "-mGGLhPSWWXU"
    },
    {
      "cell_type": "markdown",
      "source": [
        "### Agregado de nuevas columnas\n",
        "Agregamos columnas adicionales en función de la información complementaria y luego exportamos a un archivo synthetic_features.csv"
      ],
      "metadata": {
        "id": "aOta0KnQzrFG"
      },
      "id": "aOta0KnQzrFG"
    },
    {
      "cell_type": "code",
      "source": [
        "# Agregamos columnas nuevas en un nuevo df\n",
        "df_transform = df_raw.copy()"
      ],
      "metadata": {
        "id": "8CDBVmZQTdDV"
      },
      "id": "8CDBVmZQTdDV",
      "execution_count": 15,
      "outputs": []
    },
    {
      "cell_type": "code",
      "source": [
        "df_transform['temporada_alta'] = 0\n",
        "df_transform['dif_min'] = None\n",
        "df_transform['atraso_15'] = 0\n",
        "df_transform['periodo_dia'] = None"
      ],
      "metadata": {
        "id": "y2tAyJPDXCVX"
      },
      "id": "y2tAyJPDXCVX",
      "execution_count": 16,
      "outputs": []
    },
    {
      "cell_type": "code",
      "source": [
        "# temporada alta = 1 si Fecha-I está entre 15-Dic y 3-Mar, o 15-Jul y 31-Jul, o 11-Sep y 30-Sep, 0 si no.\n",
        "def check_condition(date):\n",
        "    if pd.to_datetime('2016-12-15') <= pd.to_datetime(date) <= pd.to_datetime('2017-03-03') or \\\n",
        "        pd.to_datetime('2016-12-15') <= pd.to_datetime(date) <= pd.to_datetime('2017-03-03') or \\\n",
        "        pd.to_datetime('2016-12-15') <= pd.to_datetime(date) <= pd.to_datetime('2017-03-03'):\n",
        "        return 1\n",
        "    else:\n",
        "        return 0\n",
        "\n",
        "df_transform['temporada_alta'] = df_transform['Fecha-I'].apply(check_condition)\n"
      ],
      "metadata": {
        "id": "dDKwPMf4YGBF"
      },
      "id": "dDKwPMf4YGBF",
      "execution_count": 17,
      "outputs": []
    },
    {
      "cell_type": "code",
      "source": [
        "# diferencia en minutos entre Fecha-O y Fecha-I\n",
        "def check_condition(row):\n",
        "    if pd.to_datetime(row['Fecha-O']) >= pd.to_datetime(row['Fecha-I']):\n",
        "      diferencia = (pd.to_datetime(row['Fecha-O']) - pd.to_datetime(row['Fecha-I'])).total_seconds() / 60\n",
        "    else:\n",
        "      diferencia = pd.to_datetime(0).minute\n",
        "    return diferencia\n",
        "\n",
        "df_transform['dif_min'] = df_transform.apply(check_condition, axis=1)\n"
      ],
      "metadata": {
        "id": "wFzq1n_ti_ci"
      },
      "id": "wFzq1n_ti_ci",
      "execution_count": 18,
      "outputs": []
    },
    {
      "cell_type": "code",
      "source": [
        "# 1 si dif_min > 15, 0 si no\n",
        "def check_condition(dif_min):\n",
        "    if dif_min > 15:\n",
        "        return 1\n",
        "    else:\n",
        "        return 0\n",
        "\n",
        "df_transform['atraso_15'] = df_transform['dif_min'].apply(check_condition)"
      ],
      "metadata": {
        "id": "KYUCU3zciPXK"
      },
      "id": "KYUCU3zciPXK",
      "execution_count": 19,
      "outputs": []
    },
    {
      "cell_type": "code",
      "source": [
        "# mañana (entre 5:00 y 11:59), tarde (entre 12:00 y 18:59) y noche (entre 19:00 y 4:59), en base a Fecha-I\n",
        "def check_condition(hms):\n",
        "  if pd.to_datetime('05:00').time() <= pd.to_datetime(hms).time() <= pd.to_datetime('11:59').time():\n",
        "    return 'mañana'\n",
        "  elif pd.to_datetime('12:00').time() <= pd.to_datetime(hms).time() <= pd.to_datetime('18:59').time():\n",
        "    return 'tarde'\n",
        "  else:\n",
        "    return 'noche'\n",
        "\n",
        "df_transform['periodo_dia'] = df_transform['Fecha-I'].apply(check_condition)"
      ],
      "metadata": {
        "id": "psIrpQFul_hS"
      },
      "id": "psIrpQFul_hS",
      "execution_count": 20,
      "outputs": []
    },
    {
      "cell_type": "code",
      "source": [
        "df_transform"
      ],
      "metadata": {
        "colab": {
          "base_uri": "https://localhost:8080/",
          "height": 658
        },
        "id": "1tDo5WQYYDqi",
        "outputId": "2b05f642-621d-4ac6-d064-299b8295564e"
      },
      "id": "1tDo5WQYYDqi",
      "execution_count": 21,
      "outputs": [
        {
          "output_type": "execute_result",
          "data": {
            "text/plain": [
              "                   Fecha-I Vlo-I Ori-I Des-I Emp-I              Fecha-O  \\\n",
              "0      2017-01-01 23:30:00   226  SCEL  KMIA   AAL  2017-01-01 23:33:00   \n",
              "1      2017-01-02 23:30:00   226  SCEL  KMIA   AAL  2017-01-02 23:39:00   \n",
              "2      2017-01-03 23:30:00   226  SCEL  KMIA   AAL  2017-01-03 23:39:00   \n",
              "3      2017-01-04 23:30:00   226  SCEL  KMIA   AAL  2017-01-04 23:33:00   \n",
              "4      2017-01-05 23:30:00   226  SCEL  KMIA   AAL  2017-01-05 23:28:00   \n",
              "...                    ...   ...   ...   ...   ...                  ...   \n",
              "68201  2017-12-22 14:55:00   400  SCEL  SPJC   JAT  2017-12-22 15:41:00   \n",
              "68202  2017-12-25 14:55:00   400  SCEL  SPJC   JAT  2017-12-25 15:11:00   \n",
              "68203  2017-12-27 14:55:00   400  SCEL  SPJC   JAT  2017-12-27 15:35:00   \n",
              "68204  2017-12-29 14:55:00   400  SCEL  SPJC   JAT  2017-12-29 15:08:00   \n",
              "68205  2017-12-31 14:55:00   400  SCEL  SPJC   JAT  2017-12-31 15:04:00   \n",
              "\n",
              "       Vlo-O Des-O Emp-O  DIA  MES   AÑO     DIANOM TIPOVUELO  \\\n",
              "0        226  KMIA   AAL    1    1  2017    Domingo         I   \n",
              "1        226  KMIA   AAL    2    1  2017      Lunes         I   \n",
              "2        226  KMIA   AAL    3    1  2017     Martes         I   \n",
              "3        226  KMIA   AAL    4    1  2017  Miercoles         I   \n",
              "4        226  KMIA   AAL    5    1  2017     Jueves         I   \n",
              "...      ...   ...   ...  ...  ...   ...        ...       ...   \n",
              "68201  400.0  SPJC   JAT   22   12  2017    Viernes         I   \n",
              "68202  400.0  SPJC   JAT   25   12  2017      Lunes         I   \n",
              "68203  400.0  SPJC   JAT   27   12  2017  Miercoles         I   \n",
              "68204  400.0  SPJC   JAT   29   12  2017    Viernes         I   \n",
              "68205  400.0  SPJC   JAT   31   12  2017    Domingo         I   \n",
              "\n",
              "                   OPERA  SIGLAORI SIGLADES  temporada_alta  dif_min  \\\n",
              "0      American Airlines  Santiago    Miami               1      3.0   \n",
              "1      American Airlines  Santiago    Miami               1      9.0   \n",
              "2      American Airlines  Santiago    Miami               1      9.0   \n",
              "3      American Airlines  Santiago    Miami               1      3.0   \n",
              "4      American Airlines  Santiago    Miami               1      0.0   \n",
              "...                  ...       ...      ...             ...      ...   \n",
              "68201       JetSmart SPA  Santiago     Lima               0     46.0   \n",
              "68202       JetSmart SPA  Santiago     Lima               0     16.0   \n",
              "68203       JetSmart SPA  Santiago     Lima               0     40.0   \n",
              "68204       JetSmart SPA  Santiago     Lima               0     13.0   \n",
              "68205       JetSmart SPA  Santiago     Lima               0      9.0   \n",
              "\n",
              "       atraso_15 periodo_dia  \n",
              "0              0       noche  \n",
              "1              0       noche  \n",
              "2              0       noche  \n",
              "3              0       noche  \n",
              "4              0       noche  \n",
              "...          ...         ...  \n",
              "68201          1       tarde  \n",
              "68202          1       tarde  \n",
              "68203          1       tarde  \n",
              "68204          0       tarde  \n",
              "68205          0       tarde  \n",
              "\n",
              "[68206 rows x 21 columns]"
            ],
            "text/html": [
              "\n",
              "  <div id=\"df-ea3c3ff9-e54d-45c2-a22d-6b2a11563c58\">\n",
              "    <div class=\"colab-df-container\">\n",
              "      <div>\n",
              "<style scoped>\n",
              "    .dataframe tbody tr th:only-of-type {\n",
              "        vertical-align: middle;\n",
              "    }\n",
              "\n",
              "    .dataframe tbody tr th {\n",
              "        vertical-align: top;\n",
              "    }\n",
              "\n",
              "    .dataframe thead th {\n",
              "        text-align: right;\n",
              "    }\n",
              "</style>\n",
              "<table border=\"1\" class=\"dataframe\">\n",
              "  <thead>\n",
              "    <tr style=\"text-align: right;\">\n",
              "      <th></th>\n",
              "      <th>Fecha-I</th>\n",
              "      <th>Vlo-I</th>\n",
              "      <th>Ori-I</th>\n",
              "      <th>Des-I</th>\n",
              "      <th>Emp-I</th>\n",
              "      <th>Fecha-O</th>\n",
              "      <th>Vlo-O</th>\n",
              "      <th>Des-O</th>\n",
              "      <th>Emp-O</th>\n",
              "      <th>DIA</th>\n",
              "      <th>MES</th>\n",
              "      <th>AÑO</th>\n",
              "      <th>DIANOM</th>\n",
              "      <th>TIPOVUELO</th>\n",
              "      <th>OPERA</th>\n",
              "      <th>SIGLAORI</th>\n",
              "      <th>SIGLADES</th>\n",
              "      <th>temporada_alta</th>\n",
              "      <th>dif_min</th>\n",
              "      <th>atraso_15</th>\n",
              "      <th>periodo_dia</th>\n",
              "    </tr>\n",
              "  </thead>\n",
              "  <tbody>\n",
              "    <tr>\n",
              "      <th>0</th>\n",
              "      <td>2017-01-01 23:30:00</td>\n",
              "      <td>226</td>\n",
              "      <td>SCEL</td>\n",
              "      <td>KMIA</td>\n",
              "      <td>AAL</td>\n",
              "      <td>2017-01-01 23:33:00</td>\n",
              "      <td>226</td>\n",
              "      <td>KMIA</td>\n",
              "      <td>AAL</td>\n",
              "      <td>1</td>\n",
              "      <td>1</td>\n",
              "      <td>2017</td>\n",
              "      <td>Domingo</td>\n",
              "      <td>I</td>\n",
              "      <td>American Airlines</td>\n",
              "      <td>Santiago</td>\n",
              "      <td>Miami</td>\n",
              "      <td>1</td>\n",
              "      <td>3.0</td>\n",
              "      <td>0</td>\n",
              "      <td>noche</td>\n",
              "    </tr>\n",
              "    <tr>\n",
              "      <th>1</th>\n",
              "      <td>2017-01-02 23:30:00</td>\n",
              "      <td>226</td>\n",
              "      <td>SCEL</td>\n",
              "      <td>KMIA</td>\n",
              "      <td>AAL</td>\n",
              "      <td>2017-01-02 23:39:00</td>\n",
              "      <td>226</td>\n",
              "      <td>KMIA</td>\n",
              "      <td>AAL</td>\n",
              "      <td>2</td>\n",
              "      <td>1</td>\n",
              "      <td>2017</td>\n",
              "      <td>Lunes</td>\n",
              "      <td>I</td>\n",
              "      <td>American Airlines</td>\n",
              "      <td>Santiago</td>\n",
              "      <td>Miami</td>\n",
              "      <td>1</td>\n",
              "      <td>9.0</td>\n",
              "      <td>0</td>\n",
              "      <td>noche</td>\n",
              "    </tr>\n",
              "    <tr>\n",
              "      <th>2</th>\n",
              "      <td>2017-01-03 23:30:00</td>\n",
              "      <td>226</td>\n",
              "      <td>SCEL</td>\n",
              "      <td>KMIA</td>\n",
              "      <td>AAL</td>\n",
              "      <td>2017-01-03 23:39:00</td>\n",
              "      <td>226</td>\n",
              "      <td>KMIA</td>\n",
              "      <td>AAL</td>\n",
              "      <td>3</td>\n",
              "      <td>1</td>\n",
              "      <td>2017</td>\n",
              "      <td>Martes</td>\n",
              "      <td>I</td>\n",
              "      <td>American Airlines</td>\n",
              "      <td>Santiago</td>\n",
              "      <td>Miami</td>\n",
              "      <td>1</td>\n",
              "      <td>9.0</td>\n",
              "      <td>0</td>\n",
              "      <td>noche</td>\n",
              "    </tr>\n",
              "    <tr>\n",
              "      <th>3</th>\n",
              "      <td>2017-01-04 23:30:00</td>\n",
              "      <td>226</td>\n",
              "      <td>SCEL</td>\n",
              "      <td>KMIA</td>\n",
              "      <td>AAL</td>\n",
              "      <td>2017-01-04 23:33:00</td>\n",
              "      <td>226</td>\n",
              "      <td>KMIA</td>\n",
              "      <td>AAL</td>\n",
              "      <td>4</td>\n",
              "      <td>1</td>\n",
              "      <td>2017</td>\n",
              "      <td>Miercoles</td>\n",
              "      <td>I</td>\n",
              "      <td>American Airlines</td>\n",
              "      <td>Santiago</td>\n",
              "      <td>Miami</td>\n",
              "      <td>1</td>\n",
              "      <td>3.0</td>\n",
              "      <td>0</td>\n",
              "      <td>noche</td>\n",
              "    </tr>\n",
              "    <tr>\n",
              "      <th>4</th>\n",
              "      <td>2017-01-05 23:30:00</td>\n",
              "      <td>226</td>\n",
              "      <td>SCEL</td>\n",
              "      <td>KMIA</td>\n",
              "      <td>AAL</td>\n",
              "      <td>2017-01-05 23:28:00</td>\n",
              "      <td>226</td>\n",
              "      <td>KMIA</td>\n",
              "      <td>AAL</td>\n",
              "      <td>5</td>\n",
              "      <td>1</td>\n",
              "      <td>2017</td>\n",
              "      <td>Jueves</td>\n",
              "      <td>I</td>\n",
              "      <td>American Airlines</td>\n",
              "      <td>Santiago</td>\n",
              "      <td>Miami</td>\n",
              "      <td>1</td>\n",
              "      <td>0.0</td>\n",
              "      <td>0</td>\n",
              "      <td>noche</td>\n",
              "    </tr>\n",
              "    <tr>\n",
              "      <th>...</th>\n",
              "      <td>...</td>\n",
              "      <td>...</td>\n",
              "      <td>...</td>\n",
              "      <td>...</td>\n",
              "      <td>...</td>\n",
              "      <td>...</td>\n",
              "      <td>...</td>\n",
              "      <td>...</td>\n",
              "      <td>...</td>\n",
              "      <td>...</td>\n",
              "      <td>...</td>\n",
              "      <td>...</td>\n",
              "      <td>...</td>\n",
              "      <td>...</td>\n",
              "      <td>...</td>\n",
              "      <td>...</td>\n",
              "      <td>...</td>\n",
              "      <td>...</td>\n",
              "      <td>...</td>\n",
              "      <td>...</td>\n",
              "      <td>...</td>\n",
              "    </tr>\n",
              "    <tr>\n",
              "      <th>68201</th>\n",
              "      <td>2017-12-22 14:55:00</td>\n",
              "      <td>400</td>\n",
              "      <td>SCEL</td>\n",
              "      <td>SPJC</td>\n",
              "      <td>JAT</td>\n",
              "      <td>2017-12-22 15:41:00</td>\n",
              "      <td>400.0</td>\n",
              "      <td>SPJC</td>\n",
              "      <td>JAT</td>\n",
              "      <td>22</td>\n",
              "      <td>12</td>\n",
              "      <td>2017</td>\n",
              "      <td>Viernes</td>\n",
              "      <td>I</td>\n",
              "      <td>JetSmart SPA</td>\n",
              "      <td>Santiago</td>\n",
              "      <td>Lima</td>\n",
              "      <td>0</td>\n",
              "      <td>46.0</td>\n",
              "      <td>1</td>\n",
              "      <td>tarde</td>\n",
              "    </tr>\n",
              "    <tr>\n",
              "      <th>68202</th>\n",
              "      <td>2017-12-25 14:55:00</td>\n",
              "      <td>400</td>\n",
              "      <td>SCEL</td>\n",
              "      <td>SPJC</td>\n",
              "      <td>JAT</td>\n",
              "      <td>2017-12-25 15:11:00</td>\n",
              "      <td>400.0</td>\n",
              "      <td>SPJC</td>\n",
              "      <td>JAT</td>\n",
              "      <td>25</td>\n",
              "      <td>12</td>\n",
              "      <td>2017</td>\n",
              "      <td>Lunes</td>\n",
              "      <td>I</td>\n",
              "      <td>JetSmart SPA</td>\n",
              "      <td>Santiago</td>\n",
              "      <td>Lima</td>\n",
              "      <td>0</td>\n",
              "      <td>16.0</td>\n",
              "      <td>1</td>\n",
              "      <td>tarde</td>\n",
              "    </tr>\n",
              "    <tr>\n",
              "      <th>68203</th>\n",
              "      <td>2017-12-27 14:55:00</td>\n",
              "      <td>400</td>\n",
              "      <td>SCEL</td>\n",
              "      <td>SPJC</td>\n",
              "      <td>JAT</td>\n",
              "      <td>2017-12-27 15:35:00</td>\n",
              "      <td>400.0</td>\n",
              "      <td>SPJC</td>\n",
              "      <td>JAT</td>\n",
              "      <td>27</td>\n",
              "      <td>12</td>\n",
              "      <td>2017</td>\n",
              "      <td>Miercoles</td>\n",
              "      <td>I</td>\n",
              "      <td>JetSmart SPA</td>\n",
              "      <td>Santiago</td>\n",
              "      <td>Lima</td>\n",
              "      <td>0</td>\n",
              "      <td>40.0</td>\n",
              "      <td>1</td>\n",
              "      <td>tarde</td>\n",
              "    </tr>\n",
              "    <tr>\n",
              "      <th>68204</th>\n",
              "      <td>2017-12-29 14:55:00</td>\n",
              "      <td>400</td>\n",
              "      <td>SCEL</td>\n",
              "      <td>SPJC</td>\n",
              "      <td>JAT</td>\n",
              "      <td>2017-12-29 15:08:00</td>\n",
              "      <td>400.0</td>\n",
              "      <td>SPJC</td>\n",
              "      <td>JAT</td>\n",
              "      <td>29</td>\n",
              "      <td>12</td>\n",
              "      <td>2017</td>\n",
              "      <td>Viernes</td>\n",
              "      <td>I</td>\n",
              "      <td>JetSmart SPA</td>\n",
              "      <td>Santiago</td>\n",
              "      <td>Lima</td>\n",
              "      <td>0</td>\n",
              "      <td>13.0</td>\n",
              "      <td>0</td>\n",
              "      <td>tarde</td>\n",
              "    </tr>\n",
              "    <tr>\n",
              "      <th>68205</th>\n",
              "      <td>2017-12-31 14:55:00</td>\n",
              "      <td>400</td>\n",
              "      <td>SCEL</td>\n",
              "      <td>SPJC</td>\n",
              "      <td>JAT</td>\n",
              "      <td>2017-12-31 15:04:00</td>\n",
              "      <td>400.0</td>\n",
              "      <td>SPJC</td>\n",
              "      <td>JAT</td>\n",
              "      <td>31</td>\n",
              "      <td>12</td>\n",
              "      <td>2017</td>\n",
              "      <td>Domingo</td>\n",
              "      <td>I</td>\n",
              "      <td>JetSmart SPA</td>\n",
              "      <td>Santiago</td>\n",
              "      <td>Lima</td>\n",
              "      <td>0</td>\n",
              "      <td>9.0</td>\n",
              "      <td>0</td>\n",
              "      <td>tarde</td>\n",
              "    </tr>\n",
              "  </tbody>\n",
              "</table>\n",
              "<p>68206 rows × 21 columns</p>\n",
              "</div>\n",
              "      <button class=\"colab-df-convert\" onclick=\"convertToInteractive('df-ea3c3ff9-e54d-45c2-a22d-6b2a11563c58')\"\n",
              "              title=\"Convert this dataframe to an interactive table.\"\n",
              "              style=\"display:none;\">\n",
              "        \n",
              "  <svg xmlns=\"http://www.w3.org/2000/svg\" height=\"24px\"viewBox=\"0 0 24 24\"\n",
              "       width=\"24px\">\n",
              "    <path d=\"M0 0h24v24H0V0z\" fill=\"none\"/>\n",
              "    <path d=\"M18.56 5.44l.94 2.06.94-2.06 2.06-.94-2.06-.94-.94-2.06-.94 2.06-2.06.94zm-11 1L8.5 8.5l.94-2.06 2.06-.94-2.06-.94L8.5 2.5l-.94 2.06-2.06.94zm10 10l.94 2.06.94-2.06 2.06-.94-2.06-.94-.94-2.06-.94 2.06-2.06.94z\"/><path d=\"M17.41 7.96l-1.37-1.37c-.4-.4-.92-.59-1.43-.59-.52 0-1.04.2-1.43.59L10.3 9.45l-7.72 7.72c-.78.78-.78 2.05 0 2.83L4 21.41c.39.39.9.59 1.41.59.51 0 1.02-.2 1.41-.59l7.78-7.78 2.81-2.81c.8-.78.8-2.07 0-2.86zM5.41 20L4 18.59l7.72-7.72 1.47 1.35L5.41 20z\"/>\n",
              "  </svg>\n",
              "      </button>\n",
              "      \n",
              "  <style>\n",
              "    .colab-df-container {\n",
              "      display:flex;\n",
              "      flex-wrap:wrap;\n",
              "      gap: 12px;\n",
              "    }\n",
              "\n",
              "    .colab-df-convert {\n",
              "      background-color: #E8F0FE;\n",
              "      border: none;\n",
              "      border-radius: 50%;\n",
              "      cursor: pointer;\n",
              "      display: none;\n",
              "      fill: #1967D2;\n",
              "      height: 32px;\n",
              "      padding: 0 0 0 0;\n",
              "      width: 32px;\n",
              "    }\n",
              "\n",
              "    .colab-df-convert:hover {\n",
              "      background-color: #E2EBFA;\n",
              "      box-shadow: 0px 1px 2px rgba(60, 64, 67, 0.3), 0px 1px 3px 1px rgba(60, 64, 67, 0.15);\n",
              "      fill: #174EA6;\n",
              "    }\n",
              "\n",
              "    [theme=dark] .colab-df-convert {\n",
              "      background-color: #3B4455;\n",
              "      fill: #D2E3FC;\n",
              "    }\n",
              "\n",
              "    [theme=dark] .colab-df-convert:hover {\n",
              "      background-color: #434B5C;\n",
              "      box-shadow: 0px 1px 3px 1px rgba(0, 0, 0, 0.15);\n",
              "      filter: drop-shadow(0px 1px 2px rgba(0, 0, 0, 0.3));\n",
              "      fill: #FFFFFF;\n",
              "    }\n",
              "  </style>\n",
              "\n",
              "      <script>\n",
              "        const buttonEl =\n",
              "          document.querySelector('#df-ea3c3ff9-e54d-45c2-a22d-6b2a11563c58 button.colab-df-convert');\n",
              "        buttonEl.style.display =\n",
              "          google.colab.kernel.accessAllowed ? 'block' : 'none';\n",
              "\n",
              "        async function convertToInteractive(key) {\n",
              "          const element = document.querySelector('#df-ea3c3ff9-e54d-45c2-a22d-6b2a11563c58');\n",
              "          const dataTable =\n",
              "            await google.colab.kernel.invokeFunction('convertToInteractive',\n",
              "                                                     [key], {});\n",
              "          if (!dataTable) return;\n",
              "\n",
              "          const docLinkHtml = 'Like what you see? Visit the ' +\n",
              "            '<a target=\"_blank\" href=https://colab.research.google.com/notebooks/data_table.ipynb>data table notebook</a>'\n",
              "            + ' to learn more about interactive tables.';\n",
              "          element.innerHTML = '';\n",
              "          dataTable['output_type'] = 'display_data';\n",
              "          await google.colab.output.renderOutput(dataTable, element);\n",
              "          const docLink = document.createElement('div');\n",
              "          docLink.innerHTML = docLinkHtml;\n",
              "          element.appendChild(docLink);\n",
              "        }\n",
              "      </script>\n",
              "    </div>\n",
              "  </div>\n",
              "  "
            ]
          },
          "metadata": {},
          "execution_count": 21
        }
      ]
    },
    {
      "cell_type": "code",
      "source": [
        "# Exportacion\n",
        "compression_opts = dict(method='zip', archive_name='out.csv')\n",
        "df_raw.to_csv('export.zip', index=False, compression=compression_opts)"
      ],
      "metadata": {
        "id": "QVA9MVRZtEjT"
      },
      "id": "QVA9MVRZtEjT",
      "execution_count": 22,
      "outputs": []
    },
    {
      "cell_type": "markdown",
      "source": [
        "### ¿Como se compone la distribucion entre vuelos atrasados y no atrasados?"
      ],
      "metadata": {
        "id": "9E1DLIlvdIlf"
      },
      "id": "9E1DLIlvdIlf"
    },
    {
      "cell_type": "code",
      "source": [
        "def func(pct, allvals):\n",
        "    absolute = int(np.round(pct/100.*np.sum(allvals)))\n",
        "    return f\"{pct:.1f}%\"\n",
        "\n",
        "data = df_transform['atraso_15'].value_counts()\n",
        "fig, ax=plt.subplots(figsize=(5,5))\n",
        "w, texts, autotexts = ax.pie(data, autopct=lambda pct: func(pct, data), textprops=dict(color=\"w\"))\n",
        "ax.set_title('Distribucion de vuelos con y sin atraso año 2017')\n",
        "ax.legend(w, [\"sin atraso\", \"atraso >= 15'\"], title=\"Estado\", loc=\"center left\",bbox_to_anchor=(1, 0, 0.5, 1))\n",
        "ax.set_ylabel('');"
      ],
      "metadata": {
        "colab": {
          "base_uri": "https://localhost:8080/",
          "height": 444
        },
        "id": "SGqo6w8cdW4O",
        "outputId": "6f5bd8cc-aecd-4d66-95a1-c6593f0795b6"
      },
      "id": "SGqo6w8cdW4O",
      "execution_count": 23,
      "outputs": [
        {
          "output_type": "display_data",
          "data": {
            "text/plain": [
              "<Figure size 500x500 with 1 Axes>"
            ],
            "image/png": "[encoded data removed]"
          },
          "metadata": {}
        }
      ]
    },
    {
      "cell_type": "markdown",
      "source": [
        "### ¿Cómo se compone la tasa de atraso por destino, aerolínea, mes del año, día de la semana, temporada, tipo de vuelo?"
      ],
      "metadata": {
        "id": "TFy4VNe3tog5"
      },
      "id": "TFy4VNe3tog5"
    },
    {
      "cell_type": "markdown",
      "source": [
        "#### Analisis en funcion del \"tiempo de atraso\"\n",
        "La tasa de atraso se ha calculado en función tiempo promedio en minutos de atraso para cada variable estudiada."
      ],
      "metadata": {
        "id": "BSyeaCENKz9z"
      },
      "id": "BSyeaCENKz9z"
    },
    {
      "cell_type": "code",
      "source": [
        "# Definir umbral y color\n",
        "def grafico_tasa(tasa, titulo):\n",
        "  umbral = 15\n",
        "  color_umbral = 'red'\n",
        "\n",
        "  fig, ax1 = plt.subplots(figsize=(30,5))\n",
        "  ax2 = ax1.twinx()  # Crear ejes independientes para el segundo gráfico\n",
        "  ax1.bar(tasa.index, tasa.dif_min.values, color=[color_umbral if valor >= umbral else 'darkgreen' for valor in tasa.dif_min.to_list()])\n",
        "  ax1.set_ylabel(\"Promedio de atraso (Minutos)\")\n",
        "  ax1.set_title(f\"Tasa de atraso por {titulo} - (en rojo: atraso > 15 minutos | amarillo: cant. de vuelos)\")\n",
        "  ax1.set_xticks( tasa.index )\n",
        "  ax1.set_xticklabels(tasa.index, rotation=85, ha='center')\n",
        "\n",
        "  ax2.scatter(tasa.index, tasa.iloc[:,1].values, color='orange')\n",
        "  ax2.set_ylabel(\"Cantidad de Vuelos\")\n",
        "\n",
        "  plt.show;"
      ],
      "metadata": {
        "id": "QnEoulLuW0dk"
      },
      "id": "QnEoulLuW0dk",
      "execution_count": 24,
      "outputs": []
    },
    {
      "cell_type": "markdown",
      "source": [
        "##### Por destino"
      ],
      "metadata": {
        "id": "4Lhdp02L0FPg"
      },
      "id": "4Lhdp02L0FPg"
    },
    {
      "cell_type": "code",
      "source": [
        "tasa_destino = df_transform.groupby(\"SIGLADES\")[\"dif_min\"].mean().sort_values()\n",
        "vuelos_por_destino = df_transform.groupby(\"SIGLADES\")[\"SIGLADES\"].count()\n",
        "vista_destino = pd.merge(tasa_destino, vuelos_por_destino, left_index=True, right_index=True ).sort_values('dif_min', ascending=True)\n",
        "grafico_tasa(vista_destino, \"ciudad de destino\")"
      ],
      "metadata": {
        "colab": {
          "base_uri": "https://localhost:8080/",
          "height": 391
        },
        "id": "nUufUhcBgbj-",
        "outputId": "07371ed2-791a-4e8f-bd99-11a4f6a11119"
      },
      "id": "nUufUhcBgbj-",
      "execution_count": 25,
      "outputs": [
        {
          "output_type": "display_data",
          "data": {
            "text/plain": [
              "<Figure size 3000x500 with 2 Axes>"
            ],
            "image/png": "[encoded data removed]"
          },
          "metadata": {}
        }
      ]
    },
    {
      "cell_type": "markdown",
      "source": [
        "Se puede observar que los vuelos con atraso por ciudad de destino no son los destinos de mayor cantidad de vuelos"
      ],
      "metadata": {
        "id": "7ws-mSe0-sQA"
      },
      "id": "7ws-mSe0-sQA"
    },
    {
      "cell_type": "markdown",
      "source": [
        "##### Por aerolinea"
      ],
      "metadata": {
        "id": "mJxcPJBTdRIU"
      },
      "id": "mJxcPJBTdRIU"
    },
    {
      "cell_type": "code",
      "source": [
        "tasa_aerolinea = df_transform.groupby(\"OPERA\")[\"dif_min\"].mean().sort_values()\n",
        "vuelos_por_aerolinea = df_transform.groupby(\"OPERA\")[\"OPERA\"].count()\n",
        "vista_aerolinea = pd.merge(tasa_aerolinea, vuelos_por_aerolinea, left_index=True, right_index=True ).sort_values('dif_min', ascending=True)\n",
        "grafico_tasa(vista_aerolinea, \"aerolinea\")"
      ],
      "metadata": {
        "colab": {
          "base_uri": "https://localhost:8080/",
          "height": 415
        },
        "id": "WJXxuAuXTDSp",
        "outputId": "b8dc5b9a-d6c1-4801-a119-cec8cdd0c2e8"
      },
      "id": "WJXxuAuXTDSp",
      "execution_count": 26,
      "outputs": [
        {
          "output_type": "display_data",
          "data": {
            "text/plain": [
              "<Figure size 3000x500 with 2 Axes>"
            ],
            "image/png": "[encoded data removed]"
          },
          "metadata": {}
        }
      ]
    },
    {
      "cell_type": "markdown",
      "source": [
        "Las aerolineas Air Canada, Latin American Wings, Qatar Airways y Plus Ultra Lineas Aereas son las que tienen atraso pero con una cantidad de vuelos que están en el promedio de las demás. Se puede observar que Sky Airline es la aerolinea con mayor cantida de vuelos."
      ],
      "metadata": {
        "id": "mSw1V7BO_t70"
      },
      "id": "mSw1V7BO_t70"
    },
    {
      "cell_type": "markdown",
      "source": [
        "##### Por mes del año"
      ],
      "metadata": {
        "id": "FgU2fVlVfKV3"
      },
      "id": "FgU2fVlVfKV3"
    },
    {
      "cell_type": "code",
      "source": [
        "tasa_mes = df_transform.groupby(\"MES\")[\"dif_min\"].mean().sort_values()\n",
        "vuelos_por_mes = df_transform.groupby(\"MES\")[\"MES\"].count()\n",
        "vista_mes = pd.merge(tasa_mes, vuelos_por_mes, left_index=True, right_index=True ).sort_values('dif_min', ascending=True)\n",
        "grafico_tasa(vista_mes, \"mes\")"
      ],
      "metadata": {
        "id": "lQgUjqmGeRMQ",
        "colab": {
          "base_uri": "https://localhost:8080/",
          "height": 318
        },
        "outputId": "64fea022-acfd-4fbc-d392-47c76ab8a16c"
      },
      "id": "lQgUjqmGeRMQ",
      "execution_count": 27,
      "outputs": [
        {
          "output_type": "display_data",
          "data": {
            "text/plain": [
              "<Figure size 3000x500 with 2 Axes>"
            ],
            "image/png": "[encoded data removed]"
          },
          "metadata": {}
        }
      ]
    },
    {
      "cell_type": "markdown",
      "source": [
        "Vemos que el mes donde hay mayor atraso en los vuelos es el mes 7 (Julio), con una cantidad significativa de vuelos."
      ],
      "metadata": {
        "id": "dkx4fRT9AwqJ"
      },
      "id": "dkx4fRT9AwqJ"
    },
    {
      "cell_type": "markdown",
      "source": [
        "##### Por dia de la semana"
      ],
      "metadata": {
        "id": "1AoYCZ1Lgpup"
      },
      "id": "1AoYCZ1Lgpup"
    },
    {
      "cell_type": "code",
      "source": [
        "tasa_dia = df_transform.groupby(\"DIANOM\")[\"dif_min\"].mean().sort_values()\n",
        "vuelos_por_dia = df_transform.groupby(\"DIANOM\")[\"DIANOM\"].count()\n",
        "vista_dia = pd.merge(tasa_dia, vuelos_por_dia, left_index=True, right_index=True ).sort_values('dif_min', ascending=True)\n",
        "grafico_tasa(vista_dia, \"dia de la semana\")"
      ],
      "metadata": {
        "id": "Jy4y-tCQgS9o",
        "colab": {
          "base_uri": "https://localhost:8080/",
          "height": 348
        },
        "outputId": "79a6b593-a990-4344-d60e-ca3298c3e1c0"
      },
      "id": "Jy4y-tCQgS9o",
      "execution_count": 28,
      "outputs": [
        {
          "output_type": "display_data",
          "data": {
            "text/plain": [
              "<Figure size 3000x500 with 2 Axes>"
            ],
            "image/png": "[encoded data removed]"
          },
          "metadata": {}
        }
      ]
    },
    {
      "cell_type": "markdown",
      "source": [
        "No se observa ningún dia de la semana que en promedio tenga atraso de vuelos"
      ],
      "metadata": {
        "id": "oyGjjQnmBGqY"
      },
      "id": "oyGjjQnmBGqY"
    },
    {
      "cell_type": "markdown",
      "source": [
        "##### Por temporada"
      ],
      "metadata": {
        "id": "w_LGG0jwhwee"
      },
      "id": "w_LGG0jwhwee"
    },
    {
      "cell_type": "code",
      "source": [
        "tasa_temporada = df_transform.groupby(\"temporada_alta\")[\"dif_min\"].mean().sort_values()\n",
        "fig = plt.figure(figsize=(10,5))\n",
        "plt.bar(tasa_temporada.index, tasa_temporada.values, color='darkgreen')\n",
        "plt.ylabel(\"Promedio de atraso (Minutos)\")\n",
        "plt.xticks( [1, 0], (\"alta\", \"baja\"))\n",
        "plt.title(\"Tasa de atraso por temporada\");"
      ],
      "metadata": {
        "id": "--pc5Qychydw",
        "colab": {
          "base_uri": "https://localhost:8080/",
          "height": 468
        },
        "outputId": "0802b374-3f43-4b73-cbd1-38b5aa815f29"
      },
      "id": "--pc5Qychydw",
      "execution_count": 29,
      "outputs": [
        {
          "output_type": "display_data",
          "data": {
            "text/plain": [
              "<Figure size 1000x500 with 1 Axes>"
            ],
            "image/png": "[encoded data removed]"
          },
          "metadata": {}
        }
      ]
    },
    {
      "cell_type": "markdown",
      "source": [
        "No se observa que en temporada alto o baja en promedio tenga atraso de vuelos"
      ],
      "metadata": {
        "id": "s5FSDYhVBXht"
      },
      "id": "s5FSDYhVBXht"
    },
    {
      "cell_type": "markdown",
      "source": [
        "##### Por tipo de vuelo"
      ],
      "metadata": {
        "id": "xAuxMKPft8J_"
      },
      "id": "xAuxMKPft8J_"
    },
    {
      "cell_type": "code",
      "source": [
        "tasa_tipo_vuelo = df_transform.groupby(\"TIPOVUELO\")[\"dif_min\"].mean().sort_values()\n",
        "fig = plt.figure(figsize=(10,5))\n",
        "plt.bar(tasa_temporada.index, tasa_temporada.values, color='darkgreen')\n",
        "plt.ylabel(\"Promedio de atraso (Minutos)\")\n",
        "plt.xticks( [1, 0], (\"nacional\", \"internacional\"))\n",
        "plt.title(\"Tasa de atraso por tipo de vuelo\");"
      ],
      "metadata": {
        "id": "_rthhv8tkgLg",
        "colab": {
          "base_uri": "https://localhost:8080/",
          "height": 468
        },
        "outputId": "141262d4-32df-49d8-fbbe-69aa98c9a533"
      },
      "id": "_rthhv8tkgLg",
      "execution_count": 30,
      "outputs": [
        {
          "output_type": "display_data",
          "data": {
            "text/plain": [
              "<Figure size 1000x500 with 1 Axes>"
            ],
            "image/png": "[encoded data removed]"
          },
          "metadata": {}
        }
      ]
    },
    {
      "cell_type": "markdown",
      "source": [
        "No se observa que por tipo de vuelo internacional o nacional en promedio tenga atraso de vuelos"
      ],
      "metadata": {
        "id": "4T8YlirJBpyS"
      },
      "id": "4T8YlirJBpyS"
    },
    {
      "cell_type": "markdown",
      "source": [
        "### ¿Qué variables pueden influir para predecir atrasos?"
      ],
      "metadata": {
        "id": "w0cfDB2TvFW0"
      },
      "id": "w0cfDB2TvFW0"
    },
    {
      "cell_type": "markdown",
      "source": [
        "Con respecto al promedio de minutos de atraso por variable, las variables mas significativas para predecir atrasos son:\n",
        "\n",
        "\n",
        "- destino: la variabilidad es de 0 a 113 minutos de retraso\n",
        "  - hay 12 ciudades de destino de un total de 62 con promedio mayor a 15 minutos de atraso. Ninguno de estos destinos reporta una cantidad de vuelos significativo.\n",
        "- aerolinea: la variabilidad es de 2 a 32 minutos de retraso\n",
        "  - hay 4 aerolineas de un total de 23 con promedio mayor a 15 minutos de atraso. Ninguna de estas aerolineas reporta una cantidad de vuelos significativo.\n",
        "- mes: la variabilidad es de 7 a 16 minutos de retraso\n",
        "  - el mes de Julio es el que presenta en promedio apenas por encima de los 15 minutos de atraso. Existe una cantidad de vuelos significativos en este mes.\n",
        "\n",
        "Nota: las variables que mas influyen se han determinado en función de su variabilidad y por exceso de 15 minutos de atraso promedio.\n",
        "\n",
        "Las demas variables tienen una variabilidad mas uniforme y menor a 15 minutos de atraso\n",
        "\n",
        "(Nota: Recordemos que le atraso implica la demora entre el horario anunciado de despegue y el horario efectivo de despegue)"
      ],
      "metadata": {
        "id": "WKfxZ-aPvaxn"
      },
      "id": "WKfxZ-aPvaxn"
    },
    {
      "cell_type": "markdown",
      "source": [
        "## Modelos"
      ],
      "metadata": {
        "id": "GMOBuhZ9w2nH"
      },
      "id": "GMOBuhZ9w2nH"
    },
    {
      "cell_type": "markdown",
      "source": [
        "- Si se pretende estimar la probabilidad de atraso de un vuelo mayor a 15 minutos se necesita desplegar un modelo de clasificación:\n",
        "  - [0 no atraso - 1 atraso]\n",
        "- Por otra parte si se necesita estimar el atraso de un vuelo debemos plantear por ejemplo un modelo regresivo.\n",
        "\n",
        "El alcance de este proyecto aplica al modelo de clasificación."
      ],
      "metadata": {
        "id": "saNHAO9B3tdV"
      },
      "id": "saNHAO9B3tdV"
    },
    {
      "cell_type": "markdown",
      "source": [
        "#### Pre-procesamiento de los datos"
      ],
      "metadata": {
        "id": "5fXgBMSJ6eIH"
      },
      "id": "5fXgBMSJ6eIH"
    },
    {
      "cell_type": "markdown",
      "source": [
        "- Variables predictoras: Vlo-I, Des-I Emp-I, Vlo-O, Emp-O, DIA, MES, AÑO, DIANOM, TIPOVUELO, temporada_alta, dif_min, periodo_dia\n",
        "- Variable objetivo: atraso_15"
      ],
      "metadata": {
        "id": "EcscsML5P674"
      },
      "id": "EcscsML5P674"
    },
    {
      "cell_type": "code",
      "source": [
        "df_transform['Vlo-I'] = df_transform['Vlo-I'].astype(str) #corregimos el formato de la columna\n",
        "df_transform['Vlo-O'] = df_transform['Vlo-O'].astype(str) #corregimos el formato de la columna"
      ],
      "metadata": {
        "id": "8Wj2mwcu1-2J"
      },
      "id": "8Wj2mwcu1-2J",
      "execution_count": 31,
      "outputs": []
    },
    {
      "cell_type": "markdown",
      "source": [
        "Validamos los valores únicos de las siguientes variables categóricas:"
      ],
      "metadata": {
        "id": "TYXHk6qFwuf3"
      },
      "id": "TYXHk6qFwuf3"
    },
    {
      "cell_type": "code",
      "source": [
        "len(df_transform['Vlo-I'].unique())"
      ],
      "metadata": {
        "colab": {
          "base_uri": "https://localhost:8080/"
        },
        "id": "vjjnP5ztuWTh",
        "outputId": "434c3edc-5196-4f2c-de38-40cfb67e637a"
      },
      "id": "vjjnP5ztuWTh",
      "execution_count": 32,
      "outputs": [
        {
          "output_type": "execute_result",
          "data": {
            "text/plain": [
              "584"
            ]
          },
          "metadata": {},
          "execution_count": 32
        }
      ]
    },
    {
      "cell_type": "code",
      "source": [
        "len(df_transform['Des-I'].unique())"
      ],
      "metadata": {
        "colab": {
          "base_uri": "https://localhost:8080/"
        },
        "id": "07X0g4wlw4IW",
        "outputId": "a3f84167-640a-4009-889d-8c040fb9c640"
      },
      "id": "07X0g4wlw4IW",
      "execution_count": 33,
      "outputs": [
        {
          "output_type": "execute_result",
          "data": {
            "text/plain": [
              "64"
            ]
          },
          "metadata": {},
          "execution_count": 33
        }
      ]
    },
    {
      "cell_type": "code",
      "source": [
        "len(df_transform['Emp-I'].unique())"
      ],
      "metadata": {
        "colab": {
          "base_uri": "https://localhost:8080/"
        },
        "id": "pdMuLtBQw9RX",
        "outputId": "3ec30cd2-7700-4cd7-e643-01366dccf59e"
      },
      "id": "pdMuLtBQw9RX",
      "execution_count": 34,
      "outputs": [
        {
          "output_type": "execute_result",
          "data": {
            "text/plain": [
              "30"
            ]
          },
          "metadata": {},
          "execution_count": 34
        }
      ]
    },
    {
      "cell_type": "code",
      "source": [
        "len(df_transform['Vlo-O'].unique())"
      ],
      "metadata": {
        "colab": {
          "base_uri": "https://localhost:8080/"
        },
        "id": "UgaY9jUkxDnH",
        "outputId": "3225341a-8c5b-4c87-9bd2-551df96ef5b6"
      },
      "id": "UgaY9jUkxDnH",
      "execution_count": 35,
      "outputs": [
        {
          "output_type": "execute_result",
          "data": {
            "text/plain": [
              "861"
            ]
          },
          "metadata": {},
          "execution_count": 35
        }
      ]
    },
    {
      "cell_type": "code",
      "source": [
        "len(df_transform['Emp-O'].unique())"
      ],
      "metadata": {
        "colab": {
          "base_uri": "https://localhost:8080/"
        },
        "id": "n1_MRQcpxIDW",
        "outputId": "30b2dc91-2e08-44b7-f55e-a25146354d40"
      },
      "id": "n1_MRQcpxIDW",
      "execution_count": 36,
      "outputs": [
        {
          "output_type": "execute_result",
          "data": {
            "text/plain": [
              "32"
            ]
          },
          "metadata": {},
          "execution_count": 36
        }
      ]
    },
    {
      "cell_type": "markdown",
      "source": [
        "##### Embeddings\n",
        "Para reducir el dimensionamiento de las variables anteriores se va a utilizar a embeddings"
      ],
      "metadata": {
        "id": "VLqpzqM0xqZe"
      },
      "id": "VLqpzqM0xqZe"
    },
    {
      "cell_type": "code",
      "source": [
        "from sklearn.preprocessing import LabelEncoder"
      ],
      "metadata": {
        "id": "Dsym2X5cxpn-"
      },
      "id": "Dsym2X5cxpn-",
      "execution_count": 37,
      "outputs": []
    },
    {
      "cell_type": "code",
      "source": [
        "# Creamos un nuevo dataframe eliminando columnas no utiles\n",
        "df_embedding = df_transform.drop(['Fecha-I','AÑO', 'Ori-I','Fecha-O', 'Des-O', 'OPERA',\t'SIGLAORI',\t'SIGLADES'], axis=1).copy()"
      ],
      "metadata": {
        "id": "WrgYOTxpQZE8"
      },
      "id": "WrgYOTxpQZE8",
      "execution_count": 38,
      "outputs": []
    },
    {
      "cell_type": "code",
      "source": [
        "# Nombres de las variables a transformar con embbedings\n",
        "var_embbed = ['Vlo-I','Des-I','Emp-I','Vlo-O','Emp-O']\n",
        "\n",
        "# Nombres de nuevas variables\n",
        "nuevas_variables = []\n",
        "for var in var_embbed:\n",
        "  # Generar el nombre de la nueva variable\n",
        "  nombre_variable = 'X_encoded_' + str(var[:3]) + '_' + str(var[-1])\n",
        "  # Agregar el nombre de la nueva variable a la lista\n",
        "  nuevas_variables.append(nombre_variable)\n",
        ""
      ],
      "metadata": {
        "id": "0EjfbrpqEs90"
      },
      "id": "0EjfbrpqEs90",
      "execution_count": 39,
      "outputs": []
    },
    {
      "cell_type": "code",
      "source": [
        "# Crear una instancia de LE\n",
        "encoder = LabelEncoder()"
      ],
      "metadata": {
        "id": "EYt7buGZx8DA"
      },
      "id": "EYt7buGZx8DA",
      "execution_count": 40,
      "outputs": []
    },
    {
      "cell_type": "code",
      "source": [
        "# Generacion de embbedings\n",
        "tamano_embedding = 5\n",
        "for i in range(len(nuevas_variables)):\n",
        "  valores_transformados = encoder.fit_transform(df_transform[var_embbed[i]].values.reshape(-1,))  # Codificar los valores alfanuméricos\n",
        "  matriz = np.random.rand(len(encoder.classes_), tamano_embedding) # Cada matriz tiene un tamaño distinto\n",
        "  matriz_embedd = matriz[valores_transformados] # matriz de embbedings\n",
        "  # Vectores de embeddings asociados a un valor por cada atributo\n",
        "  for c in range(tamano_embedding):\n",
        "    df_embedding[var_embbed[i]+str(c)] = matriz_embedd[:,c]\n",
        "\n",
        "# Eliminamos las columnas de las variables transformadas\n",
        "df_embedding = df_embedding.drop(['Vlo-I','Des-I','Emp-I','Vlo-O','Emp-O'], axis=1)"
      ],
      "metadata": {
        "id": "765zCVTEIMqi"
      },
      "id": "765zCVTEIMqi",
      "execution_count": 41,
      "outputs": []
    },
    {
      "cell_type": "code",
      "source": [
        "df_embedding"
      ],
      "metadata": {
        "colab": {
          "base_uri": "https://localhost:8080/",
          "height": 487
        },
        "id": "-nbK2wtWOoBL",
        "outputId": "a4a27f47-8622-4816-cb6b-6e3a3890af67"
      },
      "id": "-nbK2wtWOoBL",
      "execution_count": 43,
      "outputs": [
        {
          "output_type": "execute_result",
          "data": {
            "text/plain": [
              "       DIA  MES     DIANOM TIPOVUELO  temporada_alta  dif_min  atraso_15  \\\n",
              "0        1    1    Domingo         I               1      3.0          0   \n",
              "1        2    1      Lunes         I               1      9.0          0   \n",
              "2        3    1     Martes         I               1      9.0          0   \n",
              "3        4    1  Miercoles         I               1      3.0          0   \n",
              "4        5    1     Jueves         I               1      0.0          0   \n",
              "...    ...  ...        ...       ...             ...      ...        ...   \n",
              "68201   22   12    Viernes         I               0     46.0          1   \n",
              "68202   25   12      Lunes         I               0     16.0          1   \n",
              "68203   27   12  Miercoles         I               0     40.0          1   \n",
              "68204   29   12    Viernes         I               0     13.0          0   \n",
              "68205   31   12    Domingo         I               0      9.0          0   \n",
              "\n",
              "      periodo_dia    Vlo-I0    Vlo-I1    Vlo-I2    Vlo-I3    Vlo-I4    Des-I0  \\\n",
              "0           noche  0.117598  0.342489  0.466993  0.812122  0.091618  0.912870   \n",
              "1           noche  0.117598  0.342489  0.466993  0.812122  0.091618  0.912870   \n",
              "2           noche  0.117598  0.342489  0.466993  0.812122  0.091618  0.912870   \n",
              "3           noche  0.117598  0.342489  0.466993  0.812122  0.091618  0.912870   \n",
              "4           noche  0.117598  0.342489  0.466993  0.812122  0.091618  0.912870   \n",
              "...           ...       ...       ...       ...       ...       ...       ...   \n",
              "68201       tarde  0.085147  0.417594  0.092151  0.733388  0.320494  0.529172   \n",
              "68202       tarde  0.085147  0.417594  0.092151  0.733388  0.320494  0.529172   \n",
              "68203       tarde  0.085147  0.417594  0.092151  0.733388  0.320494  0.529172   \n",
              "68204       tarde  0.085147  0.417594  0.092151  0.733388  0.320494  0.529172   \n",
              "68205       tarde  0.085147  0.417594  0.092151  0.733388  0.320494  0.529172   \n",
              "\n",
              "         Des-I1    Des-I2    Des-I3    Des-I4    Emp-I0    Emp-I1    Emp-I2  \\\n",
              "0      0.630535  0.599468  0.657888  0.012710  0.849689  0.549930  0.509516   \n",
              "1      0.630535  0.599468  0.657888  0.012710  0.849689  0.549930  0.509516   \n",
              "2      0.630535  0.599468  0.657888  0.012710  0.849689  0.549930  0.509516   \n",
              "3      0.630535  0.599468  0.657888  0.012710  0.849689  0.549930  0.509516   \n",
              "4      0.630535  0.599468  0.657888  0.012710  0.849689  0.549930  0.509516   \n",
              "...         ...       ...       ...       ...       ...       ...       ...   \n",
              "68201  0.366183  0.662607  0.104714  0.009466  0.129635  0.904523  0.877053   \n",
              "68202  0.366183  0.662607  0.104714  0.009466  0.129635  0.904523  0.877053   \n",
              "68203  0.366183  0.662607  0.104714  0.009466  0.129635  0.904523  0.877053   \n",
              "68204  0.366183  0.662607  0.104714  0.009466  0.129635  0.904523  0.877053   \n",
              "68205  0.366183  0.662607  0.104714  0.009466  0.129635  0.904523  0.877053   \n",
              "\n",
              "         Emp-I3    Emp-I4    Vlo-O0    Vlo-O1    Vlo-O2    Vlo-O3    Vlo-O4  \\\n",
              "0      0.038557  0.996984  0.903684  0.973780  0.247626  0.296774  0.778503   \n",
              "1      0.038557  0.996984  0.903684  0.973780  0.247626  0.296774  0.778503   \n",
              "2      0.038557  0.996984  0.903684  0.973780  0.247626  0.296774  0.778503   \n",
              "3      0.038557  0.996984  0.903684  0.973780  0.247626  0.296774  0.778503   \n",
              "4      0.038557  0.996984  0.903684  0.973780  0.247626  0.296774  0.778503   \n",
              "...         ...       ...       ...       ...       ...       ...       ...   \n",
              "68201  0.253876  0.236307  0.581542  0.606746  0.332831  0.732726  0.996050   \n",
              "68202  0.253876  0.236307  0.581542  0.606746  0.332831  0.732726  0.996050   \n",
              "68203  0.253876  0.236307  0.581542  0.606746  0.332831  0.732726  0.996050   \n",
              "68204  0.253876  0.236307  0.581542  0.606746  0.332831  0.732726  0.996050   \n",
              "68205  0.253876  0.236307  0.581542  0.606746  0.332831  0.732726  0.996050   \n",
              "\n",
              "         Emp-O0    Emp-O1    Emp-O2    Emp-O3    Emp-O4  \n",
              "0      0.661862  0.798249  0.548041  0.490743  0.148064  \n",
              "1      0.661862  0.798249  0.548041  0.490743  0.148064  \n",
              "2      0.661862  0.798249  0.548041  0.490743  0.148064  \n",
              "3      0.661862  0.798249  0.548041  0.490743  0.148064  \n",
              "4      0.661862  0.798249  0.548041  0.490743  0.148064  \n",
              "...         ...       ...       ...       ...       ...  \n",
              "68201  0.290653  0.644214  0.748021  0.252126  0.196755  \n",
              "68202  0.290653  0.644214  0.748021  0.252126  0.196755  \n",
              "68203  0.290653  0.644214  0.748021  0.252126  0.196755  \n",
              "68204  0.290653  0.644214  0.748021  0.252126  0.196755  \n",
              "68205  0.290653  0.644214  0.748021  0.252126  0.196755  \n",
              "\n",
              "[68206 rows x 33 columns]"
            ],
            "text/html": [
              "\n",
              "  <div id=\"df-e1a44698-b23f-430e-82ef-c771704dc214\">\n",
              "    <div class=\"colab-df-container\">\n",
              "      <div>\n",
              "<style scoped>\n",
              "    .dataframe tbody tr th:only-of-type {\n",
              "        vertical-align: middle;\n",
              "    }\n",
              "\n",
              "    .dataframe tbody tr th {\n",
              "        vertical-align: top;\n",
              "    }\n",
              "\n",
              "    .dataframe thead th {\n",
              "        text-align: right;\n",
              "    }\n",
              "</style>\n",
              "<table border=\"1\" class=\"dataframe\">\n",
              "  <thead>\n",
              "    <tr style=\"text-align: right;\">\n",
              "      <th></th>\n",
              "      <th>DIA</th>\n",
              "      <th>MES</th>\n",
              "      <th>DIANOM</th>\n",
              "      <th>TIPOVUELO</th>\n",
              "      <th>temporada_alta</th>\n",
              "      <th>dif_min</th>\n",
              "      <th>atraso_15</th>\n",
              "      <th>periodo_dia</th>\n",
              "      <th>Vlo-I0</th>\n",
              "      <th>Vlo-I1</th>\n",
              "      <th>Vlo-I2</th>\n",
              "      <th>Vlo-I3</th>\n",
              "      <th>Vlo-I4</th>\n",
              "      <th>Des-I0</th>\n",
              "      <th>Des-I1</th>\n",
              "      <th>Des-I2</th>\n",
              "      <th>Des-I3</th>\n",
              "      <th>Des-I4</th>\n",
              "      <th>Emp-I0</th>\n",
              "      <th>Emp-I1</th>\n",
              "      <th>Emp-I2</th>\n",
              "      <th>Emp-I3</th>\n",
              "      <th>Emp-I4</th>\n",
              "      <th>Vlo-O0</th>\n",
              "      <th>Vlo-O1</th>\n",
              "      <th>Vlo-O2</th>\n",
              "      <th>Vlo-O3</th>\n",
              "      <th>Vlo-O4</th>\n",
              "      <th>Emp-O0</th>\n",
              "      <th>Emp-O1</th>\n",
              "      <th>Emp-O2</th>\n",
              "      <th>Emp-O3</th>\n",
              "      <th>Emp-O4</th>\n",
              "    </tr>\n",
              "  </thead>\n",
              "  <tbody>\n",
              "    <tr>\n",
              "      <th>0</th>\n",
              "      <td>1</td>\n",
              "      <td>1</td>\n",
              "      <td>Domingo</td>\n",
              "      <td>I</td>\n",
              "      <td>1</td>\n",
              "      <td>3.0</td>\n",
              "      <td>0</td>\n",
              "      <td>noche</td>\n",
              "      <td>0.117598</td>\n",
              "      <td>0.342489</td>\n",
              "      <td>0.466993</td>\n",
              "      <td>0.812122</td>\n",
              "      <td>0.091618</td>\n",
              "      <td>0.912870</td>\n",
              "      <td>0.630535</td>\n",
              "      <td>0.599468</td>\n",
              "      <td>0.657888</td>\n",
              "      <td>0.012710</td>\n",
              "      <td>0.849689</td>\n",
              "      <td>0.549930</td>\n",
              "      <td>0.509516</td>\n",
              "      <td>0.038557</td>\n",
              "      <td>0.996984</td>\n",
              "      <td>0.903684</td>\n",
              "      <td>0.973780</td>\n",
              "      <td>0.247626</td>\n",
              "      <td>0.296774</td>\n",
              "      <td>0.778503</td>\n",
              "      <td>0.661862</td>\n",
              "      <td>0.798249</td>\n",
              "      <td>0.548041</td>\n",
              "      <td>0.490743</td>\n",
              "      <td>0.148064</td>\n",
              "    </tr>\n",
              "    <tr>\n",
              "      <th>1</th>\n",
              "      <td>2</td>\n",
              "      <td>1</td>\n",
              "      <td>Lunes</td>\n",
              "      <td>I</td>\n",
              "      <td>1</td>\n",
              "      <td>9.0</td>\n",
              "      <td>0</td>\n",
              "      <td>noche</td>\n",
              "      <td>0.117598</td>\n",
              "      <td>0.342489</td>\n",
              "      <td>0.466993</td>\n",
              "      <td>0.812122</td>\n",
              "      <td>0.091618</td>\n",
              "      <td>0.912870</td>\n",
              "      <td>0.630535</td>\n",
              "      <td>0.599468</td>\n",
              "      <td>0.657888</td>\n",
              "      <td>0.012710</td>\n",
              "      <td>0.849689</td>\n",
              "      <td>0.549930</td>\n",
              "      <td>0.509516</td>\n",
              "      <td>0.038557</td>\n",
              "      <td>0.996984</td>\n",
              "      <td>0.903684</td>\n",
              "      <td>0.973780</td>\n",
              "      <td>0.247626</td>\n",
              "      <td>0.296774</td>\n",
              "      <td>0.778503</td>\n",
              "      <td>0.661862</td>\n",
              "      <td>0.798249</td>\n",
              "      <td>0.548041</td>\n",
              "      <td>0.490743</td>\n",
              "      <td>0.148064</td>\n",
              "    </tr>\n",
              "    <tr>\n",
              "      <th>2</th>\n",
              "      <td>3</td>\n",
              "      <td>1</td>\n",
              "      <td>Martes</td>\n",
              "      <td>I</td>\n",
              "      <td>1</td>\n",
              "      <td>9.0</td>\n",
              "      <td>0</td>\n",
              "      <td>noche</td>\n",
              "      <td>0.117598</td>\n",
              "      <td>0.342489</td>\n",
              "      <td>0.466993</td>\n",
              "      <td>0.812122</td>\n",
              "      <td>0.091618</td>\n",
              "      <td>0.912870</td>\n",
              "      <td>0.630535</td>\n",
              "      <td>0.599468</td>\n",
              "      <td>0.657888</td>\n",
              "      <td>0.012710</td>\n",
              "      <td>0.849689</td>\n",
              "      <td>0.549930</td>\n",
              "      <td>0.509516</td>\n",
              "      <td>0.038557</td>\n",
              "      <td>0.996984</td>\n",
              "      <td>0.903684</td>\n",
              "      <td>0.973780</td>\n",
              "      <td>0.247626</td>\n",
              "      <td>0.296774</td>\n",
              "      <td>0.778503</td>\n",
              "      <td>0.661862</td>\n",
              "      <td>0.798249</td>\n",
              "      <td>0.548041</td>\n",
              "      <td>0.490743</td>\n",
              "      <td>0.148064</td>\n",
              "    </tr>\n",
              "    <tr>\n",
              "      <th>3</th>\n",
              "      <td>4</td>\n",
              "      <td>1</td>\n",
              "      <td>Miercoles</td>\n",
              "      <td>I</td>\n",
              "      <td>1</td>\n",
              "      <td>3.0</td>\n",
              "      <td>0</td>\n",
              "      <td>noche</td>\n",
              "      <td>0.117598</td>\n",
              "      <td>0.342489</td>\n",
              "      <td>0.466993</td>\n",
              "      <td>0.812122</td>\n",
              "      <td>0.091618</td>\n",
              "      <td>0.912870</td>\n",
              "      <td>0.630535</td>\n",
              "      <td>0.599468</td>\n",
              "      <td>0.657888</td>\n",
              "      <td>0.012710</td>\n",
              "      <td>0.849689</td>\n",
              "      <td>0.549930</td>\n",
              "      <td>0.509516</td>\n",
              "      <td>0.038557</td>\n",
              "      <td>0.996984</td>\n",
              "      <td>0.903684</td>\n",
              "      <td>0.973780</td>\n",
              "      <td>0.247626</td>\n",
              "      <td>0.296774</td>\n",
              "      <td>0.778503</td>\n",
              "      <td>0.661862</td>\n",
              "      <td>0.798249</td>\n",
              "      <td>0.548041</td>\n",
              "      <td>0.490743</td>\n",
              "      <td>0.148064</td>\n",
              "    </tr>\n",
              "    <tr>\n",
              "      <th>4</th>\n",
              "      <td>5</td>\n",
              "      <td>1</td>\n",
              "      <td>Jueves</td>\n",
              "      <td>I</td>\n",
              "      <td>1</td>\n",
              "      <td>0.0</td>\n",
              "      <td>0</td>\n",
              "      <td>noche</td>\n",
              "      <td>0.117598</td>\n",
              "      <td>0.342489</td>\n",
              "      <td>0.466993</td>\n",
              "      <td>0.812122</td>\n",
              "      <td>0.091618</td>\n",
              "      <td>0.912870</td>\n",
              "      <td>0.630535</td>\n",
              "      <td>0.599468</td>\n",
              "      <td>0.657888</td>\n",
              "      <td>0.012710</td>\n",
              "      <td>0.849689</td>\n",
              "      <td>0.549930</td>\n",
              "      <td>0.509516</td>\n",
              "      <td>0.038557</td>\n",
              "      <td>0.996984</td>\n",
              "      <td>0.903684</td>\n",
              "      <td>0.973780</td>\n",
              "      <td>0.247626</td>\n",
              "      <td>0.296774</td>\n",
              "      <td>0.778503</td>\n",
              "      <td>0.661862</td>\n",
              "      <td>0.798249</td>\n",
              "      <td>0.548041</td>\n",
              "      <td>0.490743</td>\n",
              "      <td>0.148064</td>\n",
              "    </tr>\n",
              "    <tr>\n",
              "      <th>...</th>\n",
              "      <td>...</td>\n",
              "      <td>...</td>\n",
              "      <td>...</td>\n",
              "      <td>...</td>\n",
              "      <td>...</td>\n",
              "      <td>...</td>\n",
              "      <td>...</td>\n",
              "      <td>...</td>\n",
              "      <td>...</td>\n",
              "      <td>...</td>\n",
              "      <td>...</td>\n",
              "      <td>...</td>\n",
              "      <td>...</td>\n",
              "      <td>...</td>\n",
              "      <td>...</td>\n",
              "      <td>...</td>\n",
              "      <td>...</td>\n",
              "      <td>...</td>\n",
              "      <td>...</td>\n",
              "      <td>...</td>\n",
              "      <td>...</td>\n",
              "      <td>...</td>\n",
              "      <td>...</td>\n",
              "      <td>...</td>\n",
              "      <td>...</td>\n",
              "      <td>...</td>\n",
              "      <td>...</td>\n",
              "      <td>...</td>\n",
              "      <td>...</td>\n",
              "      <td>...</td>\n",
              "      <td>...</td>\n",
              "      <td>...</td>\n",
              "      <td>...</td>\n",
              "    </tr>\n",
              "    <tr>\n",
              "      <th>68201</th>\n",
              "      <td>22</td>\n",
              "      <td>12</td>\n",
              "      <td>Viernes</td>\n",
              "      <td>I</td>\n",
              "      <td>0</td>\n",
              "      <td>46.0</td>\n",
              "      <td>1</td>\n",
              "      <td>tarde</td>\n",
              "      <td>0.085147</td>\n",
              "      <td>0.417594</td>\n",
              "      <td>0.092151</td>\n",
              "      <td>0.733388</td>\n",
              "      <td>0.320494</td>\n",
              "      <td>0.529172</td>\n",
              "      <td>0.366183</td>\n",
              "      <td>0.662607</td>\n",
              "      <td>0.104714</td>\n",
              "      <td>0.009466</td>\n",
              "      <td>0.129635</td>\n",
              "      <td>0.904523</td>\n",
              "      <td>0.877053</td>\n",
              "      <td>0.253876</td>\n",
              "      <td>0.236307</td>\n",
              "      <td>0.581542</td>\n",
              "      <td>0.606746</td>\n",
              "      <td>0.332831</td>\n",
              "      <td>0.732726</td>\n",
              "      <td>0.996050</td>\n",
              "      <td>0.290653</td>\n",
              "      <td>0.644214</td>\n",
              "      <td>0.748021</td>\n",
              "      <td>0.252126</td>\n",
              "      <td>0.196755</td>\n",
              "    </tr>\n",
              "    <tr>\n",
              "      <th>68202</th>\n",
              "      <td>25</td>\n",
              "      <td>12</td>\n",
              "      <td>Lunes</td>\n",
              "      <td>I</td>\n",
              "      <td>0</td>\n",
              "      <td>16.0</td>\n",
              "      <td>1</td>\n",
              "      <td>tarde</td>\n",
              "      <td>0.085147</td>\n",
              "      <td>0.417594</td>\n",
              "      <td>0.092151</td>\n",
              "      <td>0.733388</td>\n",
              "      <td>0.320494</td>\n",
              "      <td>0.529172</td>\n",
              "      <td>0.366183</td>\n",
              "      <td>0.662607</td>\n",
              "      <td>0.104714</td>\n",
              "      <td>0.009466</td>\n",
              "      <td>0.129635</td>\n",
              "      <td>0.904523</td>\n",
              "      <td>0.877053</td>\n",
              "      <td>0.253876</td>\n",
              "      <td>0.236307</td>\n",
              "      <td>0.581542</td>\n",
              "      <td>0.606746</td>\n",
              "      <td>0.332831</td>\n",
              "      <td>0.732726</td>\n",
              "      <td>0.996050</td>\n",
              "      <td>0.290653</td>\n",
              "      <td>0.644214</td>\n",
              "      <td>0.748021</td>\n",
              "      <td>0.252126</td>\n",
              "      <td>0.196755</td>\n",
              "    </tr>\n",
              "    <tr>\n",
              "      <th>68203</th>\n",
              "      <td>27</td>\n",
              "      <td>12</td>\n",
              "      <td>Miercoles</td>\n",
              "      <td>I</td>\n",
              "      <td>0</td>\n",
              "      <td>40.0</td>\n",
              "      <td>1</td>\n",
              "      <td>tarde</td>\n",
              "      <td>0.085147</td>\n",
              "      <td>0.417594</td>\n",
              "      <td>0.092151</td>\n",
              "      <td>0.733388</td>\n",
              "      <td>0.320494</td>\n",
              "      <td>0.529172</td>\n",
              "      <td>0.366183</td>\n",
              "      <td>0.662607</td>\n",
              "      <td>0.104714</td>\n",
              "      <td>0.009466</td>\n",
              "      <td>0.129635</td>\n",
              "      <td>0.904523</td>\n",
              "      <td>0.877053</td>\n",
              "      <td>0.253876</td>\n",
              "      <td>0.236307</td>\n",
              "      <td>0.581542</td>\n",
              "      <td>0.606746</td>\n",
              "      <td>0.332831</td>\n",
              "      <td>0.732726</td>\n",
              "      <td>0.996050</td>\n",
              "      <td>0.290653</td>\n",
              "      <td>0.644214</td>\n",
              "      <td>0.748021</td>\n",
              "      <td>0.252126</td>\n",
              "      <td>0.196755</td>\n",
              "    </tr>\n",
              "    <tr>\n",
              "      <th>68204</th>\n",
              "      <td>29</td>\n",
              "      <td>12</td>\n",
              "      <td>Viernes</td>\n",
              "      <td>I</td>\n",
              "      <td>0</td>\n",
              "      <td>13.0</td>\n",
              "      <td>0</td>\n",
              "      <td>tarde</td>\n",
              "      <td>0.085147</td>\n",
              "      <td>0.417594</td>\n",
              "      <td>0.092151</td>\n",
              "      <td>0.733388</td>\n",
              "      <td>0.320494</td>\n",
              "      <td>0.529172</td>\n",
              "      <td>0.366183</td>\n",
              "      <td>0.662607</td>\n",
              "      <td>0.104714</td>\n",
              "      <td>0.009466</td>\n",
              "      <td>0.129635</td>\n",
              "      <td>0.904523</td>\n",
              "      <td>0.877053</td>\n",
              "      <td>0.253876</td>\n",
              "      <td>0.236307</td>\n",
              "      <td>0.581542</td>\n",
              "      <td>0.606746</td>\n",
              "      <td>0.332831</td>\n",
              "      <td>0.732726</td>\n",
              "      <td>0.996050</td>\n",
              "      <td>0.290653</td>\n",
              "      <td>0.644214</td>\n",
              "      <td>0.748021</td>\n",
              "      <td>0.252126</td>\n",
              "      <td>0.196755</td>\n",
              "    </tr>\n",
              "    <tr>\n",
              "      <th>68205</th>\n",
              "      <td>31</td>\n",
              "      <td>12</td>\n",
              "      <td>Domingo</td>\n",
              "      <td>I</td>\n",
              "      <td>0</td>\n",
              "      <td>9.0</td>\n",
              "      <td>0</td>\n",
              "      <td>tarde</td>\n",
              "      <td>0.085147</td>\n",
              "      <td>0.417594</td>\n",
              "      <td>0.092151</td>\n",
              "      <td>0.733388</td>\n",
              "      <td>0.320494</td>\n",
              "      <td>0.529172</td>\n",
              "      <td>0.366183</td>\n",
              "      <td>0.662607</td>\n",
              "      <td>0.104714</td>\n",
              "      <td>0.009466</td>\n",
              "      <td>0.129635</td>\n",
              "      <td>0.904523</td>\n",
              "      <td>0.877053</td>\n",
              "      <td>0.253876</td>\n",
              "      <td>0.236307</td>\n",
              "      <td>0.581542</td>\n",
              "      <td>0.606746</td>\n",
              "      <td>0.332831</td>\n",
              "      <td>0.732726</td>\n",
              "      <td>0.996050</td>\n",
              "      <td>0.290653</td>\n",
              "      <td>0.644214</td>\n",
              "      <td>0.748021</td>\n",
              "      <td>0.252126</td>\n",
              "      <td>0.196755</td>\n",
              "    </tr>\n",
              "  </tbody>\n",
              "</table>\n",
              "<p>68206 rows × 33 columns</p>\n",
              "</div>\n",
              "      <button class=\"colab-df-convert\" onclick=\"convertToInteractive('df-e1a44698-b23f-430e-82ef-c771704dc214')\"\n",
              "              title=\"Convert this dataframe to an interactive table.\"\n",
              "              style=\"display:none;\">\n",
              "        \n",
              "  <svg xmlns=\"http://www.w3.org/2000/svg\" height=\"24px\"viewBox=\"0 0 24 24\"\n",
              "       width=\"24px\">\n",
              "    <path d=\"M0 0h24v24H0V0z\" fill=\"none\"/>\n",
              "    <path d=\"M18.56 5.44l.94 2.06.94-2.06 2.06-.94-2.06-.94-.94-2.06-.94 2.06-2.06.94zm-11 1L8.5 8.5l.94-2.06 2.06-.94-2.06-.94L8.5 2.5l-.94 2.06-2.06.94zm10 10l.94 2.06.94-2.06 2.06-.94-2.06-.94-.94-2.06-.94 2.06-2.06.94z\"/><path d=\"M17.41 7.96l-1.37-1.37c-.4-.4-.92-.59-1.43-.59-.52 0-1.04.2-1.43.59L10.3 9.45l-7.72 7.72c-.78.78-.78 2.05 0 2.83L4 21.41c.39.39.9.59 1.41.59.51 0 1.02-.2 1.41-.59l7.78-7.78 2.81-2.81c.8-.78.8-2.07 0-2.86zM5.41 20L4 18.59l7.72-7.72 1.47 1.35L5.41 20z\"/>\n",
              "  </svg>\n",
              "      </button>\n",
              "      \n",
              "  <style>\n",
              "    .colab-df-container {\n",
              "      display:flex;\n",
              "      flex-wrap:wrap;\n",
              "      gap: 12px;\n",
              "    }\n",
              "\n",
              "    .colab-df-convert {\n",
              "      background-color: #E8F0FE;\n",
              "      border: none;\n",
              "      border-radius: 50%;\n",
              "      cursor: pointer;\n",
              "      display: none;\n",
              "      fill: #1967D2;\n",
              "      height: 32px;\n",
              "      padding: 0 0 0 0;\n",
              "      width: 32px;\n",
              "    }\n",
              "\n",
              "    .colab-df-convert:hover {\n",
              "      background-color: #E2EBFA;\n",
              "      box-shadow: 0px 1px 2px rgba(60, 64, 67, 0.3), 0px 1px 3px 1px rgba(60, 64, 67, 0.15);\n",
              "      fill: #174EA6;\n",
              "    }\n",
              "\n",
              "    [theme=dark] .colab-df-convert {\n",
              "      background-color: #3B4455;\n",
              "      fill: #D2E3FC;\n",
              "    }\n",
              "\n",
              "    [theme=dark] .colab-df-convert:hover {\n",
              "      background-color: #434B5C;\n",
              "      box-shadow: 0px 1px 3px 1px rgba(0, 0, 0, 0.15);\n",
              "      filter: drop-shadow(0px 1px 2px rgba(0, 0, 0, 0.3));\n",
              "      fill: #FFFFFF;\n",
              "    }\n",
              "  </style>\n",
              "\n",
              "      <script>\n",
              "        const buttonEl =\n",
              "          document.querySelector('#df-e1a44698-b23f-430e-82ef-c771704dc214 button.colab-df-convert');\n",
              "        buttonEl.style.display =\n",
              "          google.colab.kernel.accessAllowed ? 'block' : 'none';\n",
              "\n",
              "        async function convertToInteractive(key) {\n",
              "          const element = document.querySelector('#df-e1a44698-b23f-430e-82ef-c771704dc214');\n",
              "          const dataTable =\n",
              "            await google.colab.kernel.invokeFunction('convertToInteractive',\n",
              "                                                     [key], {});\n",
              "          if (!dataTable) return;\n",
              "\n",
              "          const docLinkHtml = 'Like what you see? Visit the ' +\n",
              "            '<a target=\"_blank\" href=https://colab.research.google.com/notebooks/data_table.ipynb>data table notebook</a>'\n",
              "            + ' to learn more about interactive tables.';\n",
              "          element.innerHTML = '';\n",
              "          dataTable['output_type'] = 'display_data';\n",
              "          await google.colab.output.renderOutput(dataTable, element);\n",
              "          const docLink = document.createElement('div');\n",
              "          docLink.innerHTML = docLinkHtml;\n",
              "          element.appendChild(docLink);\n",
              "        }\n",
              "      </script>\n",
              "    </div>\n",
              "  </div>\n",
              "  "
            ]
          },
          "metadata": {},
          "execution_count": 43
        }
      ]
    },
    {
      "cell_type": "markdown",
      "source": [
        "##### Transformacion del resto de las variables categoricas a dummies"
      ],
      "metadata": {
        "id": "DrNeqN1AC5Va"
      },
      "id": "DrNeqN1AC5Va"
    },
    {
      "cell_type": "code",
      "source": [
        "df_embedding = pd.get_dummies(df_embedding, columns=['DIANOM', 'TIPOVUELO', 'periodo_dia'])"
      ],
      "metadata": {
        "id": "k76x8rm8Cog9"
      },
      "id": "k76x8rm8Cog9",
      "execution_count": 44,
      "outputs": []
    },
    {
      "cell_type": "code",
      "source": [
        "df_embedding"
      ],
      "metadata": {
        "colab": {
          "base_uri": "https://localhost:8080/",
          "height": 487
        },
        "id": "C25ErqKbEODe",
        "outputId": "b8bb6634-0d44-4985-d75f-b5dffb655ec4"
      },
      "id": "C25ErqKbEODe",
      "execution_count": 45,
      "outputs": [
        {
          "output_type": "execute_result",
          "data": {
            "text/plain": [
              "       DIA  MES  temporada_alta  dif_min  atraso_15    Vlo-I0    Vlo-I1  \\\n",
              "0        1    1               1      3.0          0  0.117598  0.342489   \n",
              "1        2    1               1      9.0          0  0.117598  0.342489   \n",
              "2        3    1               1      9.0          0  0.117598  0.342489   \n",
              "3        4    1               1      3.0          0  0.117598  0.342489   \n",
              "4        5    1               1      0.0          0  0.117598  0.342489   \n",
              "...    ...  ...             ...      ...        ...       ...       ...   \n",
              "68201   22   12               0     46.0          1  0.085147  0.417594   \n",
              "68202   25   12               0     16.0          1  0.085147  0.417594   \n",
              "68203   27   12               0     40.0          1  0.085147  0.417594   \n",
              "68204   29   12               0     13.0          0  0.085147  0.417594   \n",
              "68205   31   12               0      9.0          0  0.085147  0.417594   \n",
              "\n",
              "         Vlo-I2    Vlo-I3    Vlo-I4    Des-I0    Des-I1    Des-I2    Des-I3  \\\n",
              "0      0.466993  0.812122  0.091618  0.912870  0.630535  0.599468  0.657888   \n",
              "1      0.466993  0.812122  0.091618  0.912870  0.630535  0.599468  0.657888   \n",
              "2      0.466993  0.812122  0.091618  0.912870  0.630535  0.599468  0.657888   \n",
              "3      0.466993  0.812122  0.091618  0.912870  0.630535  0.599468  0.657888   \n",
              "4      0.466993  0.812122  0.091618  0.912870  0.630535  0.599468  0.657888   \n",
              "...         ...       ...       ...       ...       ...       ...       ...   \n",
              "68201  0.092151  0.733388  0.320494  0.529172  0.366183  0.662607  0.104714   \n",
              "68202  0.092151  0.733388  0.320494  0.529172  0.366183  0.662607  0.104714   \n",
              "68203  0.092151  0.733388  0.320494  0.529172  0.366183  0.662607  0.104714   \n",
              "68204  0.092151  0.733388  0.320494  0.529172  0.366183  0.662607  0.104714   \n",
              "68205  0.092151  0.733388  0.320494  0.529172  0.366183  0.662607  0.104714   \n",
              "\n",
              "         Des-I4    Emp-I0    Emp-I1    Emp-I2    Emp-I3    Emp-I4    Vlo-O0  \\\n",
              "0      0.012710  0.849689  0.549930  0.509516  0.038557  0.996984  0.903684   \n",
              "1      0.012710  0.849689  0.549930  0.509516  0.038557  0.996984  0.903684   \n",
              "2      0.012710  0.849689  0.549930  0.509516  0.038557  0.996984  0.903684   \n",
              "3      0.012710  0.849689  0.549930  0.509516  0.038557  0.996984  0.903684   \n",
              "4      0.012710  0.849689  0.549930  0.509516  0.038557  0.996984  0.903684   \n",
              "...         ...       ...       ...       ...       ...       ...       ...   \n",
              "68201  0.009466  0.129635  0.904523  0.877053  0.253876  0.236307  0.581542   \n",
              "68202  0.009466  0.129635  0.904523  0.877053  0.253876  0.236307  0.581542   \n",
              "68203  0.009466  0.129635  0.904523  0.877053  0.253876  0.236307  0.581542   \n",
              "68204  0.009466  0.129635  0.904523  0.877053  0.253876  0.236307  0.581542   \n",
              "68205  0.009466  0.129635  0.904523  0.877053  0.253876  0.236307  0.581542   \n",
              "\n",
              "         Vlo-O1    Vlo-O2    Vlo-O3    Vlo-O4    Emp-O0    Emp-O1    Emp-O2  \\\n",
              "0      0.973780  0.247626  0.296774  0.778503  0.661862  0.798249  0.548041   \n",
              "1      0.973780  0.247626  0.296774  0.778503  0.661862  0.798249  0.548041   \n",
              "2      0.973780  0.247626  0.296774  0.778503  0.661862  0.798249  0.548041   \n",
              "3      0.973780  0.247626  0.296774  0.778503  0.661862  0.798249  0.548041   \n",
              "4      0.973780  0.247626  0.296774  0.778503  0.661862  0.798249  0.548041   \n",
              "...         ...       ...       ...       ...       ...       ...       ...   \n",
              "68201  0.606746  0.332831  0.732726  0.996050  0.290653  0.644214  0.748021   \n",
              "68202  0.606746  0.332831  0.732726  0.996050  0.290653  0.644214  0.748021   \n",
              "68203  0.606746  0.332831  0.732726  0.996050  0.290653  0.644214  0.748021   \n",
              "68204  0.606746  0.332831  0.732726  0.996050  0.290653  0.644214  0.748021   \n",
              "68205  0.606746  0.332831  0.732726  0.996050  0.290653  0.644214  0.748021   \n",
              "\n",
              "         Emp-O3    Emp-O4  DIANOM_Domingo  DIANOM_Jueves  DIANOM_Lunes  \\\n",
              "0      0.490743  0.148064               1              0             0   \n",
              "1      0.490743  0.148064               0              0             1   \n",
              "2      0.490743  0.148064               0              0             0   \n",
              "3      0.490743  0.148064               0              0             0   \n",
              "4      0.490743  0.148064               0              1             0   \n",
              "...         ...       ...             ...            ...           ...   \n",
              "68201  0.252126  0.196755               0              0             0   \n",
              "68202  0.252126  0.196755               0              0             1   \n",
              "68203  0.252126  0.196755               0              0             0   \n",
              "68204  0.252126  0.196755               0              0             0   \n",
              "68205  0.252126  0.196755               1              0             0   \n",
              "\n",
              "       DIANOM_Martes  DIANOM_Miercoles  DIANOM_Sabado  DIANOM_Viernes  \\\n",
              "0                  0                 0              0               0   \n",
              "1                  0                 0              0               0   \n",
              "2                  1                 0              0               0   \n",
              "3                  0                 1              0               0   \n",
              "4                  0                 0              0               0   \n",
              "...              ...               ...            ...             ...   \n",
              "68201              0                 0              0               1   \n",
              "68202              0                 0              0               0   \n",
              "68203              0                 1              0               0   \n",
              "68204              0                 0              0               1   \n",
              "68205              0                 0              0               0   \n",
              "\n",
              "       TIPOVUELO_I  TIPOVUELO_N  periodo_dia_mañana  periodo_dia_noche  \\\n",
              "0                1            0                   0                  1   \n",
              "1                1            0                   0                  1   \n",
              "2                1            0                   0                  1   \n",
              "3                1            0                   0                  1   \n",
              "4                1            0                   0                  1   \n",
              "...            ...          ...                 ...                ...   \n",
              "68201            1            0                   0                  0   \n",
              "68202            1            0                   0                  0   \n",
              "68203            1            0                   0                  0   \n",
              "68204            1            0                   0                  0   \n",
              "68205            1            0                   0                  0   \n",
              "\n",
              "       periodo_dia_tarde  \n",
              "0                      0  \n",
              "1                      0  \n",
              "2                      0  \n",
              "3                      0  \n",
              "4                      0  \n",
              "...                  ...  \n",
              "68201                  1  \n",
              "68202                  1  \n",
              "68203                  1  \n",
              "68204                  1  \n",
              "68205                  1  \n",
              "\n",
              "[68206 rows x 42 columns]"
            ],
            "text/html": [
              "\n",
              "  <div id=\"df-406bde01-3d08-48ac-997a-eadcb9a36ecd\">\n",
              "    <div class=\"colab-df-container\">\n",
              "      <div>\n",
              "<style scoped>\n",
              "    .dataframe tbody tr th:only-of-type {\n",
              "        vertical-align: middle;\n",
              "    }\n",
              "\n",
              "    .dataframe tbody tr th {\n",
              "        vertical-align: top;\n",
              "    }\n",
              "\n",
              "    .dataframe thead th {\n",
              "        text-align: right;\n",
              "    }\n",
              "</style>\n",
              "<table border=\"1\" class=\"dataframe\">\n",
              "  <thead>\n",
              "    <tr style=\"text-align: right;\">\n",
              "      <th></th>\n",
              "      <th>DIA</th>\n",
              "      <th>MES</th>\n",
              "      <th>temporada_alta</th>\n",
              "      <th>dif_min</th>\n",
              "      <th>atraso_15</th>\n",
              "      <th>Vlo-I0</th>\n",
              "      <th>Vlo-I1</th>\n",
              "      <th>Vlo-I2</th>\n",
              "      <th>Vlo-I3</th>\n",
              "      <th>Vlo-I4</th>\n",
              "      <th>Des-I0</th>\n",
              "      <th>Des-I1</th>\n",
              "      <th>Des-I2</th>\n",
              "      <th>Des-I3</th>\n",
              "      <th>Des-I4</th>\n",
              "      <th>Emp-I0</th>\n",
              "      <th>Emp-I1</th>\n",
              "      <th>Emp-I2</th>\n",
              "      <th>Emp-I3</th>\n",
              "      <th>Emp-I4</th>\n",
              "      <th>Vlo-O0</th>\n",
              "      <th>Vlo-O1</th>\n",
              "      <th>Vlo-O2</th>\n",
              "      <th>Vlo-O3</th>\n",
              "      <th>Vlo-O4</th>\n",
              "      <th>Emp-O0</th>\n",
              "      <th>Emp-O1</th>\n",
              "      <th>Emp-O2</th>\n",
              "      <th>Emp-O3</th>\n",
              "      <th>Emp-O4</th>\n",
              "      <th>DIANOM_Domingo</th>\n",
              "      <th>DIANOM_Jueves</th>\n",
              "      <th>DIANOM_Lunes</th>\n",
              "      <th>DIANOM_Martes</th>\n",
              "      <th>DIANOM_Miercoles</th>\n",
              "      <th>DIANOM_Sabado</th>\n",
              "      <th>DIANOM_Viernes</th>\n",
              "      <th>TIPOVUELO_I</th>\n",
              "      <th>TIPOVUELO_N</th>\n",
              "      <th>periodo_dia_mañana</th>\n",
              "      <th>periodo_dia_noche</th>\n",
              "      <th>periodo_dia_tarde</th>\n",
              "    </tr>\n",
              "  </thead>\n",
              "  <tbody>\n",
              "    <tr>\n",
              "      <th>0</th>\n",
              "      <td>1</td>\n",
              "      <td>1</td>\n",
              "      <td>1</td>\n",
              "      <td>3.0</td>\n",
              "      <td>0</td>\n",
              "      <td>0.117598</td>\n",
              "      <td>0.342489</td>\n",
              "      <td>0.466993</td>\n",
              "      <td>0.812122</td>\n",
              "      <td>0.091618</td>\n",
              "      <td>0.912870</td>\n",
              "      <td>0.630535</td>\n",
              "      <td>0.599468</td>\n",
              "      <td>0.657888</td>\n",
              "      <td>0.012710</td>\n",
              "      <td>0.849689</td>\n",
              "      <td>0.549930</td>\n",
              "      <td>0.509516</td>\n",
              "      <td>0.038557</td>\n",
              "      <td>0.996984</td>\n",
              "      <td>0.903684</td>\n",
              "      <td>0.973780</td>\n",
              "      <td>0.247626</td>\n",
              "      <td>0.296774</td>\n",
              "      <td>0.778503</td>\n",
              "      <td>0.661862</td>\n",
              "      <td>0.798249</td>\n",
              "      <td>0.548041</td>\n",
              "      <td>0.490743</td>\n",
              "      <td>0.148064</td>\n",
              "      <td>1</td>\n",
              "      <td>0</td>\n",
              "      <td>0</td>\n",
              "      <td>0</td>\n",
              "      <td>0</td>\n",
              "      <td>0</td>\n",
              "      <td>0</td>\n",
              "      <td>1</td>\n",
              "      <td>0</td>\n",
              "      <td>0</td>\n",
              "      <td>1</td>\n",
              "      <td>0</td>\n",
              "    </tr>\n",
              "    <tr>\n",
              "      <th>1</th>\n",
              "      <td>2</td>\n",
              "      <td>1</td>\n",
              "      <td>1</td>\n",
              "      <td>9.0</td>\n",
              "      <td>0</td>\n",
              "      <td>0.117598</td>\n",
              "      <td>0.342489</td>\n",
              "      <td>0.466993</td>\n",
              "      <td>0.812122</td>\n",
              "      <td>0.091618</td>\n",
              "      <td>0.912870</td>\n",
              "      <td>0.630535</td>\n",
              "      <td>0.599468</td>\n",
              "      <td>0.657888</td>\n",
              "      <td>0.012710</td>\n",
              "      <td>0.849689</td>\n",
              "      <td>0.549930</td>\n",
              "      <td>0.509516</td>\n",
              "      <td>0.038557</td>\n",
              "      <td>0.996984</td>\n",
              "      <td>0.903684</td>\n",
              "      <td>0.973780</td>\n",
              "      <td>0.247626</td>\n",
              "      <td>0.296774</td>\n",
              "      <td>0.778503</td>\n",
              "      <td>0.661862</td>\n",
              "      <td>0.798249</td>\n",
              "      <td>0.548041</td>\n",
              "      <td>0.490743</td>\n",
              "      <td>0.148064</td>\n",
              "      <td>0</td>\n",
              "      <td>0</td>\n",
              "      <td>1</td>\n",
              "      <td>0</td>\n",
              "      <td>0</td>\n",
              "      <td>0</td>\n",
              "      <td>0</td>\n",
              "      <td>1</td>\n",
              "      <td>0</td>\n",
              "      <td>0</td>\n",
              "      <td>1</td>\n",
              "      <td>0</td>\n",
              "    </tr>\n",
              "    <tr>\n",
              "      <th>2</th>\n",
              "      <td>3</td>\n",
              "      <td>1</td>\n",
              "      <td>1</td>\n",
              "      <td>9.0</td>\n",
              "      <td>0</td>\n",
              "      <td>0.117598</td>\n",
              "      <td>0.342489</td>\n",
              "      <td>0.466993</td>\n",
              "      <td>0.812122</td>\n",
              "      <td>0.091618</td>\n",
              "      <td>0.912870</td>\n",
              "      <td>0.630535</td>\n",
              "      <td>0.599468</td>\n",
              "      <td>0.657888</td>\n",
              "      <td>0.012710</td>\n",
              "      <td>0.849689</td>\n",
              "      <td>0.549930</td>\n",
              "      <td>0.509516</td>\n",
              "      <td>0.038557</td>\n",
              "      <td>0.996984</td>\n",
              "      <td>0.903684</td>\n",
              "      <td>0.973780</td>\n",
              "      <td>0.247626</td>\n",
              "      <td>0.296774</td>\n",
              "      <td>0.778503</td>\n",
              "      <td>0.661862</td>\n",
              "      <td>0.798249</td>\n",
              "      <td>0.548041</td>\n",
              "      <td>0.490743</td>\n",
              "      <td>0.148064</td>\n",
              "      <td>0</td>\n",
              "      <td>0</td>\n",
              "      <td>0</td>\n",
              "      <td>1</td>\n",
              "      <td>0</td>\n",
              "      <td>0</td>\n",
              "      <td>0</td>\n",
              "      <td>1</td>\n",
              "      <td>0</td>\n",
              "      <td>0</td>\n",
              "      <td>1</td>\n",
              "      <td>0</td>\n",
              "    </tr>\n",
              "    <tr>\n",
              "      <th>3</th>\n",
              "      <td>4</td>\n",
              "      <td>1</td>\n",
              "      <td>1</td>\n",
              "      <td>3.0</td>\n",
              "      <td>0</td>\n",
              "      <td>0.117598</td>\n",
              "      <td>0.342489</td>\n",
              "      <td>0.466993</td>\n",
              "      <td>0.812122</td>\n",
              "      <td>0.091618</td>\n",
              "      <td>0.912870</td>\n",
              "      <td>0.630535</td>\n",
              "      <td>0.599468</td>\n",
              "      <td>0.657888</td>\n",
              "      <td>0.012710</td>\n",
              "      <td>0.849689</td>\n",
              "      <td>0.549930</td>\n",
              "      <td>0.509516</td>\n",
              "      <td>0.038557</td>\n",
              "      <td>0.996984</td>\n",
              "      <td>0.903684</td>\n",
              "      <td>0.973780</td>\n",
              "      <td>0.247626</td>\n",
              "      <td>0.296774</td>\n",
              "      <td>0.778503</td>\n",
              "      <td>0.661862</td>\n",
              "      <td>0.798249</td>\n",
              "      <td>0.548041</td>\n",
              "      <td>0.490743</td>\n",
              "      <td>0.148064</td>\n",
              "      <td>0</td>\n",
              "      <td>0</td>\n",
              "      <td>0</td>\n",
              "      <td>0</td>\n",
              "      <td>1</td>\n",
              "      <td>0</td>\n",
              "      <td>0</td>\n",
              "      <td>1</td>\n",
              "      <td>0</td>\n",
              "      <td>0</td>\n",
              "      <td>1</td>\n",
              "      <td>0</td>\n",
              "    </tr>\n",
              "    <tr>\n",
              "      <th>4</th>\n",
              "      <td>5</td>\n",
              "      <td>1</td>\n",
              "      <td>1</td>\n",
              "      <td>0.0</td>\n",
              "      <td>0</td>\n",
              "      <td>0.117598</td>\n",
              "      <td>0.342489</td>\n",
              "      <td>0.466993</td>\n",
              "      <td>0.812122</td>\n",
              "      <td>0.091618</td>\n",
              "      <td>0.912870</td>\n",
              "      <td>0.630535</td>\n",
              "      <td>0.599468</td>\n",
              "      <td>0.657888</td>\n",
              "      <td>0.012710</td>\n",
              "      <td>0.849689</td>\n",
              "      <td>0.549930</td>\n",
              "      <td>0.509516</td>\n",
              "      <td>0.038557</td>\n",
              "      <td>0.996984</td>\n",
              "      <td>0.903684</td>\n",
              "      <td>0.973780</td>\n",
              "      <td>0.247626</td>\n",
              "      <td>0.296774</td>\n",
              "      <td>0.778503</td>\n",
              "      <td>0.661862</td>\n",
              "      <td>0.798249</td>\n",
              "      <td>0.548041</td>\n",
              "      <td>0.490743</td>\n",
              "      <td>0.148064</td>\n",
              "      <td>0</td>\n",
              "      <td>1</td>\n",
              "      <td>0</td>\n",
              "      <td>0</td>\n",
              "      <td>0</td>\n",
              "      <td>0</td>\n",
              "      <td>0</td>\n",
              "      <td>1</td>\n",
              "      <td>0</td>\n",
              "      <td>0</td>\n",
              "      <td>1</td>\n",
              "      <td>0</td>\n",
              "    </tr>\n",
              "    <tr>\n",
              "      <th>...</th>\n",
              "      <td>...</td>\n",
              "      <td>...</td>\n",
              "      <td>...</td>\n",
              "      <td>...</td>\n",
              "      <td>...</td>\n",
              "      <td>...</td>\n",
              "      <td>...</td>\n",
              "      <td>...</td>\n",
              "      <td>...</td>\n",
              "      <td>...</td>\n",
              "      <td>...</td>\n",
              "      <td>...</td>\n",
              "      <td>...</td>\n",
              "      <td>...</td>\n",
              "      <td>...</td>\n",
              "      <td>...</td>\n",
              "      <td>...</td>\n",
              "      <td>...</td>\n",
              "      <td>...</td>\n",
              "      <td>...</td>\n",
              "      <td>...</td>\n",
              "      <td>...</td>\n",
              "      <td>...</td>\n",
              "      <td>...</td>\n",
              "      <td>...</td>\n",
              "      <td>...</td>\n",
              "      <td>...</td>\n",
              "      <td>...</td>\n",
              "      <td>...</td>\n",
              "      <td>...</td>\n",
              "      <td>...</td>\n",
              "      <td>...</td>\n",
              "      <td>...</td>\n",
              "      <td>...</td>\n",
              "      <td>...</td>\n",
              "      <td>...</td>\n",
              "      <td>...</td>\n",
              "      <td>...</td>\n",
              "      <td>...</td>\n",
              "      <td>...</td>\n",
              "      <td>...</td>\n",
              "      <td>...</td>\n",
              "    </tr>\n",
              "    <tr>\n",
              "      <th>68201</th>\n",
              "      <td>22</td>\n",
              "      <td>12</td>\n",
              "      <td>0</td>\n",
              "      <td>46.0</td>\n",
              "      <td>1</td>\n",
              "      <td>0.085147</td>\n",
              "      <td>0.417594</td>\n",
              "      <td>0.092151</td>\n",
              "      <td>0.733388</td>\n",
              "      <td>0.320494</td>\n",
              "      <td>0.529172</td>\n",
              "      <td>0.366183</td>\n",
              "      <td>0.662607</td>\n",
              "      <td>0.104714</td>\n",
              "      <td>0.009466</td>\n",
              "      <td>0.129635</td>\n",
              "      <td>0.904523</td>\n",
              "      <td>0.877053</td>\n",
              "      <td>0.253876</td>\n",
              "      <td>0.236307</td>\n",
              "      <td>0.581542</td>\n",
              "      <td>0.606746</td>\n",
              "      <td>0.332831</td>\n",
              "      <td>0.732726</td>\n",
              "      <td>0.996050</td>\n",
              "      <td>0.290653</td>\n",
              "      <td>0.644214</td>\n",
              "      <td>0.748021</td>\n",
              "      <td>0.252126</td>\n",
              "      <td>0.196755</td>\n",
              "      <td>0</td>\n",
              "      <td>0</td>\n",
              "      <td>0</td>\n",
              "      <td>0</td>\n",
              "      <td>0</td>\n",
              "      <td>0</td>\n",
              "      <td>1</td>\n",
              "      <td>1</td>\n",
              "      <td>0</td>\n",
              "      <td>0</td>\n",
              "      <td>0</td>\n",
              "      <td>1</td>\n",
              "    </tr>\n",
              "    <tr>\n",
              "      <th>68202</th>\n",
              "      <td>25</td>\n",
              "      <td>12</td>\n",
              "      <td>0</td>\n",
              "      <td>16.0</td>\n",
              "      <td>1</td>\n",
              "      <td>0.085147</td>\n",
              "      <td>0.417594</td>\n",
              "      <td>0.092151</td>\n",
              "      <td>0.733388</td>\n",
              "      <td>0.320494</td>\n",
              "      <td>0.529172</td>\n",
              "      <td>0.366183</td>\n",
              "      <td>0.662607</td>\n",
              "      <td>0.104714</td>\n",
              "      <td>0.009466</td>\n",
              "      <td>0.129635</td>\n",
              "      <td>0.904523</td>\n",
              "      <td>0.877053</td>\n",
              "      <td>0.253876</td>\n",
              "      <td>0.236307</td>\n",
              "      <td>0.581542</td>\n",
              "      <td>0.606746</td>\n",
              "      <td>0.332831</td>\n",
              "      <td>0.732726</td>\n",
              "      <td>0.996050</td>\n",
              "      <td>0.290653</td>\n",
              "      <td>0.644214</td>\n",
              "      <td>0.748021</td>\n",
              "      <td>0.252126</td>\n",
              "      <td>0.196755</td>\n",
              "      <td>0</td>\n",
              "      <td>0</td>\n",
              "      <td>1</td>\n",
              "      <td>0</td>\n",
              "      <td>0</td>\n",
              "      <td>0</td>\n",
              "      <td>0</td>\n",
              "      <td>1</td>\n",
              "      <td>0</td>\n",
              "      <td>0</td>\n",
              "      <td>0</td>\n",
              "      <td>1</td>\n",
              "    </tr>\n",
              "    <tr>\n",
              "      <th>68203</th>\n",
              "      <td>27</td>\n",
              "      <td>12</td>\n",
              "      <td>0</td>\n",
              "      <td>40.0</td>\n",
              "      <td>1</td>\n",
              "      <td>0.085147</td>\n",
              "      <td>0.417594</td>\n",
              "      <td>0.092151</td>\n",
              "      <td>0.733388</td>\n",
              "      <td>0.320494</td>\n",
              "      <td>0.529172</td>\n",
              "      <td>0.366183</td>\n",
              "      <td>0.662607</td>\n",
              "      <td>0.104714</td>\n",
              "      <td>0.009466</td>\n",
              "      <td>0.129635</td>\n",
              "      <td>0.904523</td>\n",
              "      <td>0.877053</td>\n",
              "      <td>0.253876</td>\n",
              "      <td>0.236307</td>\n",
              "      <td>0.581542</td>\n",
              "      <td>0.606746</td>\n",
              "      <td>0.332831</td>\n",
              "      <td>0.732726</td>\n",
              "      <td>0.996050</td>\n",
              "      <td>0.290653</td>\n",
              "      <td>0.644214</td>\n",
              "      <td>0.748021</td>\n",
              "      <td>0.252126</td>\n",
              "      <td>0.196755</td>\n",
              "      <td>0</td>\n",
              "      <td>0</td>\n",
              "      <td>0</td>\n",
              "      <td>0</td>\n",
              "      <td>1</td>\n",
              "      <td>0</td>\n",
              "      <td>0</td>\n",
              "      <td>1</td>\n",
              "      <td>0</td>\n",
              "      <td>0</td>\n",
              "      <td>0</td>\n",
              "      <td>1</td>\n",
              "    </tr>\n",
              "    <tr>\n",
              "      <th>68204</th>\n",
              "      <td>29</td>\n",
              "      <td>12</td>\n",
              "      <td>0</td>\n",
              "      <td>13.0</td>\n",
              "      <td>0</td>\n",
              "      <td>0.085147</td>\n",
              "      <td>0.417594</td>\n",
              "      <td>0.092151</td>\n",
              "      <td>0.733388</td>\n",
              "      <td>0.320494</td>\n",
              "      <td>0.529172</td>\n",
              "      <td>0.366183</td>\n",
              "      <td>0.662607</td>\n",
              "      <td>0.104714</td>\n",
              "      <td>0.009466</td>\n",
              "      <td>0.129635</td>\n",
              "      <td>0.904523</td>\n",
              "      <td>0.877053</td>\n",
              "      <td>0.253876</td>\n",
              "      <td>0.236307</td>\n",
              "      <td>0.581542</td>\n",
              "      <td>0.606746</td>\n",
              "      <td>0.332831</td>\n",
              "      <td>0.732726</td>\n",
              "      <td>0.996050</td>\n",
              "      <td>0.290653</td>\n",
              "      <td>0.644214</td>\n",
              "      <td>0.748021</td>\n",
              "      <td>0.252126</td>\n",
              "      <td>0.196755</td>\n",
              "      <td>0</td>\n",
              "      <td>0</td>\n",
              "      <td>0</td>\n",
              "      <td>0</td>\n",
              "      <td>0</td>\n",
              "      <td>0</td>\n",
              "      <td>1</td>\n",
              "      <td>1</td>\n",
              "      <td>0</td>\n",
              "      <td>0</td>\n",
              "      <td>0</td>\n",
              "      <td>1</td>\n",
              "    </tr>\n",
              "    <tr>\n",
              "      <th>68205</th>\n",
              "      <td>31</td>\n",
              "      <td>12</td>\n",
              "      <td>0</td>\n",
              "      <td>9.0</td>\n",
              "      <td>0</td>\n",
              "      <td>0.085147</td>\n",
              "      <td>0.417594</td>\n",
              "      <td>0.092151</td>\n",
              "      <td>0.733388</td>\n",
              "      <td>0.320494</td>\n",
              "      <td>0.529172</td>\n",
              "      <td>0.366183</td>\n",
              "      <td>0.662607</td>\n",
              "      <td>0.104714</td>\n",
              "      <td>0.009466</td>\n",
              "      <td>0.129635</td>\n",
              "      <td>0.904523</td>\n",
              "      <td>0.877053</td>\n",
              "      <td>0.253876</td>\n",
              "      <td>0.236307</td>\n",
              "      <td>0.581542</td>\n",
              "      <td>0.606746</td>\n",
              "      <td>0.332831</td>\n",
              "      <td>0.732726</td>\n",
              "      <td>0.996050</td>\n",
              "      <td>0.290653</td>\n",
              "      <td>0.644214</td>\n",
              "      <td>0.748021</td>\n",
              "      <td>0.252126</td>\n",
              "      <td>0.196755</td>\n",
              "      <td>1</td>\n",
              "      <td>0</td>\n",
              "      <td>0</td>\n",
              "      <td>0</td>\n",
              "      <td>0</td>\n",
              "      <td>0</td>\n",
              "      <td>0</td>\n",
              "      <td>1</td>\n",
              "      <td>0</td>\n",
              "      <td>0</td>\n",
              "      <td>0</td>\n",
              "      <td>1</td>\n",
              "    </tr>\n",
              "  </tbody>\n",
              "</table>\n",
              "<p>68206 rows × 42 columns</p>\n",
              "</div>\n",
              "      <button class=\"colab-df-convert\" onclick=\"convertToInteractive('df-406bde01-3d08-48ac-997a-eadcb9a36ecd')\"\n",
              "              title=\"Convert this dataframe to an interactive table.\"\n",
              "              style=\"display:none;\">\n",
              "        \n",
              "  <svg xmlns=\"http://www.w3.org/2000/svg\" height=\"24px\"viewBox=\"0 0 24 24\"\n",
              "       width=\"24px\">\n",
              "    <path d=\"M0 0h24v24H0V0z\" fill=\"none\"/>\n",
              "    <path d=\"M18.56 5.44l.94 2.06.94-2.06 2.06-.94-2.06-.94-.94-2.06-.94 2.06-2.06.94zm-11 1L8.5 8.5l.94-2.06 2.06-.94-2.06-.94L8.5 2.5l-.94 2.06-2.06.94zm10 10l.94 2.06.94-2.06 2.06-.94-2.06-.94-.94-2.06-.94 2.06-2.06.94z\"/><path d=\"M17.41 7.96l-1.37-1.37c-.4-.4-.92-.59-1.43-.59-.52 0-1.04.2-1.43.59L10.3 9.45l-7.72 7.72c-.78.78-.78 2.05 0 2.83L4 21.41c.39.39.9.59 1.41.59.51 0 1.02-.2 1.41-.59l7.78-7.78 2.81-2.81c.8-.78.8-2.07 0-2.86zM5.41 20L4 18.59l7.72-7.72 1.47 1.35L5.41 20z\"/>\n",
              "  </svg>\n",
              "      </button>\n",
              "      \n",
              "  <style>\n",
              "    .colab-df-container {\n",
              "      display:flex;\n",
              "      flex-wrap:wrap;\n",
              "      gap: 12px;\n",
              "    }\n",
              "\n",
              "    .colab-df-convert {\n",
              "      background-color: #E8F0FE;\n",
              "      border: none;\n",
              "      border-radius: 50%;\n",
              "      cursor: pointer;\n",
              "      display: none;\n",
              "      fill: #1967D2;\n",
              "      height: 32px;\n",
              "      padding: 0 0 0 0;\n",
              "      width: 32px;\n",
              "    }\n",
              "\n",
              "    .colab-df-convert:hover {\n",
              "      background-color: #E2EBFA;\n",
              "      box-shadow: 0px 1px 2px rgba(60, 64, 67, 0.3), 0px 1px 3px 1px rgba(60, 64, 67, 0.15);\n",
              "      fill: #174EA6;\n",
              "    }\n",
              "\n",
              "    [theme=dark] .colab-df-convert {\n",
              "      background-color: #3B4455;\n",
              "      fill: #D2E3FC;\n",
              "    }\n",
              "\n",
              "    [theme=dark] .colab-df-convert:hover {\n",
              "      background-color: #434B5C;\n",
              "      box-shadow: 0px 1px 3px 1px rgba(0, 0, 0, 0.15);\n",
              "      filter: drop-shadow(0px 1px 2px rgba(0, 0, 0, 0.3));\n",
              "      fill: #FFFFFF;\n",
              "    }\n",
              "  </style>\n",
              "\n",
              "      <script>\n",
              "        const buttonEl =\n",
              "          document.querySelector('#df-406bde01-3d08-48ac-997a-eadcb9a36ecd button.colab-df-convert');\n",
              "        buttonEl.style.display =\n",
              "          google.colab.kernel.accessAllowed ? 'block' : 'none';\n",
              "\n",
              "        async function convertToInteractive(key) {\n",
              "          const element = document.querySelector('#df-406bde01-3d08-48ac-997a-eadcb9a36ecd');\n",
              "          const dataTable =\n",
              "            await google.colab.kernel.invokeFunction('convertToInteractive',\n",
              "                                                     [key], {});\n",
              "          if (!dataTable) return;\n",
              "\n",
              "          const docLinkHtml = 'Like what you see? Visit the ' +\n",
              "            '<a target=\"_blank\" href=https://colab.research.google.com/notebooks/data_table.ipynb>data table notebook</a>'\n",
              "            + ' to learn more about interactive tables.';\n",
              "          element.innerHTML = '';\n",
              "          dataTable['output_type'] = 'display_data';\n",
              "          await google.colab.output.renderOutput(dataTable, element);\n",
              "          const docLink = document.createElement('div');\n",
              "          docLink.innerHTML = docLinkHtml;\n",
              "          element.appendChild(docLink);\n",
              "        }\n",
              "      </script>\n",
              "    </div>\n",
              "  </div>\n",
              "  "
            ]
          },
          "metadata": {},
          "execution_count": 45
        }
      ]
    },
    {
      "cell_type": "markdown",
      "source": [
        "#### Analisis de balance de clases"
      ],
      "metadata": {
        "id": "DTiFuRVMRzmA"
      },
      "id": "DTiFuRVMRzmA"
    },
    {
      "cell_type": "code",
      "source": [
        "clases = df_embedding['atraso_15'].value_counts()\n",
        "clases"
      ],
      "metadata": {
        "id": "DFbHEI8MSo52",
        "outputId": "12e6eb13-e183-4dfd-9ad1-5c5a9697f769",
        "colab": {
          "base_uri": "https://localhost:8080/"
        }
      },
      "id": "DFbHEI8MSo52",
      "execution_count": 46,
      "outputs": [
        {
          "output_type": "execute_result",
          "data": {
            "text/plain": [
              "0    55592\n",
              "1    12614\n",
              "Name: atraso_15, dtype: int64"
            ]
          },
          "metadata": {},
          "execution_count": 46
        }
      ]
    },
    {
      "cell_type": "markdown",
      "source": [
        "Las clases estan desbalanceadas"
      ],
      "metadata": {
        "id": "dD_RKGPCUlpL"
      },
      "id": "dD_RKGPCUlpL"
    },
    {
      "cell_type": "markdown",
      "source": [
        "#### Modelo de clasificacion: XGBoost"
      ],
      "metadata": {
        "id": "EavHtQHl6D31"
      },
      "id": "EavHtQHl6D31"
    },
    {
      "cell_type": "code",
      "source": [
        "from xgboost import XGBClassifier\n",
        "from sklearn.model_selection import train_test_split\n",
        "from sklearn.metrics import accuracy_score, precision_score, recall_score, f1_score\n",
        "from sklearn.metrics import roc_auc_score, roc_curve, auc\n",
        "from sklearn.model_selection import cross_val_score\n",
        "pd.options.display.float_format = '{:.4f}'.format"
      ],
      "metadata": {
        "id": "cC2f5tvcPEi5"
      },
      "id": "cC2f5tvcPEi5",
      "execution_count": 47,
      "outputs": []
    },
    {
      "cell_type": "code",
      "source": [
        "X = df_embedding.drop(['atraso_15'], axis=1)"
      ],
      "metadata": {
        "id": "-oAUf5QdHDdl"
      },
      "id": "-oAUf5QdHDdl",
      "execution_count": 48,
      "outputs": []
    },
    {
      "cell_type": "code",
      "source": [
        "y = df_transform.loc[:, df_transform.columns == \"atraso_15\" ]"
      ],
      "metadata": {
        "id": "PZgiuGHlGyFS"
      },
      "id": "PZgiuGHlGyFS",
      "execution_count": 49,
      "outputs": []
    },
    {
      "cell_type": "code",
      "source": [
        "# Dividir el conjunto de datos en entrenamiento y prueba\n",
        "X_train, X_test, y_train, y_test = train_test_split(X, y, test_size=0.2, random_state=42)"
      ],
      "metadata": {
        "id": "HuqxzkNrV-ij"
      },
      "id": "HuqxzkNrV-ij",
      "execution_count": 50,
      "outputs": []
    },
    {
      "cell_type": "code",
      "source": [
        "# Crear el modelo\n",
        "model_xgb = XGBClassifier(booster='dart', learning_rate=0.1, random_state=40)"
      ],
      "metadata": {
        "id": "RAab936hYgB8"
      },
      "id": "RAab936hYgB8",
      "execution_count": 51,
      "outputs": []
    },
    {
      "cell_type": "code",
      "source": [
        "# Entrenar el modelo\n",
        "model_xgb.fit(X_train, y_train)"
      ],
      "metadata": {
        "colab": {
          "base_uri": "https://localhost:8080/",
          "height": 248
        },
        "id": "oH3H8COCZNt1",
        "outputId": "dc6f1fe7-7873-4668-e260-0a82ed06cc1f"
      },
      "id": "oH3H8COCZNt1",
      "execution_count": 52,
      "outputs": [
        {
          "output_type": "execute_result",
          "data": {
            "text/plain": [
              "XGBClassifier(base_score=None, booster='dart', callbacks=None,\n",
              "              colsample_bylevel=None, colsample_bynode=None,\n",
              "              colsample_bytree=None, early_stopping_rounds=None,\n",
              "              enable_categorical=False, eval_metric=None, feature_types=None,\n",
              "              gamma=None, gpu_id=None, grow_policy=None, importance_type=None,\n",
              "              interaction_constraints=None, learning_rate=0.1, max_bin=None,\n",
              "              max_cat_threshold=None, max_cat_to_onehot=None,\n",
              "              max_delta_step=None, max_depth=None, max_leaves=None,\n",
              "              min_child_weight=None, missing=nan, monotone_constraints=None,\n",
              "              n_estimators=100, n_jobs=None, num_parallel_tree=None,\n",
              "              predictor=None, random_state=40, ...)"
            ],
            "text/html": [
              "<style>#sk-container-id-1 {color: black;background-color: white;}#sk-container-id-1 pre{padding: 0;}#sk-container-id-1 div.sk-toggleable {background-color: white;}#sk-container-id-1 label.sk-toggleable__label {cursor: pointer;display: block;width: 100%;margin-bottom: 0;padding: 0.3em;box-sizing: border-box;text-align: center;}#sk-container-id-1 label.sk-toggleable__label-arrow:before {content: \"▸\";float: left;margin-right: 0.25em;color: #696969;}#sk-container-id-1 label.sk-toggleable__label-arrow:hover:before {color: black;}#sk-container-id-1 div.sk-estimator:hover label.sk-toggleable__label-arrow:before {color: black;}#sk-container-id-1 div.sk-toggleable__content {max-height: 0;max-width: 0;overflow: hidden;text-align: left;background-color: #f0f8ff;}#sk-container-id-1 div.sk-toggleable__content pre {margin: 0.2em;color: black;border-radius: 0.25em;background-color: #f0f8ff;}#sk-container-id-1 input.sk-toggleable__control:checked~div.sk-toggleable__content {max-height: 200px;max-width: 100%;overflow: auto;}#sk-container-id-1 input.sk-toggleable__control:checked~label.sk-toggleable__label-arrow:before {content: \"▾\";}#sk-container-id-1 div.sk-estimator input.sk-toggleable__control:checked~label.sk-toggleable__label {background-color: #d4ebff;}#sk-container-id-1 div.sk-label input.sk-toggleable__control:checked~label.sk-toggleable__label {background-color: #d4ebff;}#sk-container-id-1 input.sk-hidden--visually {border: 0;clip: rect(1px 1px 1px 1px);clip: rect(1px, 1px, 1px, 1px);height: 1px;margin: -1px;overflow: hidden;padding: 0;position: absolute;width: 1px;}#sk-container-id-1 div.sk-estimator {font-family: monospace;background-color: #f0f8ff;border: 1px dotted black;border-radius: 0.25em;box-sizing: border-box;margin-bottom: 0.5em;}#sk-container-id-1 div.sk-estimator:hover {background-color: #d4ebff;}#sk-container-id-1 div.sk-parallel-item::after {content: \"\";width: 100%;border-bottom: 1px solid gray;flex-grow: 1;}#sk-container-id-1 div.sk-label:hover label.sk-toggleable__label {background-color: #d4ebff;}#sk-container-id-1 div.sk-serial::before {content: \"\";position: absolute;border-left: 1px solid gray;box-sizing: border-box;top: 0;bottom: 0;left: 50%;z-index: 0;}#sk-container-id-1 div.sk-serial {display: flex;flex-direction: column;align-items: center;background-color: white;padding-right: 0.2em;padding-left: 0.2em;position: relative;}#sk-container-id-1 div.sk-item {position: relative;z-index: 1;}#sk-container-id-1 div.sk-parallel {display: flex;align-items: stretch;justify-content: center;background-color: white;position: relative;}#sk-container-id-1 div.sk-item::before, #sk-container-id-1 div.sk-parallel-item::before {content: \"\";position: absolute;border-left: 1px solid gray;box-sizing: border-box;top: 0;bottom: 0;left: 50%;z-index: -1;}#sk-container-id-1 div.sk-parallel-item {display: flex;flex-direction: column;z-index: 1;position: relative;background-color: white;}#sk-container-id-1 div.sk-parallel-item:first-child::after {align-self: flex-end;width: 50%;}#sk-container-id-1 div.sk-parallel-item:last-child::after {align-self: flex-start;width: 50%;}#sk-container-id-1 div.sk-parallel-item:only-child::after {width: 0;}#sk-container-id-1 div.sk-dashed-wrapped {border: 1px dashed gray;margin: 0 0.4em 0.5em 0.4em;box-sizing: border-box;padding-bottom: 0.4em;background-color: white;}#sk-container-id-1 div.sk-label label {font-family: monospace;font-weight: bold;display: inline-block;line-height: 1.2em;}#sk-container-id-1 div.sk-label-container {text-align: center;}#sk-container-id-1 div.sk-container {/* jupyter's `normalize.less` sets `[hidden] { display: none; }` but bootstrap.min.css set `[hidden] { display: none !important; }` so we also need the `!important` here to be able to override the default hidden behavior on the sphinx rendered scikit-learn.org. See: https://github.com/scikit-learn/scikit-learn/issues/21755 */display: inline-block !important;position: relative;}#sk-container-id-1 div.sk-text-repr-fallback {display: none;}</style><div id=\"sk-container-id-1\" class=\"sk-top-container\"><div class=\"sk-text-repr-fallback\"><pre>XGBClassifier(base_score=None, booster=&#x27;dart&#x27;, callbacks=None,\n",
              "              colsample_bylevel=None, colsample_bynode=None,\n",
              "              colsample_bytree=None, early_stopping_rounds=None,\n",
              "              enable_categorical=False, eval_metric=None, feature_types=None,\n",
              "              gamma=None, gpu_id=None, grow_policy=None, importance_type=None,\n",
              "              interaction_constraints=None, learning_rate=0.1, max_bin=None,\n",
              "              max_cat_threshold=None, max_cat_to_onehot=None,\n",
              "              max_delta_step=None, max_depth=None, max_leaves=None,\n",
              "              min_child_weight=None, missing=nan, monotone_constraints=None,\n",
              "              n_estimators=100, n_jobs=None, num_parallel_tree=None,\n",
              "              predictor=None, random_state=40, ...)</pre><b>In a Jupyter environment, please rerun this cell to show the HTML representation or trust the notebook. <br />On GitHub, the HTML representation is unable to render, please try loading this page with nbviewer.org.</b></div><div class=\"sk-container\" hidden><div class=\"sk-item\"><div class=\"sk-estimator sk-toggleable\"><input class=\"sk-toggleable__control sk-hidden--visually\" id=\"sk-estimator-id-1\" type=\"checkbox\" checked><label for=\"sk-estimator-id-1\" class=\"sk-toggleable__label sk-toggleable__label-arrow\">XGBClassifier</label><div class=\"sk-toggleable__content\"><pre>XGBClassifier(base_score=None, booster=&#x27;dart&#x27;, callbacks=None,\n",
              "              colsample_bylevel=None, colsample_bynode=None,\n",
              "              colsample_bytree=None, early_stopping_rounds=None,\n",
              "              enable_categorical=False, eval_metric=None, feature_types=None,\n",
              "              gamma=None, gpu_id=None, grow_policy=None, importance_type=None,\n",
              "              interaction_constraints=None, learning_rate=0.1, max_bin=None,\n",
              "              max_cat_threshold=None, max_cat_to_onehot=None,\n",
              "              max_delta_step=None, max_depth=None, max_leaves=None,\n",
              "              min_child_weight=None, missing=nan, monotone_constraints=None,\n",
              "              n_estimators=100, n_jobs=None, num_parallel_tree=None,\n",
              "              predictor=None, random_state=40, ...)</pre></div></div></div></div></div>"
            ]
          },
          "metadata": {},
          "execution_count": 52
        }
      ]
    },
    {
      "cell_type": "code",
      "source": [
        "# Estimaciones\n",
        "predictions_xgb = model_xgb.predict(X_test)"
      ],
      "metadata": {
        "id": "YY24EZ2_ZQ-z"
      },
      "id": "YY24EZ2_ZQ-z",
      "execution_count": 53,
      "outputs": []
    },
    {
      "cell_type": "markdown",
      "source": [
        "##### Evaluacion"
      ],
      "metadata": {
        "id": "QYYUqHdeM-nz"
      },
      "id": "QYYUqHdeM-nz"
    },
    {
      "cell_type": "code",
      "source": [
        "accuracy = accuracy_score(y_test, predictions_xgb)\n",
        "print(\"Accuracy: %.2f%%\" % (accuracy * 100.0))"
      ],
      "metadata": {
        "colab": {
          "base_uri": "https://localhost:8080/"
        },
        "id": "mhcvUnT8JX1I",
        "outputId": "3048ad78-e81d-4ac4-9508-ae2f7a0912ec"
      },
      "id": "mhcvUnT8JX1I",
      "execution_count": 54,
      "outputs": [
        {
          "output_type": "stream",
          "name": "stdout",
          "text": [
            "Accuracy: 100.00%\n"
          ]
        }
      ]
    },
    {
      "cell_type": "code",
      "source": [
        "# Funcion evaluadora\n",
        "def matrizConfusion(modelo, nombre, y_train, y_test, y_pred_train, y_pred_test):\n",
        "\n",
        "    accuracy_train = round(accuracy_score(y_train, y_pred_train, normalize = True),4)\n",
        "    accuracy_test  = round(accuracy_score(y_test, y_pred_test, normalize = True),4)\n",
        "\n",
        "    precision = round(precision_score(y_test, y_pred_test),4)\n",
        "    recall = round(recall_score(y_test, y_pred_test),4)\n",
        "    f1 = round(f1_score(y_test, y_pred_test),4)\n",
        "    auc = round(roc_auc_score(y_test, modelo.predict_proba(X_test)[:,1]),4)\n",
        "\n",
        "    text_to_print = ''\n",
        "    confusion_matrix = pd.crosstab(y_test.iloc[:,0].ravel(), y_pred_test, rownames=['Real'], colnames=['Predicción'])\n",
        "    group_names = ['Verd Neg','Falso Pos','Falso Neg','Verd Pos']\n",
        "    group_counts = ['{0:0.0f}'.format(value) for value in  confusion_matrix.values.reshape(-1)]\n",
        "    group_percentages = [\"{0:.2%}\".format(value) for value in confusion_matrix.values.reshape(-1)/np.sum(confusion_matrix.values)]\n",
        "    labels = [f'{v1}\\n{v2}\\n{v3}' for v1, v2, v3 in zip(group_names, group_counts, group_percentages)]\n",
        "    labels = np.asarray(labels).reshape(2,2)\n",
        "\n",
        "    fig, axs = plt.subplots(1,2, figsize=(8,4), gridspec_kw = {'width_ratios':[1, 1]})\n",
        "    txt  = axs[0]\n",
        "    ax = axs[1]\n",
        "    fig.suptitle(type(modelo).__name__+\"-\"+nombre, fontsize=14, fontweight='bold')\n",
        "    txt.set_title(\"Datos de Evaluación\")\n",
        "    ax.set_title(\"Matriz de confusion\")\n",
        "    txt.axis(\"off\")\n",
        "    text_to_print = text_to_print + 'Train Accuracy = ' + str(accuracy_train) + '\\n'\n",
        "    text_to_print = text_to_print + 'Test  Accuracy = ' + str(accuracy_test) + '\\n\\n'\n",
        "    text_to_print = text_to_print + 'Precision      = ' + str(precision) + '\\n'\n",
        "    text_to_print = text_to_print + 'Recall         = ' + str(recall) + '\\n'\n",
        "    text_to_print = text_to_print + 'F1 Score       = ' + str(f1) + '\\n\\n'\n",
        "    text_to_print = text_to_print + 'AUC            = ' + str(auc) + '\\n\\n'\n",
        "    text_to_print = text_to_print + 'Cant. Total datos Test = ' + str(np.sum(confusion_matrix.values))\n",
        "    txt.text(0, 0.95, text_to_print, fontsize=14, verticalalignment='top');\n",
        "    ax = sns.heatmap(confusion_matrix/np.sum(confusion_matrix), annot=labels, fmt='', cmap='Blues', cbar=None, annot_kws={\"size\":14})\n",
        "    return [type(modelo).__name__, nombre, auc, precision, recall, f1, accuracy_train, accuracy_test]"
      ],
      "metadata": {
        "id": "-OsXHo3qKNiI"
      },
      "id": "-OsXHo3qKNiI",
      "execution_count": 55,
      "outputs": []
    },
    {
      "cell_type": "code",
      "source": [
        "# Contenedor de resultados\n",
        "columns = [\"Modelo\", \"Nombre\", \"AUC\", \"Precision\", \"Recall\", \"F1\", \"Accuracy Train\", \"Accuracy Test\"]\n",
        "df_result = pd.DataFrame(columns=columns)"
      ],
      "metadata": {
        "id": "NlssAVU-Ldm4"
      },
      "id": "NlssAVU-Ldm4",
      "execution_count": 56,
      "outputs": []
    },
    {
      "cell_type": "code",
      "source": [
        "y_pred_train_xgb = model_xgb.predict(X_train)\n",
        "y_pred_test_xgb = model_xgb.predict(X_test)"
      ],
      "metadata": {
        "id": "FkZpnDDILetf"
      },
      "id": "FkZpnDDILetf",
      "execution_count": 57,
      "outputs": []
    },
    {
      "cell_type": "code",
      "source": [
        "df_result = pd.concat([df_result, pd.DataFrame([matrizConfusion(model_xgb, \"model_xgb\", y_train, y_test, y_pred_train_xgb, y_pred_test_xgb)], columns=columns)])"
      ],
      "metadata": {
        "colab": {
          "base_uri": "https://localhost:8080/",
          "height": 428
        },
        "id": "LjmsmhzHLhxq",
        "outputId": "60f10025-be91-44c1-a2fb-77a05c0fed91"
      },
      "id": "LjmsmhzHLhxq",
      "execution_count": 58,
      "outputs": [
        {
          "output_type": "display_data",
          "data": {
            "text/plain": [
              "<Figure size 800x400 with 2 Axes>"
            ],
            "image/png": "[encoded data removed]"
          },
          "metadata": {}
        }
      ]
    },
    {
      "cell_type": "markdown",
      "source": [
        "##### Conclusiones\n",
        "\n",
        "- 1. El modelo presenta un buen rendimiento a priori pero XGBoost es superior, podríamos estar en presencia de overfitting aún habiendo aplicado una compensación en los hiperparámetros para balancear las clases en el modelo, sin embargo otra alternativa para someter a evaluación es proporcionar con datos sinteticos un balance de clases (oversampling / undersampling) y evaluar el modelo.\n",
        "\n",
        "- 2. No se ha trabajado en la búsqueda de hiperparámetros, se utilizaron los hiperparametros por default.\n",
        "\n",
        "- 3. Se procede a modelar con un regresor logístico para evaluar rendimiento ajustando por hiperparámetro el desbalance de clases.\n"
      ],
      "metadata": {
        "id": "7vzcz4-gVagC"
      },
      "id": "7vzcz4-gVagC"
    },
    {
      "cell_type": "markdown",
      "source": [
        "### Modelo de clasificación: REGRESION LOGISTICA"
      ],
      "metadata": {
        "id": "9EX2GApopbAb"
      },
      "id": "9EX2GApopbAb"
    },
    {
      "cell_type": "markdown",
      "source": [
        "Se utilizará un modelo de regresion logística para compara rendimientos, utilizando el hiperparámetro class_weight = 'balanced', para que ayudar a mitigar el problema del desbalance de clases."
      ],
      "metadata": {
        "id": "_jygAf2Csiwx"
      },
      "id": "_jygAf2Csiwx"
    },
    {
      "cell_type": "code",
      "source": [
        "from sklearn.linear_model import LogisticRegression"
      ],
      "metadata": {
        "id": "YkEorcv3rl6q"
      },
      "id": "YkEorcv3rl6q",
      "execution_count": 59,
      "outputs": []
    },
    {
      "cell_type": "code",
      "source": [
        "# Crea el modelo\n",
        "model_lr = LogisticRegression(class_weight = 'balanced', random_state=42)"
      ],
      "metadata": {
        "id": "FV1TvQNIqWJK"
      },
      "id": "FV1TvQNIqWJK",
      "execution_count": 60,
      "outputs": []
    },
    {
      "cell_type": "code",
      "source": [
        "# Entrenar el modelo\n",
        "model_lr.fit(X_train, y_train)"
      ],
      "metadata": {
        "colab": {
          "base_uri": "https://localhost:8080/",
          "height": 74
        },
        "id": "3YyjN9uttBP_",
        "outputId": "2f794154-6532-4cae-a907-a62afa187238"
      },
      "id": "3YyjN9uttBP_",
      "execution_count": 61,
      "outputs": [
        {
          "output_type": "execute_result",
          "data": {
            "text/plain": [
              "LogisticRegression(class_weight='balanced', random_state=42)"
            ],
            "text/html": [
              "<style>#sk-container-id-2 {color: black;background-color: white;}#sk-container-id-2 pre{padding: 0;}#sk-container-id-2 div.sk-toggleable {background-color: white;}#sk-container-id-2 label.sk-toggleable__label {cursor: pointer;display: block;width: 100%;margin-bottom: 0;padding: 0.3em;box-sizing: border-box;text-align: center;}#sk-container-id-2 label.sk-toggleable__label-arrow:before {content: \"▸\";float: left;margin-right: 0.25em;color: #696969;}#sk-container-id-2 label.sk-toggleable__label-arrow:hover:before {color: black;}#sk-container-id-2 div.sk-estimator:hover label.sk-toggleable__label-arrow:before {color: black;}#sk-container-id-2 div.sk-toggleable__content {max-height: 0;max-width: 0;overflow: hidden;text-align: left;background-color: #f0f8ff;}#sk-container-id-2 div.sk-toggleable__content pre {margin: 0.2em;color: black;border-radius: 0.25em;background-color: #f0f8ff;}#sk-container-id-2 input.sk-toggleable__control:checked~div.sk-toggleable__content {max-height: 200px;max-width: 100%;overflow: auto;}#sk-container-id-2 input.sk-toggleable__control:checked~label.sk-toggleable__label-arrow:before {content: \"▾\";}#sk-container-id-2 div.sk-estimator input.sk-toggleable__control:checked~label.sk-toggleable__label {background-color: #d4ebff;}#sk-container-id-2 div.sk-label input.sk-toggleable__control:checked~label.sk-toggleable__label {background-color: #d4ebff;}#sk-container-id-2 input.sk-hidden--visually {border: 0;clip: rect(1px 1px 1px 1px);clip: rect(1px, 1px, 1px, 1px);height: 1px;margin: -1px;overflow: hidden;padding: 0;position: absolute;width: 1px;}#sk-container-id-2 div.sk-estimator {font-family: monospace;background-color: #f0f8ff;border: 1px dotted black;border-radius: 0.25em;box-sizing: border-box;margin-bottom: 0.5em;}#sk-container-id-2 div.sk-estimator:hover {background-color: #d4ebff;}#sk-container-id-2 div.sk-parallel-item::after {content: \"\";width: 100%;border-bottom: 1px solid gray;flex-grow: 1;}#sk-container-id-2 div.sk-label:hover label.sk-toggleable__label {background-color: #d4ebff;}#sk-container-id-2 div.sk-serial::before {content: \"\";position: absolute;border-left: 1px solid gray;box-sizing: border-box;top: 0;bottom: 0;left: 50%;z-index: 0;}#sk-container-id-2 div.sk-serial {display: flex;flex-direction: column;align-items: center;background-color: white;padding-right: 0.2em;padding-left: 0.2em;position: relative;}#sk-container-id-2 div.sk-item {position: relative;z-index: 1;}#sk-container-id-2 div.sk-parallel {display: flex;align-items: stretch;justify-content: center;background-color: white;position: relative;}#sk-container-id-2 div.sk-item::before, #sk-container-id-2 div.sk-parallel-item::before {content: \"\";position: absolute;border-left: 1px solid gray;box-sizing: border-box;top: 0;bottom: 0;left: 50%;z-index: -1;}#sk-container-id-2 div.sk-parallel-item {display: flex;flex-direction: column;z-index: 1;position: relative;background-color: white;}#sk-container-id-2 div.sk-parallel-item:first-child::after {align-self: flex-end;width: 50%;}#sk-container-id-2 div.sk-parallel-item:last-child::after {align-self: flex-start;width: 50%;}#sk-container-id-2 div.sk-parallel-item:only-child::after {width: 0;}#sk-container-id-2 div.sk-dashed-wrapped {border: 1px dashed gray;margin: 0 0.4em 0.5em 0.4em;box-sizing: border-box;padding-bottom: 0.4em;background-color: white;}#sk-container-id-2 div.sk-label label {font-family: monospace;font-weight: bold;display: inline-block;line-height: 1.2em;}#sk-container-id-2 div.sk-label-container {text-align: center;}#sk-container-id-2 div.sk-container {/* jupyter's `normalize.less` sets `[hidden] { display: none; }` but bootstrap.min.css set `[hidden] { display: none !important; }` so we also need the `!important` here to be able to override the default hidden behavior on the sphinx rendered scikit-learn.org. See: https://github.com/scikit-learn/scikit-learn/issues/21755 */display: inline-block !important;position: relative;}#sk-container-id-2 div.sk-text-repr-fallback {display: none;}</style><div id=\"sk-container-id-2\" class=\"sk-top-container\"><div class=\"sk-text-repr-fallback\"><pre>LogisticRegression(class_weight=&#x27;balanced&#x27;, random_state=42)</pre><b>In a Jupyter environment, please rerun this cell to show the HTML representation or trust the notebook. <br />On GitHub, the HTML representation is unable to render, please try loading this page with nbviewer.org.</b></div><div class=\"sk-container\" hidden><div class=\"sk-item\"><div class=\"sk-estimator sk-toggleable\"><input class=\"sk-toggleable__control sk-hidden--visually\" id=\"sk-estimator-id-2\" type=\"checkbox\" checked><label for=\"sk-estimator-id-2\" class=\"sk-toggleable__label sk-toggleable__label-arrow\">LogisticRegression</label><div class=\"sk-toggleable__content\"><pre>LogisticRegression(class_weight=&#x27;balanced&#x27;, random_state=42)</pre></div></div></div></div></div>"
            ]
          },
          "metadata": {},
          "execution_count": 61
        }
      ]
    },
    {
      "cell_type": "code",
      "source": [
        "# Estimaciones\n",
        "predictions_lr = model_lr.predict(X_test)"
      ],
      "metadata": {
        "id": "zXICHHs3tIu8"
      },
      "id": "zXICHHs3tIu8",
      "execution_count": 62,
      "outputs": []
    },
    {
      "cell_type": "markdown",
      "source": [
        "##### Evaluacion"
      ],
      "metadata": {
        "id": "31z4zXyvtlHt"
      },
      "id": "31z4zXyvtlHt"
    },
    {
      "cell_type": "code",
      "source": [
        "accuracy = accuracy_score(y_test, predictions_lr)\n",
        "print(\"Accuracy: %.2f%%\" % (accuracy * 100.0))"
      ],
      "metadata": {
        "colab": {
          "base_uri": "https://localhost:8080/"
        },
        "id": "Dk4ugf_utgan",
        "outputId": "1b0c365f-1235-489c-8272-9680f031f443"
      },
      "id": "Dk4ugf_utgan",
      "execution_count": 63,
      "outputs": [
        {
          "output_type": "stream",
          "name": "stdout",
          "text": [
            "Accuracy: 99.83%\n"
          ]
        }
      ]
    },
    {
      "cell_type": "code",
      "source": [
        "y_pred_train_lr = model_lr.predict(X_train)\n",
        "y_pred_test_lr = model_lr.predict(X_test)"
      ],
      "metadata": {
        "id": "V5oHTibvto4k"
      },
      "id": "V5oHTibvto4k",
      "execution_count": 64,
      "outputs": []
    },
    {
      "cell_type": "code",
      "source": [
        "df_result = pd.concat([df_result, pd.DataFrame([matrizConfusion(model_lr, \"model_lr\", y_train, y_test, y_pred_train_lr, y_pred_test_lr)], columns=columns)])"
      ],
      "metadata": {
        "colab": {
          "base_uri": "https://localhost:8080/",
          "height": 428
        },
        "id": "UtMujgSBt1Vb",
        "outputId": "739b5dc1-71a6-4fe7-cd7c-b23e3706d313"
      },
      "id": "UtMujgSBt1Vb",
      "execution_count": 65,
      "outputs": [
        {
          "output_type": "display_data",
          "data": {
            "text/plain": [
              "<Figure size 800x400 with 2 Axes>"
            ],
            "image/png": "[encoded data removed]"
          },
          "metadata": {}
        }
      ]
    },
    {
      "cell_type": "code",
      "source": [
        "df_result"
      ],
      "metadata": {
        "colab": {
          "base_uri": "https://localhost:8080/",
          "height": 112
        },
        "id": "QG4fk9GTt-bD",
        "outputId": "d538208b-85cb-45f1-a4ad-63f53a58e169"
      },
      "id": "QG4fk9GTt-bD",
      "execution_count": 66,
      "outputs": [
        {
          "output_type": "execute_result",
          "data": {
            "text/plain": [
              "               Modelo     Nombre    AUC  Precision  Recall     F1  \\\n",
              "0       XGBClassifier  model_xgb 1.0000     1.0000  1.0000 1.0000   \n",
              "0  LogisticRegression   model_lr 1.0000     0.9911  1.0000 0.9956   \n",
              "\n",
              "   Accuracy Train  Accuracy Test  \n",
              "0          1.0000         1.0000  \n",
              "0          0.9981         0.9983  "
            ],
            "text/html": [
              "\n",
              "  <div id=\"df-bb668606-187c-4b82-95f5-7a1cbce527c0\">\n",
              "    <div class=\"colab-df-container\">\n",
              "      <div>\n",
              "<style scoped>\n",
              "    .dataframe tbody tr th:only-of-type {\n",
              "        vertical-align: middle;\n",
              "    }\n",
              "\n",
              "    .dataframe tbody tr th {\n",
              "        vertical-align: top;\n",
              "    }\n",
              "\n",
              "    .dataframe thead th {\n",
              "        text-align: right;\n",
              "    }\n",
              "</style>\n",
              "<table border=\"1\" class=\"dataframe\">\n",
              "  <thead>\n",
              "    <tr style=\"text-align: right;\">\n",
              "      <th></th>\n",
              "      <th>Modelo</th>\n",
              "      <th>Nombre</th>\n",
              "      <th>AUC</th>\n",
              "      <th>Precision</th>\n",
              "      <th>Recall</th>\n",
              "      <th>F1</th>\n",
              "      <th>Accuracy Train</th>\n",
              "      <th>Accuracy Test</th>\n",
              "    </tr>\n",
              "  </thead>\n",
              "  <tbody>\n",
              "    <tr>\n",
              "      <th>0</th>\n",
              "      <td>XGBClassifier</td>\n",
              "      <td>model_xgb</td>\n",
              "      <td>1.0000</td>\n",
              "      <td>1.0000</td>\n",
              "      <td>1.0000</td>\n",
              "      <td>1.0000</td>\n",
              "      <td>1.0000</td>\n",
              "      <td>1.0000</td>\n",
              "    </tr>\n",
              "    <tr>\n",
              "      <th>0</th>\n",
              "      <td>LogisticRegression</td>\n",
              "      <td>model_lr</td>\n",
              "      <td>1.0000</td>\n",
              "      <td>0.9911</td>\n",
              "      <td>1.0000</td>\n",
              "      <td>0.9956</td>\n",
              "      <td>0.9981</td>\n",
              "      <td>0.9983</td>\n",
              "    </tr>\n",
              "  </tbody>\n",
              "</table>\n",
              "</div>\n",
              "      <button class=\"colab-df-convert\" onclick=\"convertToInteractive('df-bb668606-187c-4b82-95f5-7a1cbce527c0')\"\n",
              "              title=\"Convert this dataframe to an interactive table.\"\n",
              "              style=\"display:none;\">\n",
              "        \n",
              "  <svg xmlns=\"http://www.w3.org/2000/svg\" height=\"24px\"viewBox=\"0 0 24 24\"\n",
              "       width=\"24px\">\n",
              "    <path d=\"M0 0h24v24H0V0z\" fill=\"none\"/>\n",
              "    <path d=\"M18.56 5.44l.94 2.06.94-2.06 2.06-.94-2.06-.94-.94-2.06-.94 2.06-2.06.94zm-11 1L8.5 8.5l.94-2.06 2.06-.94-2.06-.94L8.5 2.5l-.94 2.06-2.06.94zm10 10l.94 2.06.94-2.06 2.06-.94-2.06-.94-.94-2.06-.94 2.06-2.06.94z\"/><path d=\"M17.41 7.96l-1.37-1.37c-.4-.4-.92-.59-1.43-.59-.52 0-1.04.2-1.43.59L10.3 9.45l-7.72 7.72c-.78.78-.78 2.05 0 2.83L4 21.41c.39.39.9.59 1.41.59.51 0 1.02-.2 1.41-.59l7.78-7.78 2.81-2.81c.8-.78.8-2.07 0-2.86zM5.41 20L4 18.59l7.72-7.72 1.47 1.35L5.41 20z\"/>\n",
              "  </svg>\n",
              "      </button>\n",
              "      \n",
              "  <style>\n",
              "    .colab-df-container {\n",
              "      display:flex;\n",
              "      flex-wrap:wrap;\n",
              "      gap: 12px;\n",
              "    }\n",
              "\n",
              "    .colab-df-convert {\n",
              "      background-color: #E8F0FE;\n",
              "      border: none;\n",
              "      border-radius: 50%;\n",
              "      cursor: pointer;\n",
              "      display: none;\n",
              "      fill: #1967D2;\n",
              "      height: 32px;\n",
              "      padding: 0 0 0 0;\n",
              "      width: 32px;\n",
              "    }\n",
              "\n",
              "    .colab-df-convert:hover {\n",
              "      background-color: #E2EBFA;\n",
              "      box-shadow: 0px 1px 2px rgba(60, 64, 67, 0.3), 0px 1px 3px 1px rgba(60, 64, 67, 0.15);\n",
              "      fill: #174EA6;\n",
              "    }\n",
              "\n",
              "    [theme=dark] .colab-df-convert {\n",
              "      background-color: #3B4455;\n",
              "      fill: #D2E3FC;\n",
              "    }\n",
              "\n",
              "    [theme=dark] .colab-df-convert:hover {\n",
              "      background-color: #434B5C;\n",
              "      box-shadow: 0px 1px 3px 1px rgba(0, 0, 0, 0.15);\n",
              "      filter: drop-shadow(0px 1px 2px rgba(0, 0, 0, 0.3));\n",
              "      fill: #FFFFFF;\n",
              "    }\n",
              "  </style>\n",
              "\n",
              "      <script>\n",
              "        const buttonEl =\n",
              "          document.querySelector('#df-bb668606-187c-4b82-95f5-7a1cbce527c0 button.colab-df-convert');\n",
              "        buttonEl.style.display =\n",
              "          google.colab.kernel.accessAllowed ? 'block' : 'none';\n",
              "\n",
              "        async function convertToInteractive(key) {\n",
              "          const element = document.querySelector('#df-bb668606-187c-4b82-95f5-7a1cbce527c0');\n",
              "          const dataTable =\n",
              "            await google.colab.kernel.invokeFunction('convertToInteractive',\n",
              "                                                     [key], {});\n",
              "          if (!dataTable) return;\n",
              "\n",
              "          const docLinkHtml = 'Like what you see? Visit the ' +\n",
              "            '<a target=\"_blank\" href=https://colab.research.google.com/notebooks/data_table.ipynb>data table notebook</a>'\n",
              "            + ' to learn more about interactive tables.';\n",
              "          element.innerHTML = '';\n",
              "          dataTable['output_type'] = 'display_data';\n",
              "          await google.colab.output.renderOutput(dataTable, element);\n",
              "          const docLink = document.createElement('div');\n",
              "          docLink.innerHTML = docLinkHtml;\n",
              "          element.appendChild(docLink);\n",
              "        }\n",
              "      </script>\n",
              "    </div>\n",
              "  </div>\n",
              "  "
            ]
          },
          "metadata": {},
          "execution_count": 66
        }
      ]
    },
    {
      "cell_type": "markdown",
      "source": [
        "##### Conclusiones\n",
        "\n",
        "- 1. El modelo presenta un buen rendimiento a priori pero XGBoost es superior, podríamos estar en presencia de overfitting aún habiendo aplicado una compensación para balancear las clases en este modelo. Otra alternativa para someter a evaluación es proporcionar datos sinteticos y balancear las clases (oversampling / undersampling) y luego evaluar el modelo.\n",
        "\n",
        "- 2. No se ha trabajado en la búsqueda de hiperparámetros, se utilizaron los hiperparametros por default.\n",
        "\n",
        "- 3. No se incluye el modelo de regresión para estimar cantidad de minutos de atraso por despegue, pero es válido tenerlo en cuenta para complementarlo."
      ],
      "metadata": {
        "id": "hP5Vi9xxAZY0"
      },
      "id": "hP5Vi9xxAZY0"
    },
    {
      "cell_type": "markdown",
      "source": [
        "## Consideraciones finales\n",
        "\n",
        "- Es importante aclarar que no se cuenta con información adicional que ayude a establecer las causas de los atrasos, como por ejemplo el estado del tiempo de los vuelos, o problemas de índole sindical que afecte el normal funcionamiento de los servicios, etc."
      ],
      "metadata": {
        "id": "Qs2Ozlo2H8Y-"
      },
      "id": "Qs2Ozlo2H8Y-"
    },
    {
      "cell_type": "code",
      "source": [],
      "metadata": {
        "id": "lKa5IJUOIe4F"
      },
      "id": "lKa5IJUOIe4F",
      "execution_count": null,
      "outputs": []
    }
  ],
  "metadata": {
    "kernelspec": {
      "display_name": "Python 3 (ipykernel)",
      "language": "python",
      "name": "python3"
    },
    "language_info": {
      "codemirror_mode": {
        "name": "ipython",
        "version": 3
      },
      "file_extension": ".py",
      "mimetype": "text/x-python",
      "name": "python",
      "nbconvert_exporter": "python",
      "pygments_lexer": "ipython3",
      "version": "3.8.11"
    },
    "colab": {
      "provenance": [],
      "include_colab_link": true
    }
  },
  "nbformat": 4,
  "nbformat_minor": 5
}